{
 "cells": [
  {
   "cell_type": "code",
   "execution_count": 96,
   "metadata": {
    "ExecuteTime": {
     "end_time": "2021-08-11T04:27:48.031878Z",
     "start_time": "2021-08-11T04:27:47.947911Z"
    }
   },
   "outputs": [
    {
     "name": "stdout",
     "output_type": "stream",
     "text": [
      "The autoreload extension is already loaded. To reload it, use:\n",
      "  %reload_ext autoreload\n"
     ]
    }
   ],
   "source": [
    "import pandas as pd\n",
    "import seaborn as sns\n",
    "import matplotlib.pyplot as plt\n",
    "import numpy as np\n",
    "%load_ext autoreload\n",
    "%autoreload 2\n",
    "from generic.latexify import *"
   ]
  },
  {
   "cell_type": "code",
   "execution_count": 97,
   "metadata": {
    "ExecuteTime": {
     "end_time": "2021-08-11T04:27:49.285091Z",
     "start_time": "2021-08-11T04:27:49.193877Z"
    }
   },
   "outputs": [],
   "source": [
    "from visualization.settings import *\n",
    "from visualization.helpers import *\n",
    "from visualization.paperplots_20210706 import *"
   ]
  },
  {
   "cell_type": "code",
   "execution_count": 98,
   "metadata": {
    "ExecuteTime": {
     "end_time": "2021-08-11T04:27:50.589882Z",
     "start_time": "2021-08-11T04:27:50.497889Z"
    }
   },
   "outputs": [],
   "source": [
    "from optimize.analyze_results import *"
   ]
  },
  {
   "cell_type": "markdown",
   "metadata": {},
   "source": [
    "# Load the data"
   ]
  },
  {
   "cell_type": "code",
   "execution_count": 99,
   "metadata": {
    "ExecuteTime": {
     "end_time": "2021-08-11T04:27:51.866018Z",
     "start_time": "2021-08-11T04:27:51.788878Z"
    }
   },
   "outputs": [],
   "source": [
    "template = 'combined_directfromoptimization3'\n",
    "path = 'cached_values/outputs/organized'"
   ]
  },
  {
   "cell_type": "code",
   "execution_count": 100,
   "metadata": {
    "ExecuteTime": {
     "end_time": "2021-08-11T04:27:53.045054Z",
     "start_time": "2021-08-11T04:27:52.966883Z"
    }
   },
   "outputs": [],
   "source": [
    "methods = ['thiele_pav', 'thiele_independent', 'thiele_squared']"
   ]
  },
  {
   "cell_type": "code",
   "execution_count": 101,
   "metadata": {
    "ExecuteTime": {
     "end_time": "2021-08-11T04:28:24.895779Z",
     "start_time": "2021-08-11T04:27:54.126877Z"
    },
    "scrolled": true
   },
   "outputs": [],
   "source": [
    "dfs = {method:load_organized_df(path, template, method, directfromoptimization = True) for method in methods}"
   ]
  },
  {
   "cell_type": "code",
   "execution_count": 102,
   "metadata": {
    "ExecuteTime": {
     "end_time": "2021-08-11T04:28:26.242780Z",
     "start_time": "2021-08-11T04:28:26.149781Z"
    }
   },
   "outputs": [
    {
     "data": {
      "text/html": [
       "<div>\n",
       "<style scoped>\n",
       "    .dataframe tbody tr th:only-of-type {\n",
       "        vertical-align: middle;\n",
       "    }\n",
       "\n",
       "    .dataframe tbody tr th {\n",
       "        vertical-align: top;\n",
       "    }\n",
       "\n",
       "    .dataframe thead th {\n",
       "        text-align: right;\n",
       "    }\n",
       "</style>\n",
       "<table border=\"1\" class=\"dataframe\">\n",
       "  <thead>\n",
       "    <tr style=\"text-align: right;\">\n",
       "      <th></th>\n",
       "      <th>state</th>\n",
       "      <th>N_districts</th>\n",
       "      <th>total_winners</th>\n",
       "      <th>optimization</th>\n",
       "      <th>N_winners_Republican</th>\n",
       "      <th>district_vote_shares</th>\n",
       "      <th>district_n_winners</th>\n",
       "      <th>district_n_winners_Republican</th>\n",
       "      <th>fraction_voters_Republican</th>\n",
       "      <th>fraction_winners_Republican</th>\n",
       "    </tr>\n",
       "  </thead>\n",
       "  <tbody>\n",
       "    <tr>\n",
       "      <th>0</th>\n",
       "      <td>AL</td>\n",
       "      <td>2</td>\n",
       "      <td>7.0</td>\n",
       "      <td>subsampled</td>\n",
       "      <td>5.0</td>\n",
       "      <td>[0.577523632049046, 0.6536182589987019]</td>\n",
       "      <td>[3.0, 4.0]</td>\n",
       "      <td>[2.0, 3.0]</td>\n",
       "      <td>0.621538</td>\n",
       "      <td>0.714286</td>\n",
       "    </tr>\n",
       "    <tr>\n",
       "      <th>1</th>\n",
       "      <td>AL</td>\n",
       "      <td>2</td>\n",
       "      <td>7.0</td>\n",
       "      <td>subsampled</td>\n",
       "      <td>5.0</td>\n",
       "      <td>[0.6035623253330643, 0.6350188375702465]</td>\n",
       "      <td>[3.0, 4.0]</td>\n",
       "      <td>[2.0, 3.0]</td>\n",
       "      <td>0.621538</td>\n",
       "      <td>0.714286</td>\n",
       "    </tr>\n",
       "    <tr>\n",
       "      <th>2</th>\n",
       "      <td>AL</td>\n",
       "      <td>2</td>\n",
       "      <td>7.0</td>\n",
       "      <td>subsampled</td>\n",
       "      <td>5.0</td>\n",
       "      <td>[0.5985857215047582, 0.6382106836233474]</td>\n",
       "      <td>[3.0, 4.0]</td>\n",
       "      <td>[2.0, 3.0]</td>\n",
       "      <td>0.621538</td>\n",
       "      <td>0.714286</td>\n",
       "    </tr>\n",
       "    <tr>\n",
       "      <th>3</th>\n",
       "      <td>AL</td>\n",
       "      <td>2</td>\n",
       "      <td>7.0</td>\n",
       "      <td>subsampled</td>\n",
       "      <td>5.0</td>\n",
       "      <td>[0.5782642444679665, 0.6534013517327284]</td>\n",
       "      <td>[3.0, 4.0]</td>\n",
       "      <td>[2.0, 3.0]</td>\n",
       "      <td>0.621538</td>\n",
       "      <td>0.714286</td>\n",
       "    </tr>\n",
       "    <tr>\n",
       "      <th>4</th>\n",
       "      <td>AL</td>\n",
       "      <td>2</td>\n",
       "      <td>7.0</td>\n",
       "      <td>subsampled</td>\n",
       "      <td>5.0</td>\n",
       "      <td>[0.578760630831505, 0.6531061575074502]</td>\n",
       "      <td>[3.0, 4.0]</td>\n",
       "      <td>[2.0, 3.0]</td>\n",
       "      <td>0.621538</td>\n",
       "      <td>0.714286</td>\n",
       "    </tr>\n",
       "  </tbody>\n",
       "</table>\n",
       "</div>"
      ],
      "text/plain": [
       "  state  N_districts  total_winners optimization  N_winners_Republican  \\\n",
       "0    AL            2            7.0   subsampled                   5.0   \n",
       "1    AL            2            7.0   subsampled                   5.0   \n",
       "2    AL            2            7.0   subsampled                   5.0   \n",
       "3    AL            2            7.0   subsampled                   5.0   \n",
       "4    AL            2            7.0   subsampled                   5.0   \n",
       "\n",
       "                       district_vote_shares district_n_winners  \\\n",
       "0   [0.577523632049046, 0.6536182589987019]         [3.0, 4.0]   \n",
       "1  [0.6035623253330643, 0.6350188375702465]         [3.0, 4.0]   \n",
       "2  [0.5985857215047582, 0.6382106836233474]         [3.0, 4.0]   \n",
       "3  [0.5782642444679665, 0.6534013517327284]         [3.0, 4.0]   \n",
       "4   [0.578760630831505, 0.6531061575074502]         [3.0, 4.0]   \n",
       "\n",
       "  district_n_winners_Republican  fraction_voters_Republican  \\\n",
       "0                    [2.0, 3.0]                    0.621538   \n",
       "1                    [2.0, 3.0]                    0.621538   \n",
       "2                    [2.0, 3.0]                    0.621538   \n",
       "3                    [2.0, 3.0]                    0.621538   \n",
       "4                    [2.0, 3.0]                    0.621538   \n",
       "\n",
       "   fraction_winners_Republican  \n",
       "0                     0.714286  \n",
       "1                     0.714286  \n",
       "2                     0.714286  \n",
       "3                     0.714286  \n",
       "4                     0.714286  "
      ]
     },
     "execution_count": 102,
     "metadata": {},
     "output_type": "execute_result"
    }
   ],
   "source": [
    "dfs[methods[0]].head()"
   ]
  },
  {
   "cell_type": "code",
   "execution_count": 103,
   "metadata": {
    "ExecuteTime": {
     "end_time": "2021-08-11T04:28:27.483780Z",
     "start_time": "2021-08-11T04:28:27.377779Z"
    }
   },
   "outputs": [
    {
     "data": {
      "text/html": [
       "<div>\n",
       "<style scoped>\n",
       "    .dataframe tbody tr th:only-of-type {\n",
       "        vertical-align: middle;\n",
       "    }\n",
       "\n",
       "    .dataframe tbody tr th {\n",
       "        vertical-align: top;\n",
       "    }\n",
       "\n",
       "    .dataframe thead th {\n",
       "        text-align: right;\n",
       "    }\n",
       "</style>\n",
       "<table border=\"1\" class=\"dataframe\">\n",
       "  <thead>\n",
       "    <tr style=\"text-align: right;\">\n",
       "      <th></th>\n",
       "      <th>state</th>\n",
       "      <th>N_districts</th>\n",
       "      <th>total_winners</th>\n",
       "      <th>optimization</th>\n",
       "      <th>N_winners_Republican</th>\n",
       "      <th>district_vote_shares</th>\n",
       "      <th>district_n_winners</th>\n",
       "      <th>district_n_winners_Republican</th>\n",
       "      <th>fraction_voters_Republican</th>\n",
       "      <th>fraction_winners_Republican</th>\n",
       "    </tr>\n",
       "  </thead>\n",
       "  <tbody>\n",
       "    <tr>\n",
       "      <th>38</th>\n",
       "      <td>UT</td>\n",
       "      <td>1</td>\n",
       "      <td>4.0</td>\n",
       "      <td>single_district_for_state</td>\n",
       "      <td>3.0</td>\n",
       "      <td>[0.6955438144954558]</td>\n",
       "      <td>[4.0]</td>\n",
       "      <td>[3]</td>\n",
       "      <td>0.695544</td>\n",
       "      <td>0.750000</td>\n",
       "    </tr>\n",
       "    <tr>\n",
       "      <th>39</th>\n",
       "      <td>VA</td>\n",
       "      <td>1</td>\n",
       "      <td>11.0</td>\n",
       "      <td>single_district_for_state</td>\n",
       "      <td>5.0</td>\n",
       "      <td>[0.46011305472360925]</td>\n",
       "      <td>[11.0]</td>\n",
       "      <td>[5]</td>\n",
       "      <td>0.460113</td>\n",
       "      <td>0.454545</td>\n",
       "    </tr>\n",
       "    <tr>\n",
       "      <th>40</th>\n",
       "      <td>WA</td>\n",
       "      <td>1</td>\n",
       "      <td>10.0</td>\n",
       "      <td>single_district_for_state</td>\n",
       "      <td>4.0</td>\n",
       "      <td>[0.40777087091586245]</td>\n",
       "      <td>[10.0]</td>\n",
       "      <td>[4]</td>\n",
       "      <td>0.407771</td>\n",
       "      <td>0.400000</td>\n",
       "    </tr>\n",
       "    <tr>\n",
       "      <th>41</th>\n",
       "      <td>WV</td>\n",
       "      <td>1</td>\n",
       "      <td>3.0</td>\n",
       "      <td>single_district_for_state</td>\n",
       "      <td>2.0</td>\n",
       "      <td>[0.6412395040289991]</td>\n",
       "      <td>[3.0]</td>\n",
       "      <td>[2]</td>\n",
       "      <td>0.641240</td>\n",
       "      <td>0.666667</td>\n",
       "    </tr>\n",
       "    <tr>\n",
       "      <th>42</th>\n",
       "      <td>WI</td>\n",
       "      <td>1</td>\n",
       "      <td>8.0</td>\n",
       "      <td>single_district_for_state</td>\n",
       "      <td>4.0</td>\n",
       "      <td>[0.4926652977917956]</td>\n",
       "      <td>[8.0]</td>\n",
       "      <td>[4]</td>\n",
       "      <td>0.492665</td>\n",
       "      <td>0.500000</td>\n",
       "    </tr>\n",
       "  </tbody>\n",
       "</table>\n",
       "</div>"
      ],
      "text/plain": [
       "   state  N_districts  total_winners               optimization  \\\n",
       "38    UT            1            4.0  single_district_for_state   \n",
       "39    VA            1           11.0  single_district_for_state   \n",
       "40    WA            1           10.0  single_district_for_state   \n",
       "41    WV            1            3.0  single_district_for_state   \n",
       "42    WI            1            8.0  single_district_for_state   \n",
       "\n",
       "    N_winners_Republican   district_vote_shares district_n_winners  \\\n",
       "38                   3.0   [0.6955438144954558]              [4.0]   \n",
       "39                   5.0  [0.46011305472360925]             [11.0]   \n",
       "40                   4.0  [0.40777087091586245]             [10.0]   \n",
       "41                   2.0   [0.6412395040289991]              [3.0]   \n",
       "42                   4.0   [0.4926652977917956]              [8.0]   \n",
       "\n",
       "   district_n_winners_Republican  fraction_voters_Republican  \\\n",
       "38                           [3]                    0.695544   \n",
       "39                           [5]                    0.460113   \n",
       "40                           [4]                    0.407771   \n",
       "41                           [2]                    0.641240   \n",
       "42                           [4]                    0.492665   \n",
       "\n",
       "    fraction_winners_Republican  \n",
       "38                     0.750000  \n",
       "39                     0.454545  \n",
       "40                     0.400000  \n",
       "41                     0.666667  \n",
       "42                     0.500000  "
      ]
     },
     "execution_count": 103,
     "metadata": {},
     "output_type": "execute_result"
    }
   ],
   "source": [
    "dfs[methods[0]].tail()"
   ]
  },
  {
   "cell_type": "code",
   "execution_count": 104,
   "metadata": {
    "ExecuteTime": {
     "end_time": "2021-08-11T04:28:28.705963Z",
     "start_time": "2021-08-11T04:28:28.629779Z"
    }
   },
   "outputs": [],
   "source": [
    "# dfs[methods[0]].N_districts.unique()"
   ]
  },
  {
   "cell_type": "code",
   "execution_count": 105,
   "metadata": {
    "ExecuteTime": {
     "end_time": "2021-08-11T04:28:29.982813Z",
     "start_time": "2021-08-11T04:28:29.824779Z"
    }
   },
   "outputs": [],
   "source": [
    "states = dfs[methods[0]].state.unique()"
   ]
  },
  {
   "cell_type": "code",
   "execution_count": 138,
   "metadata": {
    "ExecuteTime": {
     "end_time": "2021-08-11T16:32:17.102457Z",
     "start_time": "2021-08-11T16:32:17.009462Z"
    }
   },
   "outputs": [
    {
     "data": {
      "text/plain": [
       "{'thiele_approvalindependent': 'Winner takes all',\n",
       " 'thiele_independent': 'Winner takes all',\n",
       " 'thiele_pav': 'STV and PAV',\n",
       " 'thiele_squared': 'Thiele squared',\n",
       " 'stv': 'STV'}"
      ]
     },
     "execution_count": 138,
     "metadata": {},
     "output_type": "execute_result"
    }
   ],
   "source": [
    "parties = ['Republican', 'Democrat']\n",
    "methods_to_plot = ['thiele_pav', 'thiele_independent', 'thiele_squared']\n",
    "method_names"
   ]
  },
  {
   "cell_type": "code",
   "execution_count": 107,
   "metadata": {
    "ExecuteTime": {
     "end_time": "2021-08-11T04:28:32.415803Z",
     "start_time": "2021-08-11T04:28:32.338782Z"
    }
   },
   "outputs": [
    {
     "name": "stdout",
     "output_type": "stream",
     "text": [
      "Index(['state', 'N_districts', 'total_winners', 'optimization',\n",
      "       'N_winners_Republican', 'district_vote_shares', 'district_n_winners',\n",
      "       'district_n_winners_Republican', 'fraction_voters_Republican',\n",
      "       'fraction_winners_Republican'],\n",
      "      dtype='object')\n"
     ]
    }
   ],
   "source": [
    "print(dfs[methods[0]].columns)"
   ]
  },
  {
   "cell_type": "code",
   "execution_count": 13,
   "metadata": {
    "ExecuteTime": {
     "end_time": "2021-08-10T17:09:08.706933Z",
     "start_time": "2021-08-10T17:08:31.656748Z"
    },
    "scrolled": true
   },
   "outputs": [
    {
     "name": "stderr",
     "output_type": "stream",
     "text": [
      "C:\\Users\\Nikhil\\Miniconda3\\lib\\site-packages\\IPython\\core\\interactiveshell.py:3249: DtypeWarning: Columns (1,2,3,4,6,7,9,10,11,12,13,14,15,16,17,18,19,20,21,22,23) have mixed types.Specify dtype option on import or set low_memory=False.\n",
      "  if (await self.run_code(code, result,  async_=asy)):\n",
      "C:\\Users\\Nikhil\\Miniconda3\\lib\\site-packages\\pandas\\core\\indexing.py:1781: SettingWithCopyWarning: \n",
      "A value is trying to be set on a copy of a slice from a DataFrame.\n",
      "Try using .loc[row_indexer,col_indexer] = value instead\n",
      "\n",
      "See the caveats in the documentation: https://pandas.pydata.org/pandas-docs/stable/user_guide/indexing.html#returning-a-view-versus-a-copy\n",
      "  self.obj[item_labels[indexer[info_axis]]] = value\n",
      "C:\\Users\\Nikhil\\Miniconda3\\lib\\site-packages\\pandas\\core\\indexing.py:1743: SettingWithCopyWarning: \n",
      "A value is trying to be set on a copy of a slice from a DataFrame.\n",
      "Try using .loc[row_indexer,col_indexer] = value instead\n",
      "\n",
      "See the caveats in the documentation: https://pandas.pydata.org/pandas-docs/stable/user_guide/indexing.html#returning-a-view-versus-a-copy\n",
      "  isetter(ilocs[0], value)\n"
     ]
    }
   ],
   "source": [
    "# STV still loading from my way\n",
    "dfstvpartisan = load_organized_df(path, 'combined_partisan', 'stv')"
   ]
  },
  {
   "cell_type": "code",
   "execution_count": 14,
   "metadata": {
    "ExecuteTime": {
     "end_time": "2021-08-10T17:09:47.444578Z",
     "start_time": "2021-08-10T17:09:10.169123Z"
    }
   },
   "outputs": [
    {
     "name": "stderr",
     "output_type": "stream",
     "text": [
      "C:\\Users\\Nikhil\\Miniconda3\\lib\\site-packages\\IPython\\core\\interactiveshell.py:3249: DtypeWarning: Columns (1,2,3,4,6,7,9,10,11,12,13,14,15,16,17,18,19,20,21,22,23) have mixed types.Specify dtype option on import or set low_memory=False.\n",
      "  if (await self.run_code(code, result,  async_=asy)):\n",
      "C:\\Users\\Nikhil\\Miniconda3\\lib\\site-packages\\pandas\\core\\indexing.py:1781: SettingWithCopyWarning: \n",
      "A value is trying to be set on a copy of a slice from a DataFrame.\n",
      "Try using .loc[row_indexer,col_indexer] = value instead\n",
      "\n",
      "See the caveats in the documentation: https://pandas.pydata.org/pandas-docs/stable/user_guide/indexing.html#returning-a-view-versus-a-copy\n",
      "  self.obj[item_labels[indexer[info_axis]]] = value\n",
      "C:\\Users\\Nikhil\\Miniconda3\\lib\\site-packages\\pandas\\core\\indexing.py:1743: SettingWithCopyWarning: \n",
      "A value is trying to be set on a copy of a slice from a DataFrame.\n",
      "Try using .loc[row_indexer,col_indexer] = value instead\n",
      "\n",
      "See the caveats in the documentation: https://pandas.pydata.org/pandas-docs/stable/user_guide/indexing.html#returning-a-view-versus-a-copy\n",
      "  isetter(ilocs[0], value)\n"
     ]
    }
   ],
   "source": [
    "dfs['stv'] = load_organized_df(path, 'combined', 'stv')"
   ]
  },
  {
   "cell_type": "markdown",
   "metadata": {},
   "source": [
    "# Proportionality stuff"
   ]
  },
  {
   "cell_type": "code",
   "execution_count": 15,
   "metadata": {
    "ExecuteTime": {
     "end_time": "2021-08-11T02:29:50.472715Z",
     "start_time": "2021-08-11T02:29:32.439772Z"
    },
    "scrolled": true
   },
   "outputs": [
    {
     "name": "stdout",
     "output_type": "stream",
     "text": [
      "['AL' 'AZ' 'AR' 'CA' 'CO' 'CT' 'FL' 'GA' 'HI' 'ID' 'IL' 'IN' 'IA' 'KS'\n",
      " 'KY' 'LA' 'ME' 'MD' 'MA' 'MI' 'MN' 'MS' 'MO' 'NE' 'NV' 'NH' 'NJ' 'NM'\n",
      " 'NY' 'NC' 'OH' 'OK' 'OR' 'PA' 'RI' 'SC' 'TN' 'TX' 'UT' 'VA' 'WA' 'WV'\n",
      " 'WI']\n",
      "['AL' 'AZ' 'AR' 'CA' 'CO' 'CT' 'FL' 'GA' 'HI' 'ID' 'IL' 'IN' 'IA' 'KS'\n",
      " 'KY' 'LA' 'ME' 'MD' 'MA' 'MI' 'MN' 'MS' 'MO' 'NE' 'NV' 'NH' 'NJ' 'NM'\n",
      " 'NY' 'NC' 'OH' 'OK' 'OR' 'PA' 'RI' 'SC' 'TN' 'TX' 'UT' 'VA' 'WA' 'WV'\n",
      " 'WI']\n",
      "['AL' 'AZ' 'AR' 'CA' 'CO' 'CT' 'FL' 'GA' 'HI' 'ID' 'IL' 'IN' 'IA' 'KS'\n",
      " 'KY' 'LA' 'ME' 'MD' 'MA' 'MI' 'MN' 'MS' 'MO' 'NE' 'NV' 'NH' 'NJ' 'NM'\n",
      " 'NY' 'NC' 'OH' 'OK' 'OR' 'PA' 'RI' 'SC' 'TN' 'TX' 'UT' 'VA' 'WA' 'WV'\n",
      " 'WI']\n"
     ]
    }
   ],
   "source": [
    "distributions = {method: state_seat_share_distributions_nikhil(dfs[method]) for method in methods}"
   ]
  },
  {
   "cell_type": "code",
   "execution_count": 16,
   "metadata": {
    "ExecuteTime": {
     "end_time": "2021-08-11T02:29:52.228646Z",
     "start_time": "2021-08-11T02:29:51.612608Z"
    },
    "scrolled": true
   },
   "outputs": [
    {
     "data": {
      "text/plain": [
       "{'thiele_pav': {'AL':                                 1         2         3         4         5  \\\n",
       "  Most Republican          0.571429  0.714286  0.794125  0.836614  0.882655   \n",
       "  Median                   0.571429  0.714286  0.688085  0.702981  0.725591   \n",
       "  Most Fair in each state  0.571429  0.621004  0.621004  0.621079  0.621004   \n",
       "  Most Democratic          0.571429  0.571429  0.571429  0.522125  0.571429   \n",
       "  \n",
       "                                  6         7  \n",
       "  Most Republican          1.000000  1.000000  \n",
       "  Median                   0.857143  0.988695  \n",
       "  Most Fair in each state  0.714286  0.740486  \n",
       "  Most Democratic          0.714286  0.740486  ,\n",
       "  'AZ':                                 1         2         3         4         5  \\\n",
       "  Most Republican          0.555556  0.555556  0.636254  0.573900  0.584249   \n",
       "  Median                   0.555556  0.542001  0.576656  0.535283  0.555556   \n",
       "  Most Fair in each state  0.555556  0.537146  0.537146  0.535768  0.536929   \n",
       "  Most Democratic          0.555556  0.511820  0.496681  0.444444  0.424172   \n",
       "  \n",
       "                                  6         7         8         9  \n",
       "  Most Republican          0.680221  0.777778  0.844713  0.837259  \n",
       "  Median                   0.555556  0.617701  0.629913  0.638848  \n",
       "  Most Fair in each state  0.536418  0.536452  0.536418  0.536420  \n",
       "  Most Democratic          0.333333  0.331712  0.400026  0.441598  ,\n",
       "  'AR':                             1         2         3         4\n",
       "  Most Republican          0.75  0.730831  0.980831  1.000000\n",
       "  Median                   0.75  0.685448  0.750000  1.000000\n",
       "  Most Fair in each state  0.75  0.637987  0.676565  0.780656\n",
       "  Most Democratic          0.75  0.529817  0.676565  0.780656,\n",
       "  'CA':                                1         2         3         4         5   \\\n",
       "  Most Republican          0.358491  0.366455  0.364469  0.366618  0.367658   \n",
       "  Median                   0.358491  0.360684  0.360221  0.357240  0.354880   \n",
       "  Most Fair in each state  0.358491  0.365833  0.364469  0.365776  0.365759   \n",
       "  Most Democratic          0.358491  0.357862  0.355091  0.348499  0.342877   \n",
       "  \n",
       "                                 6         7         8         9         10  \\\n",
       "  Most Republican          0.369699  0.372088  0.375777  0.382397  0.380395   \n",
       "  Median                   0.353499  0.349046  0.348883  0.351733  0.340269   \n",
       "  Most Fair in each state  0.365784  0.365784  0.365783  0.365781  0.365781   \n",
       "  Most Democratic          0.336166  0.328100  0.317789  0.317423  0.306714   \n",
       "  \n",
       "                           ...        26        29        32        35  \\\n",
       "  Most Republican          ...  0.370618  0.403151  0.402333  0.412460   \n",
       "  Median                   ...  0.309429  0.296910  0.295042  0.282892   \n",
       "  Most Fair in each state  ...  0.365784  0.365781  0.365781  0.365781   \n",
       "  Most Democratic          ...  0.243696  0.211877  0.179614  0.158044   \n",
       "  \n",
       "                                 38        41        44        47        50  \\\n",
       "  Most Republican          0.411474  0.396292  0.373453  0.359656  0.301727   \n",
       "  Median                   0.268196  0.260388  0.242451  0.232956  0.212441   \n",
       "  Most Fair in each state  0.365781  0.365781  0.365778  0.359656  0.301727   \n",
       "  Most Democratic          0.140060  0.112305  0.113882  0.104678  0.119071   \n",
       "  \n",
       "                                 53  \n",
       "  Most Republican          0.276466  \n",
       "  Median                   0.203389  \n",
       "  Most Fair in each state  0.276466  \n",
       "  Most Democratic          0.120602  \n",
       "  \n",
       "  [4 rows x 26 columns],\n",
       "  'CO':                                 1         2         3         4         5  \\\n",
       "  Most Republican          0.428571  0.566575  0.571429  0.571429  0.714286   \n",
       "  Median                   0.428571  0.445926  0.428571  0.470508  0.480687   \n",
       "  Most Fair in each state  0.428571  0.465462  0.463035  0.460967  0.461684   \n",
       "  Most Democratic          0.428571  0.428571  0.285714  0.285714  0.157068   \n",
       "  \n",
       "                                  6         7  \n",
       "  Most Republican          0.714286  0.673685  \n",
       "  Median                   0.480688  0.428571  \n",
       "  Most Fair in each state  0.461684  0.461684  \n",
       "  Most Democratic          0.142857  0.134183  ,\n",
       "  'CT':                            1         2         3         4         5\n",
       "  Most Republican          0.4  0.432932  0.523103  0.385000  0.217912\n",
       "  Median                   0.4  0.403685  0.421001  0.245333  0.122980\n",
       "  Most Fair in each state  0.4  0.432932  0.432932  0.385000  0.217912\n",
       "  Most Democratic          0.4  0.393170  0.384454  0.200000  0.033517,\n",
       "  'FL':                                1         2         3         4         5   \\\n",
       "  Most Republican          0.518519  0.512715  0.516281  0.534627  0.548117   \n",
       "  Median                   0.518519  0.507378  0.507693  0.505853  0.506728   \n",
       "  Most Fair in each state  0.518519  0.508471  0.508426  0.508426  0.508426   \n",
       "  Most Democratic          0.518519  0.500608  0.491703  0.481529  0.473927   \n",
       "  \n",
       "                                 6         7         8         9         10  \\\n",
       "  Most Republican          0.545890  0.545333  0.570709  0.579819  0.590355   \n",
       "  Median                   0.502841  0.487463  0.506549  0.517426  0.507693   \n",
       "  Most Fair in each state  0.508416  0.508416  0.508416  0.508423  0.508415   \n",
       "  Most Democratic          0.452533  0.440694  0.438205  0.470869  0.429903   \n",
       "  \n",
       "                                 12        14        16        18        20  \\\n",
       "  Most Republican          0.559484  0.548472  0.616309  0.671028  0.731466   \n",
       "  Median                   0.481481  0.478642  0.504537  0.527127  0.550303   \n",
       "  Most Fair in each state  0.508415  0.508415  0.508415  0.508415  0.508415   \n",
       "  Most Democratic          0.391692  0.411825  0.355789  0.325166  0.322371   \n",
       "  \n",
       "                                 23        26        27  \n",
       "  Most Republican          0.746626  0.682853  0.683199  \n",
       "  Median                   0.559660  0.569219  0.565688  \n",
       "  Most Fair in each state  0.508415  0.508415  0.508415  \n",
       "  Most Democratic          0.361281  0.424807  0.457278  ,\n",
       "  'GA':                           1         2         3         4         5   \\\n",
       "  Most Republican          0.5  0.562909  0.578071  0.625489  0.642857   \n",
       "  Median                   0.5  0.533276  0.537908  0.545180  0.558375   \n",
       "  Most Fair in each state  0.5  0.533276  0.533276  0.533014  0.533014   \n",
       "  Most Democratic          0.5  0.510953  0.500000  0.479300  0.443415   \n",
       "  \n",
       "                                 6         7         8         9         10  \\\n",
       "  Most Republican          0.661534  0.641585  0.709971  0.768676  0.783169   \n",
       "  Median                   0.544902  0.516095  0.561417  0.587567  0.621137   \n",
       "  Most Fair in each state  0.533100  0.533095  0.533096  0.533096  0.533100   \n",
       "  Most Democratic          0.429844  0.417202  0.396147  0.377464  0.378629   \n",
       "  \n",
       "                                 12        14  \n",
       "  Most Republican          0.834148  0.855870  \n",
       "  Median                   0.661301  0.697280  \n",
       "  Most Fair in each state  0.533096  0.533096  \n",
       "  Most Democratic          0.406264  0.422253  ,\n",
       "  'HI':                            1    2\n",
       "  Most Republican          0.0  0.0\n",
       "  Median                   0.0  0.0\n",
       "  Most Fair in each state  0.0  0.0\n",
       "  Most Democratic          0.0  0.0,\n",
       "  'ID':                            1    2\n",
       "  Most Republican          0.5  1.0\n",
       "  Median                   0.5  1.0\n",
       "  Most Fair in each state  0.5  1.0\n",
       "  Most Democratic          0.5  1.0,\n",
       "  'IL':                                1         2         3         4         5   \\\n",
       "  Most Republican          0.388889  0.401254  0.415756  0.427364  0.433966   \n",
       "  Median                   0.388889  0.390315  0.383928  0.381975  0.372090   \n",
       "  Most Fair in each state  0.388889  0.401254  0.403207  0.403277  0.403255   \n",
       "  Most Democratic          0.388889  0.379799  0.352931  0.327778  0.301772   \n",
       "  \n",
       "                                 6         7         8         9         10  \\\n",
       "  Most Republican          0.426272  0.450183  0.438331  0.434255  0.446590   \n",
       "  Median                   0.356196  0.344919  0.340225  0.336898  0.340790   \n",
       "  Most Fair in each state  0.403255  0.403233  0.403255  0.403207  0.403233   \n",
       "  Most Democratic          0.287640  0.265984  0.236028  0.245571  0.222222   \n",
       "  \n",
       "                                 12        14        16        18  \n",
       "  Most Republican          0.497077  0.492193  0.452125  0.363177  \n",
       "  Median                   0.330867  0.318657  0.302912  0.278969  \n",
       "  Most Fair in each state  0.403242  0.403244  0.403245  0.363177  \n",
       "  Most Democratic          0.175341  0.173102  0.157269  0.193618  ,\n",
       "  'IN':                                 1         2         3         4         5  \\\n",
       "  Most Republican          0.555556  0.567348  0.615181  0.584071  0.614338   \n",
       "  Median                   0.555556  0.555556  0.598879  0.559362  0.569521   \n",
       "  Most Fair in each state  0.555556  0.549136  0.548088  0.547424  0.547424   \n",
       "  Most Democratic          0.555556  0.549136  0.541590  0.490068  0.453449   \n",
       "  \n",
       "                                  6         7         8         9  \n",
       "  Most Republican          0.687715  0.765113  0.812164  0.813020  \n",
       "  Median                   0.575066  0.642306  0.702123  0.710745  \n",
       "  Most Fair in each state  0.547424  0.547419  0.547424  0.579189  \n",
       "  Most Democratic          0.423455  0.440431  0.518532  0.579189  ,\n",
       "  'IA':                            1         2         3         4\n",
       "  Most Republican          0.5  0.530857  0.684797  0.672074\n",
       "  Median                   0.5  0.510895  0.567478  0.576015\n",
       "  Most Fair in each state  0.5  0.519432  0.523356  0.524899\n",
       "  Most Democratic          0.5  0.500000  0.443253  0.524899,\n",
       "  'KS':                            1         2         3         4\n",
       "  Most Republican          0.5  0.637987  0.758520  0.915065\n",
       "  Median                   0.5  0.612013  0.745546  0.811872\n",
       "  Most Fair in each state  0.5  0.586989  0.583720  0.750000\n",
       "  Most Democratic          0.5  0.538337  0.576344  0.750000,\n",
       "  'KY':                                 1         2         3         4         5  \\\n",
       " "
      ]
     },
     "execution_count": 16,
     "metadata": {},
     "output_type": "execute_result"
    },
    {
     "data": {
      "text/html": [
       "<b>limit_output extension: Maximum message size of 10000 exceeded with 86279 characters</b>"
      ]
     },
     "metadata": {},
     "output_type": "display_data"
    }
   ],
   "source": [
    "distributions"
   ]
  },
  {
   "cell_type": "markdown",
   "metadata": {},
   "source": [
    "## Overall proportionality for each method"
   ]
  },
  {
   "cell_type": "code",
   "execution_count": 18,
   "metadata": {
    "ExecuteTime": {
     "end_time": "2021-07-29T23:02:42.159099Z",
     "start_time": "2021-07-29T23:02:32.208122Z"
    },
    "scrolled": false
   },
   "outputs": [
    {
     "name": "stdout",
     "output_type": "stream",
     "text": [
      "thiele_pav\n",
      "thiele_independent\n",
      "thiele_squared\n"
     ]
    }
   ],
   "source": [
    "ax1 = None\n",
    "fig = plt.figure(figsize = (20, 5))\n",
    "for enn, method in enumerate(methods_to_plot):\n",
    "    if enn == 0:\n",
    "        ax = plt.subplot(int('1{}{}'.format(len(methods_to_plot), enn+1)))\n",
    "        ax1 = ax\n",
    "    else:\n",
    "        ax = plt.subplot(int('1{}{}'.format(len(methods_to_plot), enn+1)), sharey = ax1)\n",
    "    print(method)\n",
    "    _ = plot_all_state_distribution_generic(distributions[method]\n",
    "                                                         , prop_val = get_prop(dfs[method])\n",
    "                                                         , do_vertical_integers = True, legend = enn==len(methods_to_plot)-1\n",
    "                                            , ax = ax, party_colors = True, bbox_to_anchor=(-2.25, 1.055)\n",
    "                                            , legendncol = 4, legendfontsize = 20)\n",
    "    ax.set_title(method_names[method], fontsize = 20)\n",
    "saveimage('prop_differentmethods', extension = 'pdf')"
   ]
  },
  {
   "cell_type": "markdown",
   "metadata": {},
   "source": [
    "## Proportionality gap for a few relevant states"
   ]
  },
  {
   "cell_type": "code",
   "execution_count": 19,
   "metadata": {
    "ExecuteTime": {
     "end_time": "2021-07-29T23:02:53.301102Z",
     "start_time": "2021-07-29T23:02:42.163101Z"
    }
   },
   "outputs": [
    {
     "name": "stdout",
     "output_type": "stream",
     "text": [
      "CA 53.0\n",
      "The following are often expected to have multiple values in the same plot\n",
      "optimization     2\n",
      "N_districts     26\n",
      "dtype: int64\n",
      "MA 9.0\n",
      "The following are often expected to have multiple values in the same plot\n",
      "optimization    2\n",
      "N_districts     9\n",
      "dtype: int64\n",
      "FL 27.0\n",
      "The following are often expected to have multiple values in the same plot\n",
      "optimization     2\n",
      "N_districts     18\n",
      "dtype: int64\n",
      "TX 36.0\n",
      "The following are often expected to have multiple values in the same plot\n",
      "optimization     2\n",
      "N_districts     21\n",
      "dtype: int64\n"
     ]
    }
   ],
   "source": [
    "# 4 states for main text\n",
    "from visualization.fancy_plots import *\n",
    "method = 'thiele_pav'#'stv'\n",
    "ax1 = None\n",
    "fig = plt.figure(figsize = (12, 5))\n",
    "state_names = {}\n",
    "states_to_do= ['CA', 'MA', 'FL', 'TX'] #['NY', 'MA', 'OK', 'FL', 'TX'] #dfs[method].state.unique()#\n",
    "for enn, state in enumerate(states_to_do):\n",
    "    if enn == 0:\n",
    "        ax = plt.subplot(int('1{}{}'.format(len(states_to_do), enn+1)))\n",
    "        ax1 = ax\n",
    "    else:\n",
    "        ax = plt.subplot(int('1{}{}'.format(len(states_to_do), enn+1)), sharey = ax1)\n",
    "        \n",
    "    seats = state_constants[state][\"seats\"]\n",
    "    xbins = [x/seats for x in range(1, int(seats)+1)]\n",
    "    print(state, seats)\n",
    "    dfstate = dfs[method].query('state==@state')\n",
    "    \n",
    "    boxplot_per_district_for_single_state_per_method(\n",
    "        dfstate,\n",
    "        state,\n",
    "        do_extremes_and_prop_line=True,\n",
    "        additional_filters={},ax = ax\n",
    "    )    \n",
    "    ax.set_title(state_names.get(state, state), fontsize = 20)\n",
    "ax1.set_ylabel('Republican seat share', fontsize = 20)\n",
    "ax1.set_ylim((0, 1))\n",
    "#    plt.show()\n",
    "saveimage('prop_states_boxNY', extension = 'pdf')"
   ]
  },
  {
   "cell_type": "code",
   "execution_count": 20,
   "metadata": {
    "ExecuteTime": {
     "end_time": "2021-07-29T23:03:50.503480Z",
     "start_time": "2021-07-29T23:02:53.307100Z"
    },
    "scrolled": true
   },
   "outputs": [
    {
     "name": "stdout",
     "output_type": "stream",
     "text": [
      "AL 1 6 1\n",
      "AL 7.0\n",
      "The following are often expected to have multiple values in the same plot\n",
      "optimization    2\n",
      "N_districts     7\n",
      "dtype: int64\n",
      "AZ 1 6 2\n",
      "AZ 9.0\n",
      "The following are often expected to have multiple values in the same plot\n",
      "optimization    2\n",
      "N_districts     9\n",
      "dtype: int64\n",
      "AR 1 6 3\n",
      "AR 4.0\n",
      "The following are often expected to have multiple values in the same plot\n",
      "optimization    2\n",
      "N_districts     4\n",
      "dtype: int64\n",
      "CA 1 6 4\n",
      "CA 53.0\n",
      "The following are often expected to have multiple values in the same plot\n",
      "optimization     2\n",
      "N_districts     26\n",
      "dtype: int64\n",
      "CO 1 6 5\n",
      "CO 7.0\n",
      "The following are often expected to have multiple values in the same plot\n",
      "optimization    2\n",
      "N_districts     7\n",
      "dtype: int64\n",
      "CT 1 6 6\n",
      "CT 5.0\n",
      "The following are often expected to have multiple values in the same plot\n",
      "optimization    2\n",
      "N_districts     5\n",
      "dtype: int64\n",
      "FL 2 6 1\n",
      "FL 27.0\n",
      "The following are often expected to have multiple values in the same plot\n",
      "optimization     2\n",
      "N_districts     18\n",
      "dtype: int64\n",
      "GA 2 6 2\n",
      "GA 14.0\n",
      "The following are often expected to have multiple values in the same plot\n",
      "optimization     2\n",
      "N_districts     12\n",
      "dtype: int64\n",
      "HI 2 6 3\n",
      "HI 2.0\n",
      "The following are often expected to have multiple values in the same plot\n",
      "optimization    2\n",
      "N_districts     2\n",
      "dtype: int64\n",
      "ID 2 6 4\n",
      "ID 2.0\n",
      "The following are often expected to have multiple values in the same plot\n",
      "optimization    2\n",
      "N_districts     2\n",
      "dtype: int64\n",
      "IL 2 6 5\n",
      "IL 18.0\n",
      "The following are often expected to have multiple values in the same plot\n",
      "optimization     2\n",
      "N_districts     14\n",
      "dtype: int64\n",
      "IN 2 6 6\n",
      "IN 9.0\n",
      "The following are often expected to have multiple values in the same plot\n",
      "optimization    2\n",
      "N_districts     9\n",
      "dtype: int64\n",
      "IA 3 6 1\n",
      "IA 4.0\n",
      "The following are often expected to have multiple values in the same plot\n",
      "optimization    2\n",
      "N_districts     4\n",
      "dtype: int64\n",
      "KS 3 6 2\n",
      "KS 4.0\n",
      "The following are often expected to have multiple values in the same plot\n",
      "optimization    2\n",
      "N_districts     4\n",
      "dtype: int64\n",
      "KY 3 6 3\n",
      "KY 6.0\n",
      "The following are often expected to have multiple values in the same plot\n",
      "optimization    2\n",
      "N_districts     6\n",
      "dtype: int64\n",
      "LA 3 6 4\n",
      "LA 6.0\n",
      "The following are often expected to have multiple values in the same plot\n",
      "optimization    2\n",
      "N_districts     6\n",
      "dtype: int64\n",
      "ME 3 6 5\n",
      "ME 2.0\n",
      "The following are often expected to have multiple values in the same plot\n",
      "optimization    2\n",
      "N_districts     2\n",
      "dtype: int64\n",
      "MD 3 6 6\n",
      "MD 8.0\n",
      "The following are often expected to have multiple values in the same plot\n",
      "optimization    2\n",
      "N_districts     8\n",
      "dtype: int64\n",
      "MA 4 6 1\n",
      "MA 9.0\n",
      "The following are often expected to have multiple values in the same plot\n",
      "optimization    2\n",
      "N_districts     9\n",
      "dtype: int64\n",
      "MI 4 6 2\n",
      "MI 14.0\n",
      "The following are often expected to have multiple values in the same plot\n",
      "optimization     2\n",
      "N_districts     12\n",
      "dtype: int64\n",
      "MN 4 6 3\n",
      "MN 8.0\n",
      "The following are often expected to have multiple values in the same plot\n",
      "optimization    2\n",
      "N_districts     8\n",
      "dtype: int64\n",
      "MS 4 6 4\n",
      "MS 4.0\n",
      "The following are often expected to have multiple values in the same plot\n",
      "optimization    2\n",
      "N_districts     4\n",
      "dtype: int64\n",
      "MO 4 6 5\n",
      "MO 8.0\n",
      "The following are often expected to have multiple values in the same plot\n",
      "optimization    2\n",
      "N_districts     8\n",
      "dtype: int64\n",
      "NE 4 6 6\n",
      "NE 3.0\n",
      "The following are often expected to have multiple values in the same plot\n",
      "optimization    2\n",
      "N_districts     3\n",
      "dtype: int64\n",
      "NV 5 6 1\n",
      "NV 4.0\n",
      "The following are often expected to have multiple values in the same plot\n",
      "optimization    2\n",
      "N_districts     4\n",
      "dtype: int64\n",
      "NH 5 6 2\n",
      "NH 2.0\n",
      "The following are often expected to have multiple values in the same plot\n",
      "optimization    2\n",
      "N_districts     2\n",
      "dtype: int64\n",
      "NJ 5 6 3\n",
      "NJ 12.0\n",
      "The following are often expected to have multiple values in the same plot\n",
      "optimization     2\n",
      "N_districts     11\n",
      "dtype: int64\n",
      "NM 5 6 4\n",
      "NM 3.0\n",
      "The following are often expected to have multiple values in the same plot\n",
      "optimization    2\n",
      "N_districts     3\n",
      "dtype: int64\n",
      "NY 5 6 5\n",
      "NY 27.0\n",
      "The following are often expected to have multiple values in the same plot\n",
      "optimization     2\n",
      "N_districts     18\n",
      "dtype: int64\n",
      "NC 5 6 6\n",
      "NC 13.0\n",
      "The following are often expected to have multiple values in the same plot\n",
      "optimization     2\n",
      "N_districts     12\n",
      "dtype: int64\n",
      "OH 6 6 1\n",
      "OH 16.0\n",
      "The following are often expected to have multiple values in the same plot\n",
      "optimization     2\n",
      "N_districts     13\n",
      "dtype: int64\n",
      "OK 6 6 2\n",
      "OK 5.0\n",
      "The following are often expected to have multiple values in the same plot\n",
      "optimization    2\n",
      "N_districts     5\n",
      "dtype: int64\n",
      "OR 6 6 3\n",
      "OR 5.0\n",
      "The following are often expected to have multiple values in the same plot\n",
      "optimization    2\n",
      "N_districts     5\n",
      "dtype: int64\n",
      "PA 6 6 4\n",
      "PA 18.0\n",
      "The following are often expected to have multiple values in the same plot\n",
      "optimization     2\n",
      "N_districts     14\n",
      "dtype: int64\n",
      "RI 6 6 5\n",
      "RI 2.0\n",
      "The following are often expected to have multiple values in the same plot\n",
      "optimization    2\n",
      "N_districts     2\n",
      "dtype: int64\n",
      "SC 6 6 6\n",
      "SC 7.0\n",
      "The following are often expected to have multiple values in the same plot\n",
      "optimization    2\n",
      "N_districts     7\n",
      "dtype: int64\n",
      "TN 7 6 1\n",
      "TN 9.0\n",
      "The following are often expected to have multiple values in the same plot\n",
      "optimization    2\n",
      "N_districts     9\n",
      "dtype: int64\n",
      "TX 7 6 2\n",
      "TX 36.0\n",
      "The following are often expected to have multiple values in the same plot\n",
      "optimization     2\n",
      "N_districts     21\n",
      "dtype: int64\n",
      "UT 7 6 3\n",
      "UT 4.0\n",
      "The following are often expected to have multiple values in the same plot\n",
      "optimization    2\n",
      "N_districts     4\n",
      "dtype: int64\n",
      "VA 7 6 4\n",
      "VA 11.0\n",
      "The following are often expected to have multiple values in the same plot\n",
      "optimization     2\n",
      "N_districts     11\n",
      "dtype: int64\n",
      "WA 7 6 5\n",
      "WA 10.0\n",
      "The following are often expected to have multiple values in the same plot\n",
      "optimization     2\n",
      "N_districts     10\n",
      "dtype: int64\n",
      "WV 7 6 6\n",
      "WV 3.0\n",
      "The following are often expected to have multiple values in the same plot\n",
      "optimization    2\n",
      "N_districts     3\n",
      "dtype: int64\n",
      "WI 8 6 1\n",
      "WI 8.0\n",
      "The following are often expected to have multiple values in the same plot\n",
      "optimization    2\n",
      "N_districts     8\n",
      "dtype: int64\n"
     ]
    }
   ],
   "source": [
    "# all states for appendix\n",
    "from visualization.fancy_plots import *\n",
    "method = 'thiele_pav'#'stv'\n",
    "ax1 = None\n",
    "fig = plt.figure(figsize = (24, 42))\n",
    "state_names = {}\n",
    "states_to_do= dfs[method].state.unique() #['NY', 'MA', 'FL', 'TX'] #['NY', 'MA', 'OK', 'FL', 'TX'] #dfs[method].state.unique()#\n",
    "width = 6\n",
    "height = int(np.ceil(len(states_to_do)/width))\n",
    "for enn, state in enumerate(states_to_do):\n",
    "    print(state, int(enn/width) + 1, width, (enn%width)+1)\n",
    "#     ax = plt.subplot(int('{}{}{}'.format(int(enn/width) + 1, width, (enn%width)+1)))\n",
    "    ax = plt.subplot(height,width, enn+1)\n",
    "\n",
    "    seats = state_constants[state][\"seats\"]\n",
    "    xbins = [x/seats for x in range(1, int(seats)+1)]\n",
    "    print(state, seats)\n",
    "    dfstate = dfs[method].query('state==@state')\n",
    "    \n",
    "    boxplot_per_district_for_single_state_per_method(\n",
    "        dfstate,\n",
    "        state,\n",
    "        do_extremes_and_prop_line=True,\n",
    "        additional_filters={},ax = ax\n",
    "    )\n",
    "    ax.set_xlabel('')\n",
    "    ax.set_title(state_names.get(state, state), fontsize = 20)\n",
    "# ax1.set_ylabel('Republican seat share', fontsize = 20)\n",
    "#    plt.show()\n",
    "saveimage('prop_states_all', extension = 'pdf')"
   ]
  },
  {
   "cell_type": "markdown",
   "metadata": {},
   "source": [
    "## Cumulative proportionality gap"
   ]
  },
  {
   "cell_type": "code",
   "execution_count": 21,
   "metadata": {
    "ExecuteTime": {
     "end_time": "2021-07-29T23:03:57.941482Z",
     "start_time": "2021-07-29T23:03:50.508486Z"
    }
   },
   "outputs": [],
   "source": [
    "import copy\n",
    "#Appendix plot -- difference between parties\n",
    "def get_prop_gap_by_state_demrepdifference(dfsmet):\n",
    "    ret = copy.deepcopy(dfsmet)\n",
    "    prop = get_prop(dfs[method].query('state==@state'))\n",
    "    for state in states:\n",
    "        ret[state] = (ret[state] - .485)\n",
    "#         ret[state].loc['Party difference',:] = ret[state].loc['Most Democratic',:] + ret[state].loc['Most Republican',:]\n",
    "        ret[state] = ret[state].loc[['Most Republican', 'Most Democratic']] # 'Party difference',\n",
    "    return ret\n",
    "\n",
    "fig = plt.figure(figsize = (18, 5))\n",
    "ax = plt.subplot(1,3, 1)\n",
    "ret = get_prop_gap_by_state_demrepdifference(distributions['thiele_pav'])\n",
    "_ = plot_all_state_distribution_generic(\n",
    "    ret, prop_val=None, do_vertical_integers=False\n",
    "    , ymin=-.05, ymax=.25, xbins=None, legend=False, xlabel=\"Avg proportionality gap\", do_zoom = False,\n",
    "    bbox_to_anchor=(0.01, .8),do_broken_axes = False, legendncol = 2, legendfontsize = 15,\n",
    "    loc=\"lower left\", do_abs_after_combining = True, ax = ax, party_colors=  True\n",
    ")\n",
    "ax.set_title('STV and PAV', fontsize = 20)\n",
    "\n",
    "ax = plt.subplot(1,3, 2)\n",
    "ret = get_prop_gap_by_state_demrepdifference(distributions['thiele_independent'])\n",
    "_ = plot_all_state_distribution_generic(\n",
    "    ret, prop_val=None, do_vertical_integers=False\n",
    "    , ymin=-.05, ymax=.25, xbins=None, legend=False, xlabel=\"Avg proportionality gap\", do_zoom = False,\n",
    "    bbox_to_anchor=(0.01, .7),do_broken_axes = False, legendncol = 1, legendfontsize = 15,\n",
    "    loc=\"lower left\", do_abs_after_combining = True, ax= ax, party_colors=  True\n",
    ")\n",
    "ax.set_title('Winner takes all', fontsize = 20)\n",
    "\n",
    "\n",
    "ax = plt.subplot(1,3, 3)\n",
    "ret = get_prop_gap_by_state_demrepdifference(distributions['thiele_squared'])\n",
    "_ = plot_all_state_distribution_generic(\n",
    "    ret, prop_val=None, do_vertical_integers=False\n",
    "    , ymin=-.05, ymax=.25, xbins=None, legend=True, xlabel=\"Avg proportionality gap\", do_zoom = False,\n",
    "    bbox_to_anchor=(0.01, .7),do_broken_axes = False, legendncol = 1, legendfontsize = 15,\n",
    "    loc=\"lower left\", do_abs_after_combining = True, ax = ax, party_colors=  True\n",
    ")\n",
    "ax.set_title('Thiele Squared', fontsize = 20)\n",
    "\n",
    "saveimage('gerrymandering_advantage_by_rule_fixed', extension = 'pdf')"
   ]
  },
  {
   "cell_type": "code",
   "execution_count": 22,
   "metadata": {
    "ExecuteTime": {
     "end_time": "2021-07-29T23:03:58.210482Z",
     "start_time": "2021-07-29T23:03:57.947485Z"
    }
   },
   "outputs": [],
   "source": [
    "# re-orienting it so each line is a method, not min/max/median/most fair\n",
    "def get_proportionality_gaps(optimization = 'Most Fair in each state', get_max_instead = False):\n",
    "    distributions_gaps = {}#{state:{} for method in methods}\n",
    "    for state in states:\n",
    "        d = {'method': [method_names[met] for met in methods_to_plot]}\n",
    "        for method in methods_to_plot:\n",
    "            prop = get_prop(dfs[method].query('state==@state'))\n",
    "            if not get_max_instead:\n",
    "                vals= (distributions[method][state] - prop).abs().loc[optimization]\n",
    "            else:\n",
    "                vals= (distributions[method][state] - prop).abs().max(axis = 0)\n",
    "            for i in vals.index:\n",
    "                d[i] = d.get(i,[]) + [vals[i]]\n",
    "        distributions_gaps[state] = pd.DataFrame(d).set_index('method')\n",
    "    return distributions_gaps\n"
   ]
  },
  {
   "cell_type": "code",
   "execution_count": 23,
   "metadata": {
    "ExecuteTime": {
     "end_time": "2021-07-29T23:03:58.448481Z",
     "start_time": "2021-07-29T23:03:58.224488Z"
    }
   },
   "outputs": [],
   "source": [
    "# distributions_gaps"
   ]
  },
  {
   "cell_type": "code",
   "execution_count": 24,
   "metadata": {
    "ExecuteTime": {
     "end_time": "2021-07-29T23:04:14.551481Z",
     "start_time": "2021-07-29T23:03:58.459486Z"
    }
   },
   "outputs": [],
   "source": [
    "distributions_gaps = get_proportionality_gaps(optimization = 'Most Fair in each state')"
   ]
  },
  {
   "cell_type": "code",
   "execution_count": 26,
   "metadata": {
    "ExecuteTime": {
     "end_time": "2021-07-29T23:05:10.983857Z",
     "start_time": "2021-07-29T23:05:07.167856Z"
    }
   },
   "outputs": [],
   "source": [
    "_ = plot_all_state_distribution_generic(\n",
    "    distributions_gaps, prop_val=None, do_vertical_integers=False\n",
    "    , ymin=0, ymax=.10, xbins=None, legend=True, xlabel=\"Avg proportionality gap\", do_zoom = False,\n",
    "    bbox_to_anchor=(0.5, .6),do_broken_axes = False,\n",
    "    loc=\"lower left\",\n",
    ")\n",
    "saveimage('prop_gap', extension = 'pdf')"
   ]
  },
  {
   "cell_type": "code",
   "execution_count": 27,
   "metadata": {
    "ExecuteTime": {
     "end_time": "2021-07-29T23:06:44.178534Z",
     "start_time": "2021-07-29T23:06:23.791373Z"
    }
   },
   "outputs": [],
   "source": [
    "distributions_gaps_median = get_proportionality_gaps(optimization = 'Median')"
   ]
  },
  {
   "cell_type": "code",
   "execution_count": 28,
   "metadata": {
    "ExecuteTime": {
     "end_time": "2021-07-29T23:07:16.185973Z",
     "start_time": "2021-07-29T23:06:59.381973Z"
    }
   },
   "outputs": [],
   "source": [
    "distributions_gaps_max = get_proportionality_gaps(optimization = '', get_max_instead = True)"
   ]
  },
  {
   "cell_type": "code",
   "execution_count": 29,
   "metadata": {
    "ExecuteTime": {
     "end_time": "2021-07-29T23:07:55.803971Z",
     "start_time": "2021-07-29T23:07:26.647967Z"
    }
   },
   "outputs": [],
   "source": [
    "distributions_gaps_rep = get_proportionality_gaps(optimization = 'Most Republican')\n",
    "distributions_gaps_dem = get_proportionality_gaps(optimization = 'Most Democratic')"
   ]
  },
  {
   "cell_type": "code",
   "execution_count": 30,
   "metadata": {
    "ExecuteTime": {
     "end_time": "2021-07-29T23:08:08.206964Z",
     "start_time": "2021-07-29T23:08:07.689969Z"
    },
    "scrolled": true
   },
   "outputs": [
    {
     "data": {
      "text/plain": [
       "{'AL':                          1         2         3         4         5         6  \\\n",
       " method                                                                         \n",
       " STV and PAV       0.050110  0.050110  0.050110  0.099413  0.050110  0.092747   \n",
       " Winner takes all  0.378462  0.378462  0.250577  0.145148  0.099164  0.140870   \n",
       " Thiele squared    0.050110  0.050110  0.050110  0.192967  0.186551  0.001987   \n",
       " \n",
       "                          7  \n",
       " method                      \n",
       " STV and PAV       0.118948  \n",
       " Winner takes all  0.118948  \n",
       " Thiele squared    0.118948  ,\n",
       " 'AZ':                          1         2         3         4         5         6  \\\n",
       " method                                                                         \n",
       " STV and PAV       0.019129  0.024607  0.039745  0.091982  0.112255  0.203093   \n",
       " Winner takes all  0.463574  0.009381  0.046384  0.049837  0.068326  0.059538   \n",
       " Thiele squared    0.019129  0.071709  0.039745  0.091982  0.091982  0.203093   \n",
       " \n",
       "                          7         8         9  \n",
       " method                                          \n",
       " STV and PAV       0.204714  0.136401  0.094829  \n",
       " Winner takes all  0.061808  0.069894  0.094829  \n",
       " Thiele squared    0.219720  0.144790  0.094829  ,\n",
       " 'AR':                         1         2         3         4\n",
       " method                                                 \n",
       " STV and PAV       0.11495  0.105233  0.041515  0.145606\n",
       " Winner takes all  0.36495  0.364950  0.160637  0.145606\n",
       " Thiele squared    0.13505  0.135050  0.089363  0.145606,\n",
       " 'CA':                         1         2         3         4         5         6   \\\n",
       " method                                                                         \n",
       " STV and PAV       0.007290  0.007919  0.010690  0.017282  0.022904  0.029614   \n",
       " Winner takes all  0.365781  0.365781  0.365781  0.365781  0.365781  0.365781   \n",
       " Thiele squared    0.068182  0.059794  0.054743  0.047621  0.035875  0.031217   \n",
       " \n",
       "                         7         8         9         10  ...        26  \\\n",
       " method                                                    ...             \n",
       " STV and PAV       0.037680  0.047992  0.048358  0.059067  ...  0.122085   \n",
       " Winner takes all  0.365781  0.365781  0.365781  0.365781  ...  0.345071   \n",
       " Thiele squared    0.022471  0.013878  0.015904  0.003004  ...  0.035636   \n",
       " \n",
       "                         29        32        35        38        41        44  \\\n",
       " method                                                                         \n",
       " STV and PAV       0.153904  0.186167  0.207736  0.225721  0.253475  0.251899   \n",
       " Winner takes all  0.324681  0.325708  0.311354  0.293836  0.296576  0.281016   \n",
       " Thiele squared    0.001696  0.050979  0.102659  0.156526  0.195708  0.226941   \n",
       " \n",
       "                         47        50        53  \n",
       " method                                          \n",
       " STV and PAV       0.261102  0.246710  0.245179  \n",
       " Winner takes all  0.295939  0.250013  0.245179  \n",
       " Thiele squared    0.255004  0.229305  0.245179  \n",
       " \n",
       " [3 rows x 26 columns],\n",
       " 'CO':                          1         2         3         4         5         6  \\\n",
       " method                                                                         \n",
       " STV and PAV       0.033098  0.033098  0.175955  0.175955  0.304602  0.318813   \n",
       " Winner takes all  0.461670  0.461670  0.461670  0.461670  0.449886  0.461670   \n",
       " Thiele squared    0.033098  0.033098  0.033098  0.033098  0.175955  0.318813   \n",
       " \n",
       "                          7  \n",
       " method                      \n",
       " STV and PAV       0.327486  \n",
       " Winner takes all  0.327486  \n",
       " Thiele squared    0.327486  ,\n",
       " 'CT':                          1         2         3         4         5\n",
       " method                                                            \n",
       " STV and PAV       0.031316  0.038146  0.046862  0.231316  0.397799\n",
       " Winner takes all  0.431316  0.402830  0.399262  0.401032  0.397799\n",
       " Thiele squared    0.031316  0.031316  0.031316  0.231316  0.397799,\n",
       " 'FL':                         1         2         3         4         5         6   \\\n",
       " method                                                                         \n",
       " STV and PAV       0.010103  0.007807  0.016713  0.026886  0.034489  0.055883   \n",
       " Winner takes all  0.491585  0.026934  0.163205  0.180119  0.148601  0.151779   \n",
       " Thiele squared    0.010103  0.021254  0.025614  0.042438  0.062393  0.063311   \n",
       " \n",
       "                         7         8         9         10        12        14  \\\n",
       " method                                                                         \n",
       " STV and PAV       0.067721  0.070211  0.037546  0.078512  0.116723  0.096591   \n",
       " Winner takes all  0.134888  0.106380  0.095809  0.103991  0.097107  0.083497   \n",
       " Thiele squared    0.041951  0.091400  0.037546  0.070308  0.063971  0.026934   \n",
       " \n",
       "                         16        18        20        23        26        27  \n",
       " method                                                                        \n",
       " STV and PAV       0.152626  0.183249  0.186044  0.147134  0.083609  0.051137  \n",
       " Winner takes all  0.074720  0.087188  0.076702  0.104904  0.067759  0.051137  \n",
       " Thiele squared    0.101008  0.160317  0.156678  0.136288  0.083609  0.051137  ,\n",
       " 'GA':                         1         2         3         4         5         6   \\\n",
       " method                                                                         \n",
       " STV and PAV       0.033097  0.022143  0.033097  0.053797  0.089681  0.103253   \n",
       " Winner takes all  0.466903  0.033097  0.204786  0.169610  0.159192  0.128507   \n",
       " Thiele squared    0.033097  0.033097  0.062058  0.104525  0.098938  0.104525   \n",
       " \n",
       "                         7         8         9         10        12        14  \n",
       " method                                                                        \n",
       " STV and PAV       0.115895  0.136950  0.155633  0.154468  0.126833  0.110844  \n",
       " Winner takes all  0.108573  0.116911  0.118386  0.108254  0.102041  0.110844  \n",
       " Thiele squared    0.104525  0.151947  0.175954  0.189514  0.156242  0.110844  ,\n",
       " 'HI':                          1         2\n",
       " method                              \n",
       " STV and PAV       0.298443  0.298443\n",
       " Winner takes all  0.298443  0.298443\n",
       " Thiele squared    0.201557  0.298443,\n",
       " 'ID':                          1         2\n",
       " method                              \n",
       " STV and PAV       0.156368  0.343632\n",
       " Winner takes all  0.343632  0.343632\n",
       " Thiele squared    0.156368  0.343632,\n",
       " 'IL':                         1         2         3         4         5         6   \\\n",
       " method                                                                         \n",
       " STV and PAV       0.014354  0.023444  0.050312  0.075465  0.101471  0.115603   \n",
       " Winner takes all  0.403243  0.403243  0.403243  0.393262  0.393262  0.339614   \n",
       " Thiele squared    0.041201  0.026319  0.007463  0.019909  0.055651  0.048700   \n",
       " \n",
       "                         7         8         9         10        12        14  \\\n",
       " method                                                                         \n",
       " STV and PAV       0.137259  0.167215  0.157672  0.181021  0.227902  0.230141   \n",
       " Winner takes all  0.309949  0.290201  0.262961  0.295615  0.288560  0.263366   \n",
       " Thiele squared    0.102919  0.069910  0.022048  0.069910  0.179951  0.224400   \n",
       " \n",
       "                         16        18  \n",
       " method                                \n",
       " STV and PAV       0.245974  0.209626  \n",
       " Winner takes all  0.234059  0.209626  \n",
       " Thiele squared    0.248469  0.209626  ,\n",
       " 'IN':                          1         2         3         4         5         6  \\\n",
       " method                                                                         \n",
       " STV and PAV       0.008144  0.001725  0.005821  0.057344  0.093963  0.123957   \n",
       " Winner takes all  0.452588  0.168274  0.077359  0.049582  0.027333  0.029750   \n",
       " Thiele squared    0.008144  0.039246  0.005821  0.089002  0.102967  0.166675   \n",
       " \n",
       "                          7         8         9  \n",
       " method                                          \n",
       " STV and PAV       0.106981  0.028880  0.031778  \n",
       " Winner takes all  0.028528  0.034710  0.031778  \n",
       " Thiele squared    0.141330  0.053189  0.031778  ,\n",
       " 'IA':                          1         2         3         4\n",
       " method                                                  \n",
       " STV and PAV       0.023384  0.023384  0.080131  0.001515\n",
       " Winner takes all  0.476616  0.043944  0.001515  0.001515\n",
       " Thiele squared    0.023384  0.023384  0.099563  0.001515,\n",
       " 'KS':                          1         2         3         4\n",
       " method                                                  \n",
       " STV and PAV       0.086482  0.048145  0.010137  0.163518\n",
       " Winner takes all  0.413518  0.189492  0.137544  0.163518\n",
       " Thiele squared    0.086482  0.086482  0.067617  0.163518,\n",
       " 'KY':                          1         2         3         4         5         6\n",
       " method                                                                      \n",
       " STV and PAV       0.058692  0.054415  0.084091  0.077407  0.037951  0.167521\n",
       " Winner takes all  0.392026  0.352458  0.207891  0.144600  0.174368  0.167521\n",
       " Thiele squared    0.107974  0.045503  0.107974  0.121230  0.018947  0.167521,\n",
       " 'LA':                          1         2         3         4         5         6\n",
       " method                                                                      \n",
       " STV and PAV       0.068278  0.068278  0.098389  0.141553  0.090903  0.068278\n",
       " Winner takes all  0.401611  0.401611  0.109761  0.074694  0.068278  0.068278\n",
       " Thiele squared    0.098389  0.068278  0.098389  0.251866  0.095181  0.068278,\n",
       " 'ME':                         1         2\n",
       " method                             \n",
       " STV and PAV       0.05292  0.385055\n",
       " Winner takes all  0.44708  0.385055\n",
       " Thiele squared    0.05292  0.385055,\n",
       " 'MD':                          1         2         3         4         5         6  \\\n",
       " method                                                                         \n",
       " STV and PAV       0.051995  0.034317  0.078453  0.119542  0.151815  0.194363   \n",
       " Winner takes all  0.426995  0.275743  0.283377  0.261464  0.270174  0.259055   \n",
       " Thiele squared    0.073005  0.003404  0.051995  0.017732  0.111677"
      ]
     },
     "execution_count": 30,
     "metadata": {},
     "output_type": "execute_result"
    },
    {
     "data": {
      "text/html": [
       "<b>limit_output extension: Maximum message size of 10000 exceeded with 25226 characters</b>"
      ]
     },
     "metadata": {},
     "output_type": "display_data"
    }
   ],
   "source": [
    "distributions_gaps_dem"
   ]
  },
  {
   "cell_type": "code",
   "execution_count": 31,
   "metadata": {
    "ExecuteTime": {
     "end_time": "2021-07-29T23:08:26.123965Z",
     "start_time": "2021-07-29T23:08:20.869966Z"
    }
   },
   "outputs": [],
   "source": [
    "fig = plt.figure(figsize = (18, 5))\n",
    "ax = plt.subplot(1,3, 1)\n",
    "_ = plot_all_state_distribution_generic(\n",
    "    distributions_gaps_median, prop_val=None, do_vertical_integers=False\n",
    "    , ymin=0, ymax=.3, xbins=None, legend=False, xlabel=\"Avg proportionality gap\", do_zoom = False,\n",
    "    bbox_to_anchor=(0.5, .6),do_broken_axes = False, ax = ax,\n",
    "    loc=\"lower left\",\n",
    ")\n",
    "ax.set_title('Median maps', fontsize = 20)\n",
    "ax = plt.subplot(1,3, 2)\n",
    "_ = plot_all_state_distribution_generic(\n",
    "    distributions_gaps_rep, prop_val=None, do_vertical_integers=False\n",
    "    , ymin=0, ymax=.3, xbins=None, legend=False, xlabel=\"Avg proportionality gap\", do_zoom = False,\n",
    "    bbox_to_anchor=(0.5, .6),do_broken_axes = False,ax = ax,\n",
    "    loc=\"lower left\",\n",
    ")\n",
    "ax.set_title('Most Republican maps', fontsize = 20)\n",
    "ax = plt.subplot(1,3, 3)\n",
    "_ = plot_all_state_distribution_generic(\n",
    "    distributions_gaps_dem, prop_val=None, do_vertical_integers=False\n",
    "    , ymin=0, ymax=.3, xbins=None, legend=True, xlabel=\"Avg proportionality gap\", do_zoom = False,\n",
    "    bbox_to_anchor=(0.5, .6),do_broken_axes = False,ax = ax,\n",
    "    loc=\"lower left\",\n",
    ")\n",
    "ax.set_title('Most Democratic maps', fontsize = 20)\n",
    "saveimage('prop_gap_medianrepdem', extension = 'pdf')"
   ]
  },
  {
   "cell_type": "code",
   "execution_count": 32,
   "metadata": {
    "ExecuteTime": {
     "end_time": "2021-07-29T23:08:42.239998Z",
     "start_time": "2021-07-29T23:08:38.869001Z"
    }
   },
   "outputs": [],
   "source": [
    "_ = plot_all_state_distribution_generic(\n",
    "    distributions_gaps_median, prop_val=None, do_vertical_integers=False\n",
    "    , ymin=0, ymax=.3, xbins=None, legend=True, xlabel=\"Avg proportionality gap\", do_zoom = False,\n",
    "    bbox_to_anchor=(0.5, .6),do_broken_axes = False,\n",
    "    loc=\"lower left\",\n",
    ")\n",
    "saveimage('prop_gap_median', extension = 'pdf')"
   ]
  },
  {
   "cell_type": "code",
   "execution_count": 33,
   "metadata": {
    "ExecuteTime": {
     "end_time": "2021-07-29T23:08:57.343005Z",
     "start_time": "2021-07-29T23:08:53.474002Z"
    }
   },
   "outputs": [
    {
     "data": {
      "image/png": "[encoded data removed]",
      "text/plain": [
       "<Figure size 432x288 with 1 Axes>"
      ]
     },
     "metadata": {
      "needs_background": "light"
     },
     "output_type": "display_data"
    }
   ],
   "source": [
    "#Proportionality gap by the maximum gerrymanderes\n",
    "_ = plot_all_state_distribution_generic(\n",
    "    distributions_gaps_max, prop_val=None, do_vertical_integers=False\n",
    "    , ymin=0, ymax=.6, xbins=None, legend=True, xlabel=\"Avg proportionality gap\", do_zoom = False,\n",
    "    bbox_to_anchor=(0.5, .6),do_broken_axes = False,\n",
    "    loc=\"lower left\",\n",
    ")\n",
    "saveimage('prop_gap_maxgerrymandered', extension = 'pdf')\n",
    "_ = plot_all_state_distribution_generic(\n",
    "    distributions_gaps_max, prop_val=None, do_vertical_integers=False\n",
    "    , ymin=0, ymax=.6, xbins=None, legend=True, xlabel=\"Avg proportionality gap\", do_zoom = False,\n",
    "    bbox_to_anchor=(0.5, .6),do_broken_axes = False,#ncols = 2,\n",
    "    loc=\"lower left\",\n",
    ")"
   ]
  },
  {
   "cell_type": "markdown",
   "metadata": {},
   "source": [
    "# Competitiveness"
   ]
  },
  {
   "cell_type": "code",
   "execution_count": 108,
   "metadata": {
    "ExecuteTime": {
     "end_time": "2021-08-11T04:28:33.578810Z",
     "start_time": "2021-08-11T04:28:33.501820Z"
    }
   },
   "outputs": [],
   "source": [
    "# For each district, wasted votes is just distance to the nearest droop quota threshold\n",
    "# For each plan (in master dataframe) I just sum across wasted votes in each district.\n",
    "# and then I think I can use that seat share distribution thing to create the thing that will lead to the line plot"
   ]
  },
  {
   "cell_type": "code",
   "execution_count": 155,
   "metadata": {
    "ExecuteTime": {
     "end_time": "2021-08-11T16:44:12.613186Z",
     "start_time": "2021-08-11T16:44:12.476121Z"
    }
   },
   "outputs": [],
   "source": [
    "from elections.median_voter import thiele_voting_methods\n",
    "from elections.thiele_competitiveness_helpers import get_vote_thresholds_for_n_winners\n",
    "# thiele_voting_methods"
   ]
  },
  {
   "cell_type": "code",
   "execution_count": 156,
   "metadata": {
    "ExecuteTime": {
     "end_time": "2021-08-11T16:44:18.031188Z",
     "start_time": "2021-08-11T16:44:17.907193Z"
    }
   },
   "outputs": [
    {
     "data": {
      "text/plain": [
       "['thiele_pav', 'thiele_independent', 'thiele_squared']"
      ]
     },
     "execution_count": 156,
     "metadata": {},
     "output_type": "execute_result"
    }
   ],
   "source": [
    "methods"
   ]
  },
  {
   "cell_type": "code",
   "execution_count": 172,
   "metadata": {
    "ExecuteTime": {
     "end_time": "2021-08-11T16:50:55.272977Z",
     "start_time": "2021-08-11T16:50:55.125941Z"
    }
   },
   "outputs": [],
   "source": [
    "method_share_thresholds_all_rules = {met:{} for met in methods}\n",
    "def get_wasted_votes_per_row(row, rule, rulename):\n",
    "    vs = row.district_vote_shares\n",
    "    nwinners = row.district_n_winners\n",
    "    wasted = 0\n",
    "    for en, nw in enumerate(nwinners):\n",
    "        if nw not in method_share_thresholds_all_rules[rulename]:\n",
    "            method_share_thresholds_all_rules[rulename][nw] = get_vote_thresholds_for_n_winners(rule, nw)\n",
    "        wasted += min([abs(vs[en] - x) for x in method_share_thresholds_all_rules[rulename][nw]])*nw/row.total_winners\n",
    "    return wasted"
   ]
  },
  {
   "cell_type": "code",
   "execution_count": 173,
   "metadata": {
    "ExecuteTime": {
     "end_time": "2021-08-11T16:51:03.700936Z",
     "start_time": "2021-08-11T16:51:03.527975Z"
    }
   },
   "outputs": [],
   "source": [
    "def evalmaybelist(val):\n",
    "    if type(val) == str:\n",
    "        return eval(val)\n",
    "    return val"
   ]
  },
  {
   "cell_type": "code",
   "execution_count": 195,
   "metadata": {
    "ExecuteTime": {
     "end_time": "2021-08-12T20:43:24.545574Z",
     "start_time": "2021-08-12T20:43:24.423411Z"
    }
   },
   "outputs": [],
   "source": [
    "from functools import partial\n",
    "def add_wasted_votes_to_df(dft, rule, rulename, do_just_subsampled = False):\n",
    "    if do_just_subsampled:\n",
    "        is_subsampled = dft.eval('optimization==\"subsampled\" or optimization==\"single_district_for_state\"')\n",
    "    else:\n",
    "        t=True\n",
    "        is_subsampled = dft.eval('optimization==\"subsampled\" or @t')\n",
    "    print(rule, sum(is_subsampled))\n",
    "    dft.loc[is_subsampled,'district_vote_shares'] = dft.loc[is_subsampled,'district_vote_shares'].apply(evalmaybelist)\n",
    "    dft.loc[is_subsampled,'district_n_winners'] = dft.loc[is_subsampled,'district_n_winners'].apply(evalmaybelist)\n",
    "    fun = partial(get_wasted_votes_per_row, rule = rule, rulename = rulename)\n",
    "    dft.loc[is_subsampled,'wasted_votes'] = dft.loc[is_subsampled].apply(fun, axis = 1)\n",
    "    return dft"
   ]
  },
  {
   "cell_type": "code",
   "execution_count": 196,
   "metadata": {
    "ExecuteTime": {
     "end_time": "2021-08-12T20:43:32.874236Z",
     "start_time": "2021-08-12T20:43:32.767410Z"
    }
   },
   "outputs": [],
   "source": [
    "# re-orienting it so each line is a method, not min/max/median/most fair\n",
    "def get_competitiveness_per_method(distribibutions_compet, optimization = 'Median'):\n",
    "    distributions_gaps = {}\n",
    "    for state in states:\n",
    "        d = {'method': [method_names[met] for met in methods_to_plot]}\n",
    "        for method in methods_to_plot:\n",
    "            vals = distribibutions_compet[method][state].loc[optimization]\n",
    "            for i in vals.index:\n",
    "                d[i] = d.get(i,[]) + [vals[i]]\n",
    "        distributions_gaps[state] = pd.DataFrame(d).set_index('method')\n",
    "    return distributions_gaps"
   ]
  },
  {
   "cell_type": "code",
   "execution_count": 197,
   "metadata": {
    "ExecuteTime": {
     "end_time": "2021-08-12T21:15:46.601014Z",
     "start_time": "2021-08-12T20:43:40.834912Z"
    }
   },
   "outputs": [
    {
     "name": "stdout",
     "output_type": "stream",
     "text": [
      "<function thiele_pav at 0x0000023D31469C80> 1819737\n",
      "<function thiele_approvalindependent at 0x0000023D31469D08> 1819737\n",
      "<function thiele_squared at 0x0000023D31469D90> 1819737\n"
     ]
    }
   ],
   "source": [
    "# takes about 10-20 minutes or so\n",
    "dfs['thiele_pav'] = add_wasted_votes_to_df(dfs['thiele_pav'], thiele_pav, rulename = 'thiele_pav')\n",
    "dfs['thiele_independent'] = add_wasted_votes_to_df(dfs['thiele_independent'], thiele_approvalindependent, rulename = 'thiele_independent')\n",
    "dfs['thiele_squared'] = add_wasted_votes_to_df(dfs['thiele_squared'], thiele_squared, rulename = 'thiele_squared')"
   ]
  },
  {
   "cell_type": "code",
   "execution_count": 205,
   "metadata": {
    "ExecuteTime": {
     "end_time": "2021-08-12T21:24:04.880976Z",
     "start_time": "2021-08-12T21:23:31.255998Z"
    }
   },
   "outputs": [
    {
     "name": "stdout",
     "output_type": "stream",
     "text": [
      "['AL' 'AZ' 'AR' 'CA' 'CO' 'CT' 'FL' 'GA' 'HI' 'ID' 'IL' 'IN' 'IA' 'KS'\n",
      " 'KY' 'LA' 'ME' 'MD' 'MA' 'MI' 'MN' 'MS' 'MO' 'NE' 'NV' 'NH' 'NJ' 'NM'\n",
      " 'NY' 'NC' 'OH' 'OK' 'OR' 'PA' 'RI' 'SC' 'TN' 'TX' 'UT' 'VA' 'WA' 'WV'\n",
      " 'WI']\n",
      "['AL' 'AZ' 'AR' 'CA' 'CO' 'CT' 'FL' 'GA' 'HI' 'ID' 'IL' 'IN' 'IA' 'KS'\n",
      " 'KY' 'LA' 'ME' 'MD' 'MA' 'MI' 'MN' 'MS' 'MO' 'NE' 'NV' 'NH' 'NJ' 'NM'\n",
      " 'NY' 'NC' 'OH' 'OK' 'OR' 'PA' 'RI' 'SC' 'TN' 'TX' 'UT' 'VA' 'WA' 'WV'\n",
      " 'WI']\n",
      "['AL' 'AZ' 'AR' 'CA' 'CO' 'CT' 'FL' 'GA' 'HI' 'ID' 'IL' 'IN' 'IA' 'KS'\n",
      " 'KY' 'LA' 'ME' 'MD' 'MA' 'MI' 'MN' 'MS' 'MO' 'NE' 'NV' 'NH' 'NJ' 'NM'\n",
      " 'NY' 'NC' 'OH' 'OK' 'OR' 'PA' 'RI' 'SC' 'TN' 'TX' 'UT' 'VA' 'WA' 'WV'\n",
      " 'WI']\n"
     ]
    },
    {
     "data": {
      "text/plain": [
       "{'thiele_pav': {'AL':                                 1         2         3         4         5  \\\n",
       "  Most Republican          0.004121  0.063386  0.028074  0.078649  0.034275   \n",
       "  Median                   0.004121  0.063823  0.049476  0.056821  0.056759   \n",
       "  Most Fair in each state  0.004121  0.042939  0.063086  0.046093  0.095804   \n",
       "  Most Democratic          0.004121  0.040506  0.080841  0.023067  0.098475   \n",
       "  \n",
       "                                  6         7  \n",
       "  Most Republican          0.074394  0.121832  \n",
       "  Median                   0.127997  0.122854  \n",
       "  Most Fair in each state  0.144422  0.139540  \n",
       "  Most Democratic          0.144422  0.139540  ,\n",
       "  'AZ':                                 1         2         3         4         5  \\\n",
       "  Most Republican          0.035548  0.078637  0.035566  0.076381  0.113446   \n",
       "  Median                   0.035548  0.045428  0.038970  0.093797  0.118629   \n",
       "  Most Fair in each state  0.035548  0.015591  0.047964  0.047610  0.061174   \n",
       "  Most Democratic          0.035548  0.013219  0.057631  0.083829  0.069572   \n",
       "  \n",
       "                                  6         7         8         9  \n",
       "  Most Republican          0.085867  0.109341  0.070917  0.065993  \n",
       "  Median                   0.123224  0.084232  0.095998  0.072537  \n",
       "  Most Fair in each state  0.059182  0.065412  0.077761  0.058989  \n",
       "  Most Democratic          0.084857  0.042833  0.047423  0.071087  ,\n",
       "  'AR':                                 1         2         3         4\n",
       "  Most Republican          0.034875  0.062960  0.052475  0.137160\n",
       "  Median                   0.034875  0.045550  0.105350  0.134251\n",
       "  Most Fair in each state  0.034875  0.033300  0.059001  0.149001\n",
       "  Most Democratic          0.034875  0.031929  0.059001  0.149001,\n",
       "  'CA':                                1         2         3         4         5   \\\n",
       "  Most Republican          0.005045  0.005752  0.010912  0.020401  0.018415   \n",
       "  Median                   0.005045  0.008616  0.024301  0.019865  0.022172   \n",
       "  Most Fair in each state  0.005045  0.012501  0.010912  0.019085  0.016052   \n",
       "  Most Democratic          0.005045  0.011588  0.010491  0.021339  0.032243   \n",
       "  \n",
       "                                 6         7         8         9         10  \\\n",
       "  Most Republican          0.016919  0.017892  0.025252  0.032173  0.034880   \n",
       "  Median                   0.023780  0.021868  0.031191  0.039872  0.047307   \n",
       "  Most Fair in each state  0.027015  0.035609  0.031860  0.030271  0.028502   \n",
       "  Most Democratic          0.026951  0.020189  0.032444  0.036028  0.031291   \n",
       "  \n",
       "                           ...        26        29        32        35  \\\n",
       "  Most Republican          ...  0.087854  0.088229  0.093424  0.090030   \n",
       "  Median                   ...  0.097678  0.097754  0.098100  0.115410   \n",
       "  Most Fair in each state  ...  0.092034  0.094400  0.095597  0.103525   \n",
       "  Most Democratic          ...  0.092859  0.093799  0.090104  0.106416   \n",
       "  \n",
       "                                 38        41        44        47        50  \\\n",
       "  Most Republican          0.095599  0.110287  0.119205  0.129785  0.142815   \n",
       "  Median                   0.109626  0.110522  0.126983  0.128344  0.149633   \n",
       "  Most Fair in each state  0.092536  0.102451  0.120407  0.129785  0.142815   \n",
       "  Most Democratic          0.107488  0.105148  0.128874  0.122915  0.134550   \n",
       "  \n",
       "                                 53  \n",
       "  Most Republican          0.153608  \n",
       "  Median                   0.151064  \n",
       "  Most Fair in each state  0.153608  \n",
       "  Most Democratic          0.148835  \n",
       "  \n",
       "  [4 rows x 26 columns],\n",
       "  'CO':                                 1         2         3         4         5  \\\n",
       "  Most Republican          0.039209  0.021639  0.055692  0.063171  0.060537   \n",
       "  Median                   0.039209  0.032153  0.081388  0.056568  0.060544   \n",
       "  Most Fair in each state  0.039209  0.025649  0.054214  0.088800  0.052357   \n",
       "  Most Democratic          0.039209  0.095800  0.042455  0.091426  0.042807   \n",
       "  \n",
       "                                  6         7  \n",
       "  Most Republican          0.085979  0.076206  \n",
       "  Median                   0.052984  0.100930  \n",
       "  Most Fair in each state  0.051418  0.086082  \n",
       "  Most Democratic          0.087867  0.042561  ,\n",
       "  'CT':                                 1         2         3         4         5\n",
       "  Most Republican          0.069563  0.052613  0.063357  0.067370  0.081248\n",
       "  Median                   0.069563  0.103955  0.085871  0.081508  0.070668\n",
       "  Most Fair in each state  0.069563  0.052613  0.075571  0.067370  0.081248\n",
       "  Most Democratic          0.069563  0.061871  0.108649  0.105881  0.069604,\n",
       "  'FL':                                1         2         3         4         5   \\\n",
       "  Most Republican          0.007537  0.024417  0.038477  0.022869  0.038219   \n",
       "  Median                   0.007537  0.023757  0.025628  0.029500  0.037678   \n",
       "  Most Fair in each state  0.007537  0.017110  0.014659  0.025280  0.037781   \n",
       "  Most Democratic          0.007537  0.012422  0.027328  0.014981  0.027234   \n",
       "  \n",
       "                                 6         7         8         9         10  \\\n",
       "  Most Republican          0.045553  0.061006  0.045005  0.058431  0.066094   \n",
       "  Median                   0.026147  0.046777  0.058060  0.064660  0.071940   \n",
       "  Most Fair in each state  0.027574  0.038429  0.051843  0.049287  0.055066   \n",
       "  Most Democratic          0.043196  0.028179  0.038801  0.057822  0.050681   \n",
       "  \n",
       "                                 12        14        16        18        20  \\\n",
       "  Most Republican          0.082962  0.077990  0.085569  0.075335  0.079004   \n",
       "  Median                   0.116489  0.104343  0.094444  0.098053  0.089737   \n",
       "  Most Fair in each state  0.066256  0.087209  0.082978  0.087650  0.098608   \n",
       "  Most Democratic          0.055572  0.087352  0.083883  0.084922  0.078363   \n",
       "  \n",
       "                                 23        26        27  \n",
       "  Most Republican          0.072149  0.074608  0.088569  \n",
       "  Median                   0.076820  0.090279  0.082842  \n",
       "  Most Fair in each state  0.101670  0.096136  0.084606  \n",
       "  Most Democratic          0.064299  0.085374  0.086920  ,\n",
       "  'GA':                                1         2         3         4         5   \\\n",
       "  Most Republican          0.000295  0.033280  0.024799  0.034963  0.065199   \n",
       "  Median                   0.000295  0.030799  0.031216  0.056613  0.074422   \n",
       "  Most Fair in each state  0.000295  0.029006  0.043525  0.031447  0.031105   \n",
       "  Most Democratic          0.000295  0.031248  0.052768  0.026289  0.046073   \n",
       "  \n",
       "                                 6         7         8         9         10  \\\n",
       "  Most Republican          0.032078  0.075565  0.069709  0.056991  0.083628   \n",
       "  Median                   0.071136  0.093442  0.106665  0.077813  0.114100   \n",
       "  Most Fair in each state  0.041808  0.060364  0.060819  0.080027  0.083044   \n",
       "  Most Democratic          0.064793  0.035011  0.063383  0.082583  0.101495   \n",
       "  \n",
       "                                 12        14  \n",
       "  Most Republican          0.087615  0.107768  \n",
       "  Median                   0.131264  0.131009  \n",
       "  Most Fair in each state  0.135640  0.116757  \n",
       "  Most Democratic          0.102142  0.105378  ,\n",
       "  'HI':                                 1         2\n",
       "  Most Republican          0.035477  0.200154\n",
       "  Median                   0.035477  0.199753\n",
       "  Most Fair in each state  0.035477  0.200154\n",
       "  Most Democratic          0.035477  0.200154,\n",
       "  'ID':                                 1         2\n",
       "  Most Republican          0.010591  0.156470\n",
       "  Median                   0.010591  0.155198\n",
       "  Most Fair in each state  0.010591  0.156470\n",
       "  Most Democratic          0.010591  0.156470,\n",
       "  'IL':                               1         2         3         4         5   \\\n",
       "  Most Republican          0.01855  0.015069  0.021080  0.037059  0.051997   \n",
       "  Median                   0.01855  0.049014  0.037203  0.047033  0.033920   \n",
       "  Most Fair in each state  0.01855  0.015069  0.039805  0.036278  0.051073   \n",
       "  Most Democratic          0.01855  0.017279  0.029336  0.041521  0.039896   \n",
       "  \n",
       "                                 6         7         8         9         10  \\\n",
       "  Most Republican          0.066132  0.037383  0.043549  0.087202  0.087646   \n",
       "  Median                   0.041586  0.082912  0.109592  0.120634  0.088035   \n",
       "  Most Fair in each state  0.042291  0.048985  0.074221  0.102746  0.102465   \n",
       "  Most Democratic          0.042914  0.049394  0.063850  0.080047  0.092694   \n",
       "  \n",
       "                                 12        14        16        18  \n",
       "  Most Republican          0.093284  0.129462  0.112304  0.135496  \n",
       "  Median                   0.131530  0.078596  0.145233  0.132080  \n",
       "  Most Fair in each state  0.112040  0.128304  0.132662  0.135496  \n",
       "  Most Democratic          0.099958  0.101817  0.139087  0.124566  ,\n",
       "  'IN':                                 1         2         3         4         5  \\\n",
       "  Most Republican          0.046533  0.002021  0.046435  0.069307  0.089617   \n",
       "  Median                   0.046533  0.043320  0.046464  0.118394  0.117234   \n",
       "  Most Fair in each state  0.046533  0.051357  0.094998  0.084671  0.110524   \n",
       "  Most Democratic          0.046533  0.051357  0.074274  0.063350  0.101316   \n",
       "  \n",
       "                                  6         7         8         9  \n",
       "  Most Republican          0.104722  0.120958  0.083763  0.046353  \n",
       "  Median                   0.090649  0.115544  0.090743  0.095900  \n",
       "  Most Fair in each st"
      ]
     },
     "execution_count": 205,
     "metadata": {},
     "output_type": "execute_result"
    },
    {
     "data": {
      "text/html": [
       "<b>limit_output extension: Maximum message size of 10000 exceeded with 90572 characters</b>"
      ]
     },
     "metadata": {},
     "output_type": "display_data"
    }
   ],
   "source": [
    "distributions_compet = {method: state_seat_share_distributions_nikhil(dfs[method]\n",
    "                               , col = 'wasted_votes'\n",
    "                                      , divide = False\n",
    "                                      , col_for_minmaxmostfair = 'N_winners_Republican') for method in methods}\n",
    "distributions_compet"
   ]
  },
  {
   "cell_type": "code",
   "execution_count": 206,
   "metadata": {
    "ExecuteTime": {
     "end_time": "2021-08-12T21:24:22.072976Z",
     "start_time": "2021-08-12T21:24:21.871977Z"
    }
   },
   "outputs": [
    {
     "data": {
      "text/html": [
       "<div>\n",
       "<style scoped>\n",
       "    .dataframe tbody tr th:only-of-type {\n",
       "        vertical-align: middle;\n",
       "    }\n",
       "\n",
       "    .dataframe tbody tr th {\n",
       "        vertical-align: top;\n",
       "    }\n",
       "\n",
       "    .dataframe thead th {\n",
       "        text-align: right;\n",
       "    }\n",
       "</style>\n",
       "<table border=\"1\" class=\"dataframe\">\n",
       "  <thead>\n",
       "    <tr style=\"text-align: right;\">\n",
       "      <th></th>\n",
       "      <th>1</th>\n",
       "      <th>2</th>\n",
       "      <th>3</th>\n",
       "      <th>4</th>\n",
       "      <th>5</th>\n",
       "      <th>6</th>\n",
       "      <th>7</th>\n",
       "    </tr>\n",
       "  </thead>\n",
       "  <tbody>\n",
       "    <tr>\n",
       "      <th>Most Republican</th>\n",
       "      <td>0.004121</td>\n",
       "      <td>0.063386</td>\n",
       "      <td>0.028074</td>\n",
       "      <td>0.078649</td>\n",
       "      <td>0.034275</td>\n",
       "      <td>0.074394</td>\n",
       "      <td>0.121832</td>\n",
       "    </tr>\n",
       "    <tr>\n",
       "      <th>Median</th>\n",
       "      <td>0.004121</td>\n",
       "      <td>0.063823</td>\n",
       "      <td>0.049476</td>\n",
       "      <td>0.056821</td>\n",
       "      <td>0.056759</td>\n",
       "      <td>0.127997</td>\n",
       "      <td>0.122854</td>\n",
       "    </tr>\n",
       "    <tr>\n",
       "      <th>Most Fair in each state</th>\n",
       "      <td>0.004121</td>\n",
       "      <td>0.042939</td>\n",
       "      <td>0.063086</td>\n",
       "      <td>0.046093</td>\n",
       "      <td>0.095804</td>\n",
       "      <td>0.144422</td>\n",
       "      <td>0.139540</td>\n",
       "    </tr>\n",
       "    <tr>\n",
       "      <th>Most Democratic</th>\n",
       "      <td>0.004121</td>\n",
       "      <td>0.040506</td>\n",
       "      <td>0.080841</td>\n",
       "      <td>0.023067</td>\n",
       "      <td>0.098475</td>\n",
       "      <td>0.144422</td>\n",
       "      <td>0.139540</td>\n",
       "    </tr>\n",
       "  </tbody>\n",
       "</table>\n",
       "</div>"
      ],
      "text/plain": [
       "                                1         2         3         4         5  \\\n",
       "Most Republican          0.004121  0.063386  0.028074  0.078649  0.034275   \n",
       "Median                   0.004121  0.063823  0.049476  0.056821  0.056759   \n",
       "Most Fair in each state  0.004121  0.042939  0.063086  0.046093  0.095804   \n",
       "Most Democratic          0.004121  0.040506  0.080841  0.023067  0.098475   \n",
       "\n",
       "                                6         7  \n",
       "Most Republican          0.074394  0.121832  \n",
       "Median                   0.127997  0.122854  \n",
       "Most Fair in each state  0.144422  0.139540  \n",
       "Most Democratic          0.144422  0.139540  "
      ]
     },
     "execution_count": 206,
     "metadata": {},
     "output_type": "execute_result"
    }
   ],
   "source": [
    "distributions_compet['thiele_pav']['AL']"
   ]
  },
  {
   "cell_type": "code",
   "execution_count": 207,
   "metadata": {
    "ExecuteTime": {
     "end_time": "2021-08-12T21:24:39.119975Z",
     "start_time": "2021-08-12T21:24:38.963009Z"
    }
   },
   "outputs": [
    {
     "data": {
      "text/html": [
       "<div>\n",
       "<style scoped>\n",
       "    .dataframe tbody tr th:only-of-type {\n",
       "        vertical-align: middle;\n",
       "    }\n",
       "\n",
       "    .dataframe tbody tr th {\n",
       "        vertical-align: top;\n",
       "    }\n",
       "\n",
       "    .dataframe thead th {\n",
       "        text-align: right;\n",
       "    }\n",
       "</style>\n",
       "<table border=\"1\" class=\"dataframe\">\n",
       "  <thead>\n",
       "    <tr style=\"text-align: right;\">\n",
       "      <th></th>\n",
       "      <th>1</th>\n",
       "      <th>2</th>\n",
       "      <th>3</th>\n",
       "      <th>4</th>\n",
       "      <th>5</th>\n",
       "      <th>6</th>\n",
       "      <th>7</th>\n",
       "    </tr>\n",
       "  </thead>\n",
       "  <tbody>\n",
       "    <tr>\n",
       "      <th>Most Republican</th>\n",
       "      <td>0.12066</td>\n",
       "      <td>0.120128</td>\n",
       "      <td>0.120105</td>\n",
       "      <td>0.121100</td>\n",
       "      <td>0.121740</td>\n",
       "      <td>0.121136</td>\n",
       "      <td>0.121832</td>\n",
       "    </tr>\n",
       "    <tr>\n",
       "      <th>Median</th>\n",
       "      <td>0.12066</td>\n",
       "      <td>0.120631</td>\n",
       "      <td>0.121188</td>\n",
       "      <td>0.122271</td>\n",
       "      <td>0.123513</td>\n",
       "      <td>0.121014</td>\n",
       "      <td>0.122854</td>\n",
       "    </tr>\n",
       "    <tr>\n",
       "      <th>Most Fair in each state</th>\n",
       "      <td>0.12066</td>\n",
       "      <td>0.120128</td>\n",
       "      <td>0.122585</td>\n",
       "      <td>0.133397</td>\n",
       "      <td>0.144510</td>\n",
       "      <td>0.132164</td>\n",
       "      <td>0.139540</td>\n",
       "    </tr>\n",
       "    <tr>\n",
       "      <th>Most Democratic</th>\n",
       "      <td>0.12066</td>\n",
       "      <td>0.120128</td>\n",
       "      <td>0.122585</td>\n",
       "      <td>0.133397</td>\n",
       "      <td>0.144510</td>\n",
       "      <td>0.132164</td>\n",
       "      <td>0.139540</td>\n",
       "    </tr>\n",
       "  </tbody>\n",
       "</table>\n",
       "</div>"
      ],
      "text/plain": [
       "                               1         2         3         4         5  \\\n",
       "Most Republican          0.12066  0.120128  0.120105  0.121100  0.121740   \n",
       "Median                   0.12066  0.120631  0.121188  0.122271  0.123513   \n",
       "Most Fair in each state  0.12066  0.120128  0.122585  0.133397  0.144510   \n",
       "Most Democratic          0.12066  0.120128  0.122585  0.133397  0.144510   \n",
       "\n",
       "                                6         7  \n",
       "Most Republican          0.121136  0.121832  \n",
       "Median                   0.121014  0.122854  \n",
       "Most Fair in each state  0.132164  0.139540  \n",
       "Most Democratic          0.132164  0.139540  "
      ]
     },
     "execution_count": 207,
     "metadata": {},
     "output_type": "execute_result"
    }
   ],
   "source": [
    "distributions_compet['thiele_independent']['AL']"
   ]
  },
  {
   "cell_type": "code",
   "execution_count": 217,
   "metadata": {
    "ExecuteTime": {
     "end_time": "2021-08-12T21:29:18.247752Z",
     "start_time": "2021-08-12T21:29:16.231721Z"
    }
   },
   "outputs": [],
   "source": [
    "distributions_compet_methods_median = get_competitiveness_per_method(distributions_compet)\n",
    "_ = plot_all_state_distribution_generic(\n",
    "    distributions_compet_methods_median, ymin=0, ymax=.25, xbins=None, legend=False, xlabel=\"Avg Vote shift needed\",\n",
    "    bbox_to_anchor=(0.5, .6),\n",
    "    loc=\"lower left\",\n",
    ")\n",
    "saveimage('competitiveness_median', extension = 'pdf')"
   ]
  },
  {
   "cell_type": "code",
   "execution_count": 218,
   "metadata": {
    "ExecuteTime": {
     "end_time": "2021-08-12T21:29:33.072733Z",
     "start_time": "2021-08-12T21:29:30.709696Z"
    }
   },
   "outputs": [],
   "source": [
    "# Most fair \n",
    "distributions_compet_methods_mostfair = get_competitiveness_per_method(distributions_compet,optimization= 'Most Fair in each state')\n",
    "_ = plot_all_state_distribution_generic(\n",
    "    distributions_compet_methods_mostfair, ymin=0, ymax=.25, xbins=None, legend=False, xlabel=\"Avg Vote shift needed\",\n",
    "    bbox_to_anchor=(0.5, .6),\n",
    "    loc=\"lower left\",\n",
    ")\n",
    "saveimage('competitiveness_mostfair', extension = 'pdf')"
   ]
  },
  {
   "cell_type": "code",
   "execution_count": 219,
   "metadata": {
    "ExecuteTime": {
     "end_time": "2021-08-12T21:29:48.236690Z",
     "start_time": "2021-08-12T21:29:46.237692Z"
    }
   },
   "outputs": [],
   "source": [
    "distributions_compet_methods_mostrep = get_competitiveness_per_method(distributions_compet,optimization= 'Most Republican')\n",
    "_ = plot_all_state_distribution_generic(\n",
    "    distributions_compet_methods_mostrep, ymin=0, ymax=.25, xbins=None, legend=False, xlabel=\"Avg Vote shift needed\",\n",
    "    bbox_to_anchor=(0.5, .6),\n",
    "    loc=\"lower left\",\n",
    ")\n",
    "saveimage('competitiveness_mostrep', extension = 'pdf')"
   ]
  },
  {
   "cell_type": "code",
   "execution_count": 220,
   "metadata": {
    "ExecuteTime": {
     "end_time": "2021-08-12T21:30:02.563689Z",
     "start_time": "2021-08-12T21:30:00.368687Z"
    }
   },
   "outputs": [],
   "source": [
    "distributions_compet_methods_mostdem = get_competitiveness_per_method(distributions_compet,optimization= 'Most Democratic')\n",
    "_ = plot_all_state_distribution_generic(\n",
    "    distributions_compet_methods_mostdem, ymin=0, ymax=.25, xbins=None, legend=True, xlabel=\"Avg Vote shift needed\",\n",
    "    bbox_to_anchor=(0.5, .6),\n",
    "    loc=\"lower left\",\n",
    ")\n",
    "saveimage('competitiveness_mostdem', extension = 'pdf')"
   ]
  },
  {
   "cell_type": "markdown",
   "metadata": {},
   "source": [
    "# Intra party stuff"
   ]
  },
  {
   "cell_type": "markdown",
   "metadata": {},
   "source": [
    "## Cohesion"
   ]
  },
  {
   "cell_type": "code",
   "execution_count": 43,
   "metadata": {
    "ExecuteTime": {
     "end_time": "2021-07-29T23:16:58.474155Z",
     "start_time": "2021-07-29T23:16:58.356159Z"
    }
   },
   "outputs": [],
   "source": [
    "def get_cohesion_df(dfstv = dfs['stv'], coltemplate = \"cohesion_partisan_score_{}\"):\n",
    "    parties = ['Republican','Democrat']\n",
    "    party_names = {'Republican':'Republican', 'Democrat':'Democratic'}\n",
    "    \n",
    "    distributions_cohesion_party = {}\n",
    "    for party in parties:\n",
    "        distributions_cohesion_party[party] = state_seat_share_distributions_nikhil(\n",
    "            dfstv, col=coltemplate.format(party), do_most_fair=False, divide=False\n",
    "            , min_name=\"Least cohesive\", max_name=\"Most cohesive\"\n",
    "        )\n",
    "        \n",
    "    # same plot as the methods one, except now cohesion for each party on partisan score\n",
    "    distributions_partisan_cohesion = {}#{state:{} for method in methods}\n",
    "\n",
    "    for state in dfstv.state.unique():\n",
    "        d = {'party': [party_names[party] for party in parties]}\n",
    "        for party in parties:\n",
    "            vals =distributions_cohesion_party[party][state].loc['Median']\n",
    "            for i in vals.index:\n",
    "                d[i] = d.get(i,[]) + [vals[i]]\n",
    "        distributions_partisan_cohesion[state] = pd.DataFrame(d).set_index('party')\n",
    "    return distributions_partisan_cohesion\n",
    "\n",
    "def plot_cohesion(dfstv = dfs['stv'], coltemplate = \"cohesion_partisan_score_{}\"\n",
    "                  , cohesionlabel = 'Coalition diversity: Partisan'\n",
    "                  , bbox_to_anchor=(.6,1), ax = None, do_legend = True):\n",
    "    distributions_partisan_cohesion= get_cohesion_df(dfstv = dfstv, coltemplate = coltemplate)\n",
    "    _ = plot_all_state_distribution_generic(\n",
    "        distributions_partisan_cohesion, prop_val=None, do_vertical_integers=False\n",
    "        , ymin=None, ymax=None, xbins=None, legend=do_legend, xlabel=cohesionlabel, do_zoom = False,\n",
    "        bbox_to_anchor=bbox_to_anchor,do_broken_axes = False, set_ylim = False, \n",
    "        loc=\"upper left\", party_colors = True, ax = ax\n",
    "    )\n",
    "    # saveimage('prop_gap', extension = 'pdf')"
   ]
  },
  {
   "cell_type": "code",
   "execution_count": 41,
   "metadata": {
    "ExecuteTime": {
     "end_time": "2021-07-29T23:14:48.834936Z",
     "start_time": "2021-07-29T23:14:47.598902Z"
    }
   },
   "outputs": [
    {
     "name": "stdout",
     "output_type": "stream",
     "text": [
      "partisan_score Republican\n",
      "education Republican\n",
      "income Republican\n",
      "geographic Republican\n",
      "partisan_score Republican\n",
      "education Republican\n",
      "income Republican\n",
      "geographic Republican\n",
      "partisan_score Democrat\n",
      "education Democrat\n",
      "income Democrat\n",
      "geographic Democrat\n",
      "partisan_score Democrat\n",
      "education Democrat\n",
      "income Democrat\n",
      "geographic Democrat\n"
     ]
    }
   ],
   "source": [
    "for party in parties:\n",
    "    for ddd in [dfs['stv'], dfstvpartisan]:\n",
    "        for cohesion in [\"partisan_score\", \"education\", \"income\"]:\n",
    "            print(cohesion, party)\n",
    "            col = \"cohesion_{}_{}\".format(cohesion, party)\n",
    "            ddd.loc[:,col] = (-ddd.loc[:,col]).apply(np.sqrt)\n",
    "        \n",
    "        for cohesion in [\"geographic\"]:\n",
    "            print(cohesion, party)\n",
    "            col = \"cohesion_{}_{}\".format(cohesion, party)\n",
    "            ddd.loc[:,col] = -ddd.loc[:,col]/1000\n",
    "# dfs['stv']"
   ]
  },
  {
   "cell_type": "code",
   "execution_count": 44,
   "metadata": {
    "ExecuteTime": {
     "end_time": "2021-07-29T23:17:26.964213Z",
     "start_time": "2021-07-29T23:17:09.493158Z"
    }
   },
   "outputs": [
    {
     "name": "stdout",
     "output_type": "stream",
     "text": [
      "['AL' 'AR' 'AZ' 'CA' 'CO' 'CT' 'FL' 'GA' 'HI' 'IA' 'ID' 'IL' 'IN' 'KS'\n",
      " 'KY' 'LA' 'MA' 'MD' 'ME' 'MI' 'MN' 'MO' 'MS' 'NC' 'NE' 'NH' 'NJ' 'NM'\n",
      " 'NV' 'NY' 'OH' 'OK' 'OR' 'PA' 'RI' 'SC' 'TN' 'TX' 'UT' 'VA' 'WA' 'WI']\n",
      "don't have state, skipping:  WV\n",
      "['AL' 'AR' 'AZ' 'CA' 'CO' 'CT' 'FL' 'GA' 'HI' 'IA' 'ID' 'IL' 'IN' 'KS'\n",
      " 'KY' 'LA' 'MA' 'MD' 'ME' 'MI' 'MN' 'MO' 'MS' 'NC' 'NE' 'NH' 'NJ' 'NM'\n",
      " 'NV' 'NY' 'OH' 'OK' 'OR' 'PA' 'RI' 'SC' 'TN' 'TX' 'UT' 'VA' 'WA' 'WI']\n",
      "don't have state, skipping:  WV\n",
      "skipping state bc nan:  HI\n",
      "skipping state bc nan:  ID\n",
      "skipping state bc nan:  OK\n",
      "skipping state bc nan:  RI\n"
     ]
    },
    {
     "data": {
      "image/png": "[encoded data removed]",
      "text/plain": [
       "<Figure size 432x288 with 1 Axes>"
      ]
     },
     "metadata": {
      "needs_background": "light"
     },
     "output_type": "display_data"
    }
   ],
   "source": [
    "plot_cohesion(dfstv = dfs['stv'], coltemplate = \"cohesion_partisan_score_{}\")"
   ]
  },
  {
   "cell_type": "code",
   "execution_count": 45,
   "metadata": {
    "ExecuteTime": {
     "end_time": "2021-07-29T23:17:53.162117Z",
     "start_time": "2021-07-29T23:17:38.236092Z"
    }
   },
   "outputs": [
    {
     "name": "stdout",
     "output_type": "stream",
     "text": [
      "['AL' 'AR' 'AZ' 'CA' 'CO' 'CT' 'FL' 'GA' 'HI' 'IA' 'ID' 'IL' 'IN' 'KS'\n",
      " 'KY' 'LA' 'MA' 'MD' 'ME' 'MI' 'MN' 'MO' 'MS' 'NC' 'NE' 'NH' 'NJ' 'NM'\n",
      " 'NV' 'NY' 'OH' 'OK' 'OR' 'PA' 'RI' 'SC' 'TN' 'TX' 'UT' 'VA' 'WA' 'WI']\n",
      "don't have state, skipping:  WV\n",
      "['AL' 'AR' 'AZ' 'CA' 'CO' 'CT' 'FL' 'GA' 'HI' 'IA' 'ID' 'IL' 'IN' 'KS'\n",
      " 'KY' 'LA' 'MA' 'MD' 'ME' 'MI' 'MN' 'MO' 'MS' 'NC' 'NE' 'NH' 'NJ' 'NM'\n",
      " 'NV' 'NY' 'OH' 'OK' 'OR' 'PA' 'RI' 'SC' 'TN' 'TX' 'UT' 'VA' 'WA' 'WI']\n",
      "don't have state, skipping:  WV\n",
      "skipping state bc nan:  HI\n",
      "skipping state bc nan:  ID\n",
      "skipping state bc nan:  OK\n",
      "skipping state bc nan:  RI\n"
     ]
    },
    {
     "data": {
      "image/png": "[encoded data removed]",
      "text/plain": [
       "<Figure size 432x288 with 1 Axes>"
      ]
     },
     "metadata": {
      "needs_background": "light"
     },
     "output_type": "display_data"
    }
   ],
   "source": [
    "plot_cohesion(dfstv = dfs['stv'], coltemplate = \"cohesion_geographic_{}\", cohesionlabel = 'Coalition diversity: Geographic')"
   ]
  },
  {
   "cell_type": "markdown",
   "metadata": {},
   "source": [
    "Save plot when ranking second by partisan"
   ]
  },
  {
   "cell_type": "code",
   "execution_count": 46,
   "metadata": {
    "ExecuteTime": {
     "end_time": "2021-07-29T23:18:37.011100Z",
     "start_time": "2021-07-29T23:18:03.683091Z"
    }
   },
   "outputs": [
    {
     "name": "stdout",
     "output_type": "stream",
     "text": [
      "['AL' 'AR' 'AZ' 'CA' 'CO' 'CT' 'FL' 'GA' 'HI' 'IA' 'ID' 'IL' 'IN' 'KS'\n",
      " 'KY' 'LA' 'MA' 'MD' 'ME' 'MI' 'MN' 'MO' 'MS' 'NC' 'NE' 'NH' 'NJ' 'NM'\n",
      " 'NV' 'NY' 'OH' 'OK' 'OR' 'PA' 'RI' 'SC' 'TN' 'TX' 'UT' 'VA' 'WA' 'WI']\n",
      "don't have state, skipping:  WV\n",
      "['AL' 'AR' 'AZ' 'CA' 'CO' 'CT' 'FL' 'GA' 'HI' 'IA' 'ID' 'IL' 'IN' 'KS'\n",
      " 'KY' 'LA' 'MA' 'MD' 'ME' 'MI' 'MN' 'MO' 'MS' 'NC' 'NE' 'NH' 'NJ' 'NM'\n",
      " 'NV' 'NY' 'OH' 'OK' 'OR' 'PA' 'RI' 'SC' 'TN' 'TX' 'UT' 'VA' 'WA' 'WI']\n",
      "don't have state, skipping:  WV\n",
      "skipping state bc nan:  HI\n",
      "skipping state bc nan:  ID\n",
      "skipping state bc nan:  OK\n",
      "skipping state bc nan:  RI\n",
      "['AL' 'AR' 'AZ' 'CA' 'CO' 'CT' 'FL' 'GA' 'HI' 'IA' 'ID' 'IL' 'IN' 'KS'\n",
      " 'KY' 'LA' 'MA' 'MD' 'ME' 'MI' 'MN' 'MO' 'MS' 'NC' 'NE' 'NH' 'NJ' 'NM'\n",
      " 'NV' 'NY' 'OH' 'OK' 'OR' 'PA' 'RI' 'SC' 'TN' 'TX' 'UT' 'VA' 'WA' 'WI']\n",
      "don't have state, skipping:  WV\n",
      "['AL' 'AR' 'AZ' 'CA' 'CO' 'CT' 'FL' 'GA' 'HI' 'IA' 'ID' 'IL' 'IN' 'KS'\n",
      " 'KY' 'LA' 'MA' 'MD' 'ME' 'MI' 'MN' 'MO' 'MS' 'NC' 'NE' 'NH' 'NJ' 'NM'\n",
      " 'NV' 'NY' 'OH' 'OK' 'OR' 'PA' 'RI' 'SC' 'TN' 'TX' 'UT' 'VA' 'WA' 'WI']\n",
      "don't have state, skipping:  WV\n",
      "skipping state bc nan:  HI\n",
      "skipping state bc nan:  ID\n",
      "skipping state bc nan:  OK\n",
      "skipping state bc nan:  RI\n"
     ]
    }
   ],
   "source": [
    "fig = plt.figure(figsize = (12, 5))\n",
    "ax = plt.subplot(1,2, 1)\n",
    "plot_cohesion(dfstv = dfstvpartisan, coltemplate = \"cohesion_partisan_score_{}\"\n",
    "              , ax = ax, cohesionlabel = 'Coalition diversity', do_legend = False)\n",
    "ax.set_title('Partisan diversity', fontsize = 20)\n",
    "ax = plt.subplot(1,2, 2)\n",
    "plot_cohesion(dfstv = dfstvpartisan, coltemplate = \"cohesion_geographic_{}\"\n",
    "              , cohesionlabel = 'Coalition diversity (km)', ax = ax)\n",
    "ax.set_title('Geographic diversity', fontsize = 20)\n",
    "saveimage('cohesion_whenrankpartisan_both', extension = 'pdf')"
   ]
  },
  {
   "cell_type": "markdown",
   "metadata": {},
   "source": [
    "Save plot when ranking by goegraphy"
   ]
  },
  {
   "cell_type": "code",
   "execution_count": null,
   "metadata": {
    "ExecuteTime": {
     "start_time": "2021-07-29T23:17:36.315Z"
    }
   },
   "outputs": [
    {
     "name": "stdout",
     "output_type": "stream",
     "text": [
      "['AL' 'AR' 'AZ' 'CA' 'CO' 'CT' 'FL' 'GA' 'HI' 'IA' 'ID' 'IL' 'IN' 'KS'\n",
      " 'KY' 'LA' 'MA' 'MD' 'ME' 'MI' 'MN' 'MO' 'MS' 'NC' 'NE' 'NH' 'NJ' 'NM'\n",
      " 'NV' 'NY' 'OH' 'OK' 'OR' 'PA' 'RI' 'SC' 'TN' 'TX' 'UT' 'VA' 'WA' 'WI']\n"
     ]
    }
   ],
   "source": [
    "fig = plt.figure(figsize = (12, 5))\n",
    "ax = plt.subplot(1,2, 1)\n",
    "plot_cohesion(dfstv = dfs['stv'], coltemplate = \"cohesion_partisan_score_{}\"\n",
    "              , ax = ax, cohesionlabel = 'Coalition diversity', do_legend = False)\n",
    "ax.set_title('Partisan diversity', fontsize = 20)\n",
    "ax = plt.subplot(1,2, 2)\n",
    "plot_cohesion(dfstv = dfs['stv'], coltemplate = \"cohesion_geographic_{}\"\n",
    "              , cohesionlabel = 'Coalition diversity (km)', ax = ax)\n",
    "ax.set_title('Geographic diversity', fontsize = 20)\n",
    "saveimage('cohesion_whenrankgeog_both', extension = 'pdf')"
   ]
  },
  {
   "cell_type": "markdown",
   "metadata": {},
   "source": [
    "## Use medians -- intra-party winner diversity"
   ]
  },
  {
   "cell_type": "code",
   "execution_count": null,
   "metadata": {
    "ExecuteTime": {
     "end_time": "2021-07-29T23:15:13.955939Z",
     "start_time": "2021-07-29T23:15:01.076Z"
    }
   },
   "outputs": [],
   "source": [
    "def deal_with_medians(df):\n",
    "    df.loc[:,'medians'] = df.medians.apply(eval)\n",
    "    return df\n",
    "\n",
    "def add_intraparty_variances(df):\n",
    "    def fun_rep (x):\n",
    "        part = [y for y in x if y <=50]\n",
    "        if len(part) == 0: return np.nan\n",
    "        return np.std(part)\n",
    "    def fun_dem (x):\n",
    "        part = [y for y in x if y >50]\n",
    "        if len(part) == 0: return np.nan\n",
    "        return np.std(part)\n",
    "    \n",
    "    df['Republican_variance'] = df.medians.apply(fun_rep)\n",
    "    df['Democrat_variance'] = df.medians.apply(fun_dem)    \n",
    "    return df"
   ]
  },
  {
   "cell_type": "code",
   "execution_count": null,
   "metadata": {
    "ExecuteTime": {
     "end_time": "2021-07-29T23:15:13.965907Z",
     "start_time": "2021-07-29T23:15:01.510Z"
    }
   },
   "outputs": [],
   "source": [
    "dfstvpartisan = deal_with_medians(dfstvpartisan)"
   ]
  },
  {
   "cell_type": "code",
   "execution_count": null,
   "metadata": {
    "ExecuteTime": {
     "end_time": "2021-07-29T23:15:13.979905Z",
     "start_time": "2021-07-29T23:15:02.740Z"
    }
   },
   "outputs": [],
   "source": [
    "dfstvpartisan = add_intraparty_variances(dfstvpartisan)"
   ]
  },
  {
   "cell_type": "code",
   "execution_count": null,
   "metadata": {
    "ExecuteTime": {
     "end_time": "2021-07-29T23:15:13.991904Z",
     "start_time": "2021-07-29T23:15:03.222Z"
    }
   },
   "outputs": [],
   "source": [
    "plot_cohesion(dfstv = dfstvpartisan, coltemplate = \"{}_variance\", bbox_to_anchor=(.6,1)\n",
    "              , cohesionlabel = 'Intra-Party diversity: Partisan')\n",
    "saveimage('winnerdiversity_partisan_whenrankpartisan', extension = 'pdf')"
   ]
  },
  {
   "cell_type": "code",
   "execution_count": null,
   "metadata": {
    "ExecuteTime": {
     "end_time": "2021-07-29T23:15:14.000906Z",
     "start_time": "2021-07-29T23:15:03.553Z"
    }
   },
   "outputs": [],
   "source": [
    "dfs['stv'] = deal_with_medians(dfs['stv'])\n",
    "dfs['stv'] = add_intraparty_variances(dfs['stv'])"
   ]
  },
  {
   "cell_type": "code",
   "execution_count": null,
   "metadata": {
    "ExecuteTime": {
     "end_time": "2021-07-29T23:15:14.011904Z",
     "start_time": "2021-07-29T23:15:04.796Z"
    }
   },
   "outputs": [],
   "source": [
    "plot_cohesion(dfstv = dfs['stv'], coltemplate = \"{}_variance\", bbox_to_anchor=(.4,.8)\n",
    "             , cohesionlabel = 'Intra-Party diversity: Partisan')\n",
    "saveimage('winnerdiversity_partisan_whenrankgeo', extension = 'pdf')"
   ]
  },
  {
   "cell_type": "code",
   "execution_count": null,
   "metadata": {},
   "outputs": [],
   "source": []
  },
  {
   "cell_type": "code",
   "execution_count": null,
   "metadata": {},
   "outputs": [],
   "source": []
  }
 ],
 "metadata": {
  "kernelspec": {
   "display_name": "Python 3",
   "language": "python",
   "name": "python3"
  },
  "language_info": {
   "codemirror_mode": {
    "name": "ipython",
    "version": 3
   },
   "file_extension": ".py",
   "mimetype": "text/x-python",
   "name": "python",
   "nbconvert_exporter": "python",
   "pygments_lexer": "ipython3",
   "version": "3.6.7"
  },
  "varInspector": {
   "cols": {
    "lenName": 16,
    "lenType": 16,
    "lenVar": 40
   },
   "kernels_config": {
    "python": {
     "delete_cmd_postfix": "",
     "delete_cmd_prefix": "del ",
     "library": "var_list.py",
     "varRefreshCmd": "print(var_dic_list())"
    },
    "r": {
     "delete_cmd_postfix": ") ",
     "delete_cmd_prefix": "rm(",
     "library": "var_list.r",
     "varRefreshCmd": "cat(var_dic_list()) "
    }
   },
   "types_to_exclude": [
    "module",
    "function",
    "builtin_function_or_method",
    "instance",
    "_Feature"
   ],
   "window_display": false
  }
 },
 "nbformat": 4,
 "nbformat_minor": 4
}
