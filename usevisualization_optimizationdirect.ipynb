{
 "cells": [
  {
   "cell_type": "code",
   "execution_count": null,
   "metadata": {
    "ExecuteTime": {
     "end_time": "2021-08-11T04:27:48.031878Z",
     "start_time": "2021-08-11T04:27:47.947911Z"
    }
   },
   "outputs": [],
   "source": [
    "import pandas as pd\n",
    "import seaborn as sns\n",
    "import matplotlib.pyplot as plt\n",
    "import numpy as np\n",
    "%load_ext autoreload\n",
    "%autoreload 2\n",
    "from generic.latexify import *"
   ]
  },
  {
   "cell_type": "code",
   "execution_count": null,
   "metadata": {
    "ExecuteTime": {
     "end_time": "2021-08-11T04:27:49.285091Z",
     "start_time": "2021-08-11T04:27:49.193877Z"
    }
   },
   "outputs": [],
   "source": [
    "from visualization.settings import *\n",
    "from visualization.helpers import *\n",
    "from visualization.paperplots import *"
   ]
  },
  {
   "cell_type": "code",
   "execution_count": null,
   "metadata": {
    "ExecuteTime": {
     "end_time": "2021-08-11T04:27:50.589882Z",
     "start_time": "2021-08-11T04:27:50.497889Z"
    }
   },
   "outputs": [],
   "source": [
    "from optimize.analyze_results import *"
   ]
  },
  {
   "cell_type": "markdown",
   "metadata": {},
   "source": [
    "# Load the data"
   ]
  },
  {
   "cell_type": "code",
   "execution_count": null,
   "metadata": {
    "ExecuteTime": {
     "end_time": "2021-08-11T04:27:51.866018Z",
     "start_time": "2021-08-11T04:27:51.788878Z"
    }
   },
   "outputs": [],
   "source": [
    "template = 'combined_directfromoptimization3'\n",
    "path = 'cached_values/outputs/organized'"
   ]
  },
  {
   "cell_type": "code",
   "execution_count": null,
   "metadata": {
    "ExecuteTime": {
     "end_time": "2021-08-11T04:27:53.045054Z",
     "start_time": "2021-08-11T04:27:52.966883Z"
    }
   },
   "outputs": [],
   "source": [
    "methods = ['thiele_pav', 'thiele_independent', 'thiele_squared']"
   ]
  },
  {
   "cell_type": "code",
   "execution_count": null,
   "metadata": {
    "ExecuteTime": {
     "end_time": "2021-08-11T04:28:24.895779Z",
     "start_time": "2021-08-11T04:27:54.126877Z"
    },
    "scrolled": true
   },
   "outputs": [],
   "source": [
    "dfs = {method:load_organized_df(path, template, method, directfromoptimization = True) for method in methods}"
   ]
  },
  {
   "cell_type": "code",
   "execution_count": null,
   "metadata": {
    "ExecuteTime": {
     "end_time": "2021-08-11T04:28:26.242780Z",
     "start_time": "2021-08-11T04:28:26.149781Z"
    }
   },
   "outputs": [],
   "source": [
    "dfs[methods[0]].head()"
   ]
  },
  {
   "cell_type": "code",
   "execution_count": null,
   "metadata": {
    "ExecuteTime": {
     "end_time": "2021-08-11T04:28:27.483780Z",
     "start_time": "2021-08-11T04:28:27.377779Z"
    }
   },
   "outputs": [],
   "source": [
    "dfs[methods[0]].tail()"
   ]
  },
  {
   "cell_type": "code",
   "execution_count": null,
   "metadata": {
    "ExecuteTime": {
     "end_time": "2021-08-11T04:28:28.705963Z",
     "start_time": "2021-08-11T04:28:28.629779Z"
    }
   },
   "outputs": [],
   "source": [
    "# dfs[methods[0]].N_districts.unique()"
   ]
  },
  {
   "cell_type": "code",
   "execution_count": null,
   "metadata": {
    "ExecuteTime": {
     "end_time": "2021-08-11T04:28:29.982813Z",
     "start_time": "2021-08-11T04:28:29.824779Z"
    }
   },
   "outputs": [],
   "source": [
    "states = dfs[methods[0]].state.unique()"
   ]
  },
  {
   "cell_type": "code",
   "execution_count": null,
   "metadata": {
    "ExecuteTime": {
     "end_time": "2021-08-11T16:32:17.102457Z",
     "start_time": "2021-08-11T16:32:17.009462Z"
    }
   },
   "outputs": [],
   "source": [
    "parties = ['Republican', 'Democrat']\n",
    "methods_to_plot = ['thiele_pav', 'thiele_independent', 'thiele_squared']\n",
    "method_names"
   ]
  },
  {
   "cell_type": "code",
   "execution_count": null,
   "metadata": {
    "ExecuteTime": {
     "end_time": "2021-08-11T04:28:32.415803Z",
     "start_time": "2021-08-11T04:28:32.338782Z"
    }
   },
   "outputs": [],
   "source": [
    "print(dfs[methods[0]].columns)"
   ]
  },
  {
   "cell_type": "code",
   "execution_count": null,
   "metadata": {
    "ExecuteTime": {
     "end_time": "2021-08-10T17:09:08.706933Z",
     "start_time": "2021-08-10T17:08:31.656748Z"
    },
    "scrolled": true
   },
   "outputs": [],
   "source": [
    "# STV still loading from my way\n",
    "dfstvpartisan = load_organized_df(path, 'combined_partisan', 'stv')"
   ]
  },
  {
   "cell_type": "code",
   "execution_count": null,
   "metadata": {
    "ExecuteTime": {
     "end_time": "2021-08-10T17:09:47.444578Z",
     "start_time": "2021-08-10T17:09:10.169123Z"
    }
   },
   "outputs": [],
   "source": [
    "dfs['stv'] = load_organized_df(path, 'combined', 'stv')"
   ]
  },
  {
   "cell_type": "markdown",
   "metadata": {},
   "source": [
    "# Proportionality stuff"
   ]
  },
  {
   "cell_type": "code",
   "execution_count": null,
   "metadata": {
    "ExecuteTime": {
     "end_time": "2021-08-11T02:29:50.472715Z",
     "start_time": "2021-08-11T02:29:32.439772Z"
    },
    "scrolled": true
   },
   "outputs": [],
   "source": [
    "distributions = {method: state_seat_share_distributions_nikhil(dfs[method]) for method in methods}"
   ]
  },
  {
   "cell_type": "code",
   "execution_count": null,
   "metadata": {
    "ExecuteTime": {
     "end_time": "2021-08-11T02:29:52.228646Z",
     "start_time": "2021-08-11T02:29:51.612608Z"
    },
    "scrolled": true
   },
   "outputs": [],
   "source": [
    "distributions"
   ]
  },
  {
   "cell_type": "markdown",
   "metadata": {},
   "source": [
    "## Overall proportionality for each method"
   ]
  },
  {
   "cell_type": "code",
   "execution_count": null,
   "metadata": {
    "ExecuteTime": {
     "end_time": "2021-07-29T23:02:42.159099Z",
     "start_time": "2021-07-29T23:02:32.208122Z"
    },
    "scrolled": false
   },
   "outputs": [],
   "source": [
    "ax1 = None\n",
    "fig = plt.figure(figsize = (20, 5))\n",
    "for enn, method in enumerate(methods_to_plot):\n",
    "    if enn == 0:\n",
    "        ax = plt.subplot(int('1{}{}'.format(len(methods_to_plot), enn+1)))\n",
    "        ax1 = ax\n",
    "    else:\n",
    "        ax = plt.subplot(int('1{}{}'.format(len(methods_to_plot), enn+1)), sharey = ax1)\n",
    "    print(method)\n",
    "    _ = plot_all_state_distribution_generic(distributions[method]\n",
    "                                                         , prop_val = get_prop(dfs[method])\n",
    "                                                         , do_vertical_integers = True, legend = enn==len(methods_to_plot)-1\n",
    "                                            , ax = ax, party_colors = True, bbox_to_anchor=(-2.25, 1.055)\n",
    "                                            , legendncol = 4, legendfontsize = 20)\n",
    "    ax.set_title(method_names[method], fontsize = 20)\n",
    "saveimage('prop_differentmethods', extension = 'pdf')"
   ]
  },
  {
   "cell_type": "markdown",
   "metadata": {},
   "source": [
    "## Proportionality gap for a few relevant states"
   ]
  },
  {
   "cell_type": "code",
   "execution_count": null,
   "metadata": {
    "ExecuteTime": {
     "end_time": "2021-07-29T23:02:53.301102Z",
     "start_time": "2021-07-29T23:02:42.163101Z"
    }
   },
   "outputs": [],
   "source": [
    "# 4 states for main text\n",
    "from visualization.fancy_plots import *\n",
    "method = 'thiele_pav'#'stv'\n",
    "ax1 = None\n",
    "fig = plt.figure(figsize = (12, 5))\n",
    "state_names = {}\n",
    "states_to_do= ['CA', 'MA', 'FL', 'TX'] #['NY', 'MA', 'OK', 'FL', 'TX'] #dfs[method].state.unique()#\n",
    "for enn, state in enumerate(states_to_do):\n",
    "    if enn == 0:\n",
    "        ax = plt.subplot(int('1{}{}'.format(len(states_to_do), enn+1)))\n",
    "        ax1 = ax\n",
    "    else:\n",
    "        ax = plt.subplot(int('1{}{}'.format(len(states_to_do), enn+1)), sharey = ax1)\n",
    "        \n",
    "    seats = state_constants[state][\"seats\"]\n",
    "    xbins = [x/seats for x in range(1, int(seats)+1)]\n",
    "    print(state, seats)\n",
    "    dfstate = dfs[method].query('state==@state')\n",
    "    \n",
    "    boxplot_per_district_for_single_state_per_method(\n",
    "        dfstate,\n",
    "        state,\n",
    "        do_extremes_and_prop_line=True,\n",
    "        additional_filters={},ax = ax\n",
    "    )    \n",
    "    ax.set_title(state_names.get(state, state), fontsize = 20)\n",
    "ax1.set_ylabel('Republican seat share', fontsize = 20)\n",
    "ax1.set_ylim((0, 1))\n",
    "#    plt.show()\n",
    "saveimage('prop_states_boxNY', extension = 'pdf')"
   ]
  },
  {
   "cell_type": "code",
   "execution_count": null,
   "metadata": {
    "ExecuteTime": {
     "end_time": "2021-07-29T23:03:50.503480Z",
     "start_time": "2021-07-29T23:02:53.307100Z"
    },
    "scrolled": true
   },
   "outputs": [],
   "source": [
    "# all states for appendix\n",
    "from visualization.fancy_plots import *\n",
    "method = 'thiele_pav'#'stv'\n",
    "ax1 = None\n",
    "fig = plt.figure(figsize = (24, 42))\n",
    "state_names = {}\n",
    "states_to_do= dfs[method].state.unique() #['NY', 'MA', 'FL', 'TX'] #['NY', 'MA', 'OK', 'FL', 'TX'] #dfs[method].state.unique()#\n",
    "width = 6\n",
    "height = int(np.ceil(len(states_to_do)/width))\n",
    "for enn, state in enumerate(states_to_do):\n",
    "    print(state, int(enn/width) + 1, width, (enn%width)+1)\n",
    "#     ax = plt.subplot(int('{}{}{}'.format(int(enn/width) + 1, width, (enn%width)+1)))\n",
    "    ax = plt.subplot(height,width, enn+1)\n",
    "\n",
    "    seats = state_constants[state][\"seats\"]\n",
    "    xbins = [x/seats for x in range(1, int(seats)+1)]\n",
    "    print(state, seats)\n",
    "    dfstate = dfs[method].query('state==@state')\n",
    "    \n",
    "    boxplot_per_district_for_single_state_per_method(\n",
    "        dfstate,\n",
    "        state,\n",
    "        do_extremes_and_prop_line=True,\n",
    "        additional_filters={},ax = ax\n",
    "    )\n",
    "    ax.set_xlabel('')\n",
    "    ax.set_title(state_names.get(state, state), fontsize = 20)\n",
    "# ax1.set_ylabel('Republican seat share', fontsize = 20)\n",
    "#    plt.show()\n",
    "saveimage('prop_states_all', extension = 'pdf')"
   ]
  },
  {
   "cell_type": "markdown",
   "metadata": {},
   "source": [
    "## Cumulative proportionality gap"
   ]
  },
  {
   "cell_type": "code",
   "execution_count": null,
   "metadata": {
    "ExecuteTime": {
     "end_time": "2021-07-29T23:03:57.941482Z",
     "start_time": "2021-07-29T23:03:50.508486Z"
    }
   },
   "outputs": [],
   "source": [
    "import copy\n",
    "#Appendix plot -- difference between parties\n",
    "def get_prop_gap_by_state_demrepdifference(dfsmet):\n",
    "    ret = copy.deepcopy(dfsmet)\n",
    "    prop = get_prop(dfs[method].query('state==@state'))\n",
    "    for state in states:\n",
    "        ret[state] = (ret[state] - .485)\n",
    "#         ret[state].loc['Party difference',:] = ret[state].loc['Most Democratic',:] + ret[state].loc['Most Republican',:]\n",
    "        ret[state] = ret[state].loc[['Most Republican', 'Most Democratic']] # 'Party difference',\n",
    "    return ret\n",
    "\n",
    "fig = plt.figure(figsize = (18, 5))\n",
    "ax = plt.subplot(1,3, 1)\n",
    "ret = get_prop_gap_by_state_demrepdifference(distributions['thiele_pav'])\n",
    "_ = plot_all_state_distribution_generic(\n",
    "    ret, prop_val=None, do_vertical_integers=False\n",
    "    , ymin=-.05, ymax=.25, xbins=None, legend=False, xlabel=\"Avg proportionality gap\", do_zoom = False,\n",
    "    bbox_to_anchor=(0.01, .8),do_broken_axes = False, legendncol = 2, legendfontsize = 15,\n",
    "    loc=\"lower left\", do_abs_after_combining = True, ax = ax, party_colors=  True\n",
    ")\n",
    "ax.set_title('STV and PAV', fontsize = 20)\n",
    "\n",
    "ax = plt.subplot(1,3, 2)\n",
    "ret = get_prop_gap_by_state_demrepdifference(distributions['thiele_independent'])\n",
    "_ = plot_all_state_distribution_generic(\n",
    "    ret, prop_val=None, do_vertical_integers=False\n",
    "    , ymin=-.05, ymax=.25, xbins=None, legend=False, xlabel=\"Avg proportionality gap\", do_zoom = False,\n",
    "    bbox_to_anchor=(0.01, .7),do_broken_axes = False, legendncol = 1, legendfontsize = 15,\n",
    "    loc=\"lower left\", do_abs_after_combining = True, ax= ax, party_colors=  True\n",
    ")\n",
    "ax.set_title('Winner takes all', fontsize = 20)\n",
    "\n",
    "\n",
    "ax = plt.subplot(1,3, 3)\n",
    "ret = get_prop_gap_by_state_demrepdifference(distributions['thiele_squared'])\n",
    "_ = plot_all_state_distribution_generic(\n",
    "    ret, prop_val=None, do_vertical_integers=False\n",
    "    , ymin=-.05, ymax=.25, xbins=None, legend=True, xlabel=\"Avg proportionality gap\", do_zoom = False,\n",
    "    bbox_to_anchor=(0.01, .7),do_broken_axes = False, legendncol = 1, legendfontsize = 15,\n",
    "    loc=\"lower left\", do_abs_after_combining = True, ax = ax, party_colors=  True\n",
    ")\n",
    "ax.set_title('Thiele Squared', fontsize = 20)\n",
    "\n",
    "saveimage('gerrymandering_advantage_by_rule_fixed', extension = 'pdf')"
   ]
  },
  {
   "cell_type": "code",
   "execution_count": null,
   "metadata": {
    "ExecuteTime": {
     "end_time": "2021-07-29T23:03:58.210482Z",
     "start_time": "2021-07-29T23:03:57.947485Z"
    }
   },
   "outputs": [],
   "source": [
    "# re-orienting it so each line is a method, not min/max/median/most fair\n",
    "def get_proportionality_gaps(optimization = 'Most Fair in each state', get_max_instead = False):\n",
    "    distributions_gaps = {}#{state:{} for method in methods}\n",
    "    for state in states:\n",
    "        d = {'method': [method_names[met] for met in methods_to_plot]}\n",
    "        for method in methods_to_plot:\n",
    "            prop = get_prop(dfs[method].query('state==@state'))\n",
    "            if not get_max_instead:\n",
    "                vals= (distributions[method][state] - prop).abs().loc[optimization]\n",
    "            else:\n",
    "                vals= (distributions[method][state] - prop).abs().max(axis = 0)\n",
    "            for i in vals.index:\n",
    "                d[i] = d.get(i,[]) + [vals[i]]\n",
    "        distributions_gaps[state] = pd.DataFrame(d).set_index('method')\n",
    "    return distributions_gaps\n"
   ]
  },
  {
   "cell_type": "code",
   "execution_count": null,
   "metadata": {
    "ExecuteTime": {
     "end_time": "2021-07-29T23:03:58.448481Z",
     "start_time": "2021-07-29T23:03:58.224488Z"
    }
   },
   "outputs": [],
   "source": [
    "# distributions_gaps"
   ]
  },
  {
   "cell_type": "code",
   "execution_count": null,
   "metadata": {
    "ExecuteTime": {
     "end_time": "2021-07-29T23:04:14.551481Z",
     "start_time": "2021-07-29T23:03:58.459486Z"
    }
   },
   "outputs": [],
   "source": [
    "distributions_gaps = get_proportionality_gaps(optimization = 'Most Fair in each state')"
   ]
  },
  {
   "cell_type": "code",
   "execution_count": null,
   "metadata": {
    "ExecuteTime": {
     "end_time": "2021-07-29T23:05:10.983857Z",
     "start_time": "2021-07-29T23:05:07.167856Z"
    }
   },
   "outputs": [],
   "source": [
    "_ = plot_all_state_distribution_generic(\n",
    "    distributions_gaps, prop_val=None, do_vertical_integers=False\n",
    "    , ymin=0, ymax=.10, xbins=None, legend=True, xlabel=\"Avg proportionality gap\", do_zoom = False,\n",
    "    bbox_to_anchor=(0.5, .6),do_broken_axes = False,\n",
    "    loc=\"lower left\",\n",
    ")\n",
    "saveimage('prop_gap', extension = 'pdf')"
   ]
  },
  {
   "cell_type": "code",
   "execution_count": null,
   "metadata": {
    "ExecuteTime": {
     "end_time": "2021-07-29T23:06:44.178534Z",
     "start_time": "2021-07-29T23:06:23.791373Z"
    }
   },
   "outputs": [],
   "source": [
    "distributions_gaps_median = get_proportionality_gaps(optimization = 'Median')"
   ]
  },
  {
   "cell_type": "code",
   "execution_count": null,
   "metadata": {
    "ExecuteTime": {
     "end_time": "2021-07-29T23:07:16.185973Z",
     "start_time": "2021-07-29T23:06:59.381973Z"
    }
   },
   "outputs": [],
   "source": [
    "distributions_gaps_max = get_proportionality_gaps(optimization = '', get_max_instead = True)"
   ]
  },
  {
   "cell_type": "code",
   "execution_count": null,
   "metadata": {
    "ExecuteTime": {
     "end_time": "2021-07-29T23:07:55.803971Z",
     "start_time": "2021-07-29T23:07:26.647967Z"
    }
   },
   "outputs": [],
   "source": [
    "distributions_gaps_rep = get_proportionality_gaps(optimization = 'Most Republican')\n",
    "distributions_gaps_dem = get_proportionality_gaps(optimization = 'Most Democratic')"
   ]
  },
  {
   "cell_type": "code",
   "execution_count": null,
   "metadata": {
    "ExecuteTime": {
     "end_time": "2021-07-29T23:08:08.206964Z",
     "start_time": "2021-07-29T23:08:07.689969Z"
    },
    "scrolled": true
   },
   "outputs": [],
   "source": [
    "distributions_gaps_dem"
   ]
  },
  {
   "cell_type": "code",
   "execution_count": null,
   "metadata": {
    "ExecuteTime": {
     "end_time": "2021-07-29T23:08:26.123965Z",
     "start_time": "2021-07-29T23:08:20.869966Z"
    }
   },
   "outputs": [],
   "source": [
    "fig = plt.figure(figsize = (18, 5))\n",
    "ax = plt.subplot(1,3, 1)\n",
    "_ = plot_all_state_distribution_generic(\n",
    "    distributions_gaps_median, prop_val=None, do_vertical_integers=False\n",
    "    , ymin=0, ymax=.3, xbins=None, legend=False, xlabel=\"Avg proportionality gap\", do_zoom = False,\n",
    "    bbox_to_anchor=(0.5, .6),do_broken_axes = False, ax = ax,\n",
    "    loc=\"lower left\",\n",
    ")\n",
    "ax.set_title('Median maps', fontsize = 20)\n",
    "ax = plt.subplot(1,3, 2)\n",
    "_ = plot_all_state_distribution_generic(\n",
    "    distributions_gaps_rep, prop_val=None, do_vertical_integers=False\n",
    "    , ymin=0, ymax=.3, xbins=None, legend=False, xlabel=\"Avg proportionality gap\", do_zoom = False,\n",
    "    bbox_to_anchor=(0.5, .6),do_broken_axes = False,ax = ax,\n",
    "    loc=\"lower left\",\n",
    ")\n",
    "ax.set_title('Most Republican maps', fontsize = 20)\n",
    "ax = plt.subplot(1,3, 3)\n",
    "_ = plot_all_state_distribution_generic(\n",
    "    distributions_gaps_dem, prop_val=None, do_vertical_integers=False\n",
    "    , ymin=0, ymax=.3, xbins=None, legend=True, xlabel=\"Avg proportionality gap\", do_zoom = False,\n",
    "    bbox_to_anchor=(0.5, .6),do_broken_axes = False,ax = ax,\n",
    "    loc=\"lower left\",\n",
    ")\n",
    "ax.set_title('Most Democratic maps', fontsize = 20)\n",
    "saveimage('prop_gap_medianrepdem', extension = 'pdf')"
   ]
  },
  {
   "cell_type": "code",
   "execution_count": null,
   "metadata": {
    "ExecuteTime": {
     "end_time": "2021-07-29T23:08:42.239998Z",
     "start_time": "2021-07-29T23:08:38.869001Z"
    }
   },
   "outputs": [],
   "source": [
    "_ = plot_all_state_distribution_generic(\n",
    "    distributions_gaps_median, prop_val=None, do_vertical_integers=False\n",
    "    , ymin=0, ymax=.3, xbins=None, legend=True, xlabel=\"Avg proportionality gap\", do_zoom = False,\n",
    "    bbox_to_anchor=(0.5, .6),do_broken_axes = False,\n",
    "    loc=\"lower left\",\n",
    ")\n",
    "saveimage('prop_gap_median', extension = 'pdf')"
   ]
  },
  {
   "cell_type": "code",
   "execution_count": null,
   "metadata": {
    "ExecuteTime": {
     "end_time": "2021-07-29T23:08:57.343005Z",
     "start_time": "2021-07-29T23:08:53.474002Z"
    }
   },
   "outputs": [],
   "source": [
    "#Proportionality gap by the maximum gerrymanderes\n",
    "_ = plot_all_state_distribution_generic(\n",
    "    distributions_gaps_max, prop_val=None, do_vertical_integers=False\n",
    "    , ymin=0, ymax=.6, xbins=None, legend=True, xlabel=\"Avg proportionality gap\", do_zoom = False,\n",
    "    bbox_to_anchor=(0.5, .6),do_broken_axes = False,\n",
    "    loc=\"lower left\",\n",
    ")\n",
    "saveimage('prop_gap_maxgerrymandered', extension = 'pdf')\n",
    "_ = plot_all_state_distribution_generic(\n",
    "    distributions_gaps_max, prop_val=None, do_vertical_integers=False\n",
    "    , ymin=0, ymax=.6, xbins=None, legend=True, xlabel=\"Avg proportionality gap\", do_zoom = False,\n",
    "    bbox_to_anchor=(0.5, .6),do_broken_axes = False,#ncols = 2,\n",
    "    loc=\"lower left\",\n",
    ")"
   ]
  },
  {
   "cell_type": "markdown",
   "metadata": {},
   "source": [
    "# Competitiveness"
   ]
  },
  {
   "cell_type": "code",
   "execution_count": null,
   "metadata": {
    "ExecuteTime": {
     "end_time": "2021-08-11T04:28:33.578810Z",
     "start_time": "2021-08-11T04:28:33.501820Z"
    }
   },
   "outputs": [],
   "source": [
    "# For each district, wasted votes is just distance to the nearest droop quota threshold\n",
    "# For each plan (in master dataframe) I just sum across wasted votes in each district.\n",
    "# and then I think I can use that seat share distribution thing to create the thing that will lead to the line plot"
   ]
  },
  {
   "cell_type": "code",
   "execution_count": null,
   "metadata": {
    "ExecuteTime": {
     "end_time": "2021-08-11T16:44:12.613186Z",
     "start_time": "2021-08-11T16:44:12.476121Z"
    }
   },
   "outputs": [],
   "source": [
    "from elections.median_voter import thiele_voting_methods\n",
    "from elections.thiele_competitiveness_helpers import get_vote_thresholds_for_n_winners\n",
    "# thiele_voting_methods"
   ]
  },
  {
   "cell_type": "code",
   "execution_count": null,
   "metadata": {
    "ExecuteTime": {
     "end_time": "2021-08-11T16:44:18.031188Z",
     "start_time": "2021-08-11T16:44:17.907193Z"
    }
   },
   "outputs": [],
   "source": [
    "methods"
   ]
  },
  {
   "cell_type": "code",
   "execution_count": null,
   "metadata": {
    "ExecuteTime": {
     "end_time": "2021-08-11T16:50:55.272977Z",
     "start_time": "2021-08-11T16:50:55.125941Z"
    }
   },
   "outputs": [],
   "source": [
    "method_share_thresholds_all_rules = {met:{} for met in methods}\n",
    "def get_wasted_votes_per_row(row, rule, rulename):\n",
    "    vs = row.district_vote_shares\n",
    "    nwinners = row.district_n_winners\n",
    "    wasted = 0\n",
    "    for en, nw in enumerate(nwinners):\n",
    "        if nw not in method_share_thresholds_all_rules[rulename]:\n",
    "            method_share_thresholds_all_rules[rulename][nw] = get_vote_thresholds_for_n_winners(rule, nw)\n",
    "        wasted += min([abs(vs[en] - x) for x in method_share_thresholds_all_rules[rulename][nw]])*nw/row.total_winners\n",
    "    return wasted"
   ]
  },
  {
   "cell_type": "code",
   "execution_count": null,
   "metadata": {
    "ExecuteTime": {
     "end_time": "2021-08-11T16:51:03.700936Z",
     "start_time": "2021-08-11T16:51:03.527975Z"
    }
   },
   "outputs": [],
   "source": [
    "def evalmaybelist(val):\n",
    "    if type(val) == str:\n",
    "        return eval(val)\n",
    "    return val"
   ]
  },
  {
   "cell_type": "code",
   "execution_count": null,
   "metadata": {
    "ExecuteTime": {
     "end_time": "2021-08-12T20:43:24.545574Z",
     "start_time": "2021-08-12T20:43:24.423411Z"
    }
   },
   "outputs": [],
   "source": [
    "from functools import partial\n",
    "def add_wasted_votes_to_df(dft, rule, rulename, do_just_subsampled = False):\n",
    "    if do_just_subsampled:\n",
    "        is_subsampled = dft.eval('optimization==\"subsampled\" or optimization==\"single_district_for_state\"')\n",
    "    else:\n",
    "        t=True\n",
    "        is_subsampled = dft.eval('optimization==\"subsampled\" or @t')\n",
    "    print(rule, sum(is_subsampled))\n",
    "    dft.loc[is_subsampled,'district_vote_shares'] = dft.loc[is_subsampled,'district_vote_shares'].apply(evalmaybelist)\n",
    "    dft.loc[is_subsampled,'district_n_winners'] = dft.loc[is_subsampled,'district_n_winners'].apply(evalmaybelist)\n",
    "    fun = partial(get_wasted_votes_per_row, rule = rule, rulename = rulename)\n",
    "    dft.loc[is_subsampled,'wasted_votes'] = dft.loc[is_subsampled].apply(fun, axis = 1)\n",
    "    return dft"
   ]
  },
  {
   "cell_type": "code",
   "execution_count": null,
   "metadata": {
    "ExecuteTime": {
     "end_time": "2021-08-12T20:43:32.874236Z",
     "start_time": "2021-08-12T20:43:32.767410Z"
    }
   },
   "outputs": [],
   "source": [
    "# re-orienting it so each line is a method, not min/max/median/most fair\n",
    "def get_competitiveness_per_method(distribibutions_compet, optimization = 'Median'):\n",
    "    distributions_gaps = {}\n",
    "    for state in states:\n",
    "        d = {'method': [method_names[met] for met in methods_to_plot]}\n",
    "        for method in methods_to_plot:\n",
    "            vals = distribibutions_compet[method][state].loc[optimization]\n",
    "            for i in vals.index:\n",
    "                d[i] = d.get(i,[]) + [vals[i]]\n",
    "        distributions_gaps[state] = pd.DataFrame(d).set_index('method')\n",
    "    return distributions_gaps"
   ]
  },
  {
   "cell_type": "code",
   "execution_count": null,
   "metadata": {
    "ExecuteTime": {
     "end_time": "2021-08-12T21:15:46.601014Z",
     "start_time": "2021-08-12T20:43:40.834912Z"
    }
   },
   "outputs": [],
   "source": [
    "# takes about 10-20 minutes or so\n",
    "dfs['thiele_pav'] = add_wasted_votes_to_df(dfs['thiele_pav'], thiele_pav, rulename = 'thiele_pav')\n",
    "dfs['thiele_independent'] = add_wasted_votes_to_df(dfs['thiele_independent'], thiele_approvalindependent, rulename = 'thiele_independent')\n",
    "dfs['thiele_squared'] = add_wasted_votes_to_df(dfs['thiele_squared'], thiele_squared, rulename = 'thiele_squared')"
   ]
  },
  {
   "cell_type": "code",
   "execution_count": null,
   "metadata": {
    "ExecuteTime": {
     "end_time": "2021-08-12T21:24:04.880976Z",
     "start_time": "2021-08-12T21:23:31.255998Z"
    }
   },
   "outputs": [],
   "source": [
    "distributions_compet = {method: state_seat_share_distributions_nikhil(dfs[method]\n",
    "                               , col = 'wasted_votes'\n",
    "                                      , divide = False\n",
    "                                      , col_for_minmaxmostfair = 'N_winners_Republican') for method in methods}\n",
    "distributions_compet"
   ]
  },
  {
   "cell_type": "code",
   "execution_count": null,
   "metadata": {
    "ExecuteTime": {
     "end_time": "2021-08-12T21:24:22.072976Z",
     "start_time": "2021-08-12T21:24:21.871977Z"
    }
   },
   "outputs": [],
   "source": [
    "distributions_compet['thiele_pav']['AL']"
   ]
  },
  {
   "cell_type": "code",
   "execution_count": null,
   "metadata": {
    "ExecuteTime": {
     "end_time": "2021-08-12T21:24:39.119975Z",
     "start_time": "2021-08-12T21:24:38.963009Z"
    }
   },
   "outputs": [],
   "source": [
    "distributions_compet['thiele_independent']['AL']"
   ]
  },
  {
   "cell_type": "code",
   "execution_count": null,
   "metadata": {
    "ExecuteTime": {
     "end_time": "2021-08-12T21:29:18.247752Z",
     "start_time": "2021-08-12T21:29:16.231721Z"
    }
   },
   "outputs": [],
   "source": [
    "distributions_compet_methods_median = get_competitiveness_per_method(distributions_compet)\n",
    "_ = plot_all_state_distribution_generic(\n",
    "    distributions_compet_methods_median, ymin=0, ymax=.25, xbins=None, legend=False, xlabel=\"Avg Vote shift needed\",\n",
    "    bbox_to_anchor=(0.5, .6),\n",
    "    loc=\"lower left\",\n",
    ")\n",
    "saveimage('competitiveness_median', extension = 'pdf')"
   ]
  },
  {
   "cell_type": "code",
   "execution_count": null,
   "metadata": {
    "ExecuteTime": {
     "end_time": "2021-08-12T21:29:33.072733Z",
     "start_time": "2021-08-12T21:29:30.709696Z"
    }
   },
   "outputs": [],
   "source": [
    "# Most fair \n",
    "distributions_compet_methods_mostfair = get_competitiveness_per_method(distributions_compet,optimization= 'Most Fair in each state')\n",
    "_ = plot_all_state_distribution_generic(\n",
    "    distributions_compet_methods_mostfair, ymin=0, ymax=.25, xbins=None, legend=False, xlabel=\"Avg Vote shift needed\",\n",
    "    bbox_to_anchor=(0.5, .6),\n",
    "    loc=\"lower left\",\n",
    ")\n",
    "saveimage('competitiveness_mostfair', extension = 'pdf')"
   ]
  },
  {
   "cell_type": "code",
   "execution_count": null,
   "metadata": {
    "ExecuteTime": {
     "end_time": "2021-08-12T21:29:48.236690Z",
     "start_time": "2021-08-12T21:29:46.237692Z"
    }
   },
   "outputs": [],
   "source": [
    "distributions_compet_methods_mostrep = get_competitiveness_per_method(distributions_compet,optimization= 'Most Republican')\n",
    "_ = plot_all_state_distribution_generic(\n",
    "    distributions_compet_methods_mostrep, ymin=0, ymax=.25, xbins=None, legend=False, xlabel=\"Avg Vote shift needed\",\n",
    "    bbox_to_anchor=(0.5, .6),\n",
    "    loc=\"lower left\",\n",
    ")\n",
    "saveimage('competitiveness_mostrep', extension = 'pdf')"
   ]
  },
  {
   "cell_type": "code",
   "execution_count": null,
   "metadata": {
    "ExecuteTime": {
     "end_time": "2021-08-12T21:30:02.563689Z",
     "start_time": "2021-08-12T21:30:00.368687Z"
    }
   },
   "outputs": [],
   "source": [
    "distributions_compet_methods_mostdem = get_competitiveness_per_method(distributions_compet,optimization= 'Most Democratic')\n",
    "_ = plot_all_state_distribution_generic(\n",
    "    distributions_compet_methods_mostdem, ymin=0, ymax=.25, xbins=None, legend=True, xlabel=\"Avg Vote shift needed\",\n",
    "    bbox_to_anchor=(0.5, .6),\n",
    "    loc=\"lower left\",\n",
    ")\n",
    "saveimage('competitiveness_mostdem', extension = 'pdf')"
   ]
  },
  {
   "cell_type": "markdown",
   "metadata": {},
   "source": [
    "# Intra party stuff"
   ]
  },
  {
   "cell_type": "markdown",
   "metadata": {},
   "source": [
    "## Cohesion"
   ]
  },
  {
   "cell_type": "code",
   "execution_count": null,
   "metadata": {
    "ExecuteTime": {
     "end_time": "2021-07-29T23:16:58.474155Z",
     "start_time": "2021-07-29T23:16:58.356159Z"
    }
   },
   "outputs": [],
   "source": [
    "def get_cohesion_df(dfstv = dfs['stv'], coltemplate = \"cohesion_partisan_score_{}\"):\n",
    "    parties = ['Republican','Democrat']\n",
    "    party_names = {'Republican':'Republican', 'Democrat':'Democratic'}\n",
    "    \n",
    "    distributions_cohesion_party = {}\n",
    "    for party in parties:\n",
    "        distributions_cohesion_party[party] = state_seat_share_distributions_nikhil(\n",
    "            dfstv, col=coltemplate.format(party), do_most_fair=False, divide=False\n",
    "            , min_name=\"Least cohesive\", max_name=\"Most cohesive\"\n",
    "        )\n",
    "        \n",
    "    # same plot as the methods one, except now cohesion for each party on partisan score\n",
    "    distributions_partisan_cohesion = {}#{state:{} for method in methods}\n",
    "\n",
    "    for state in dfstv.state.unique():\n",
    "        d = {'party': [party_names[party] for party in parties]}\n",
    "        for party in parties:\n",
    "            vals =distributions_cohesion_party[party][state].loc['Median']\n",
    "            for i in vals.index:\n",
    "                d[i] = d.get(i,[]) + [vals[i]]\n",
    "        distributions_partisan_cohesion[state] = pd.DataFrame(d).set_index('party')\n",
    "    return distributions_partisan_cohesion\n",
    "\n",
    "def plot_cohesion(dfstv = dfs['stv'], coltemplate = \"cohesion_partisan_score_{}\"\n",
    "                  , cohesionlabel = 'Coalition diversity: Partisan'\n",
    "                  , bbox_to_anchor=(.6,1), ax = None, do_legend = True):\n",
    "    distributions_partisan_cohesion= get_cohesion_df(dfstv = dfstv, coltemplate = coltemplate)\n",
    "    _ = plot_all_state_distribution_generic(\n",
    "        distributions_partisan_cohesion, prop_val=None, do_vertical_integers=False\n",
    "        , ymin=None, ymax=None, xbins=None, legend=do_legend, xlabel=cohesionlabel, do_zoom = False,\n",
    "        bbox_to_anchor=bbox_to_anchor,do_broken_axes = False, set_ylim = False, \n",
    "        loc=\"upper left\", party_colors = True, ax = ax\n",
    "    )\n",
    "    # saveimage('prop_gap', extension = 'pdf')"
   ]
  },
  {
   "cell_type": "code",
   "execution_count": null,
   "metadata": {
    "ExecuteTime": {
     "end_time": "2021-07-29T23:14:48.834936Z",
     "start_time": "2021-07-29T23:14:47.598902Z"
    }
   },
   "outputs": [],
   "source": [
    "for party in parties:\n",
    "    for ddd in [dfs['stv'], dfstvpartisan]:\n",
    "        for cohesion in [\"partisan_score\", \"education\", \"income\"]:\n",
    "            print(cohesion, party)\n",
    "            col = \"cohesion_{}_{}\".format(cohesion, party)\n",
    "            ddd.loc[:,col] = (-ddd.loc[:,col]).apply(np.sqrt)\n",
    "        \n",
    "        for cohesion in [\"geographic\"]:\n",
    "            print(cohesion, party)\n",
    "            col = \"cohesion_{}_{}\".format(cohesion, party)\n",
    "            ddd.loc[:,col] = -ddd.loc[:,col]/1000\n",
    "# dfs['stv']"
   ]
  },
  {
   "cell_type": "code",
   "execution_count": null,
   "metadata": {
    "ExecuteTime": {
     "end_time": "2021-07-29T23:17:26.964213Z",
     "start_time": "2021-07-29T23:17:09.493158Z"
    }
   },
   "outputs": [],
   "source": [
    "plot_cohesion(dfstv = dfs['stv'], coltemplate = \"cohesion_partisan_score_{}\")"
   ]
  },
  {
   "cell_type": "code",
   "execution_count": null,
   "metadata": {
    "ExecuteTime": {
     "end_time": "2021-07-29T23:17:53.162117Z",
     "start_time": "2021-07-29T23:17:38.236092Z"
    }
   },
   "outputs": [],
   "source": [
    "plot_cohesion(dfstv = dfs['stv'], coltemplate = \"cohesion_geographic_{}\", cohesionlabel = 'Coalition diversity: Geographic')"
   ]
  },
  {
   "cell_type": "markdown",
   "metadata": {},
   "source": [
    "Save plot when ranking second by partisan"
   ]
  },
  {
   "cell_type": "code",
   "execution_count": null,
   "metadata": {
    "ExecuteTime": {
     "end_time": "2021-07-29T23:18:37.011100Z",
     "start_time": "2021-07-29T23:18:03.683091Z"
    }
   },
   "outputs": [],
   "source": [
    "fig = plt.figure(figsize = (12, 5))\n",
    "ax = plt.subplot(1,2, 1)\n",
    "plot_cohesion(dfstv = dfstvpartisan, coltemplate = \"cohesion_partisan_score_{}\"\n",
    "              , ax = ax, cohesionlabel = 'Coalition diversity', do_legend = False)\n",
    "ax.set_title('Partisan diversity', fontsize = 20)\n",
    "ax = plt.subplot(1,2, 2)\n",
    "plot_cohesion(dfstv = dfstvpartisan, coltemplate = \"cohesion_geographic_{}\"\n",
    "              , cohesionlabel = 'Coalition diversity (km)', ax = ax)\n",
    "ax.set_title('Geographic diversity', fontsize = 20)\n",
    "saveimage('cohesion_whenrankpartisan_both', extension = 'pdf')"
   ]
  },
  {
   "cell_type": "markdown",
   "metadata": {},
   "source": [
    "Save plot when ranking by goegraphy"
   ]
  },
  {
   "cell_type": "code",
   "execution_count": null,
   "metadata": {
    "ExecuteTime": {
     "start_time": "2021-07-29T23:17:36.315Z"
    }
   },
   "outputs": [],
   "source": [
    "fig = plt.figure(figsize = (12, 5))\n",
    "ax = plt.subplot(1,2, 1)\n",
    "plot_cohesion(dfstv = dfs['stv'], coltemplate = \"cohesion_partisan_score_{}\"\n",
    "              , ax = ax, cohesionlabel = 'Coalition diversity', do_legend = False)\n",
    "ax.set_title('Partisan diversity', fontsize = 20)\n",
    "ax = plt.subplot(1,2, 2)\n",
    "plot_cohesion(dfstv = dfs['stv'], coltemplate = \"cohesion_geographic_{}\"\n",
    "              , cohesionlabel = 'Coalition diversity (km)', ax = ax)\n",
    "ax.set_title('Geographic diversity', fontsize = 20)\n",
    "saveimage('cohesion_whenrankgeog_both', extension = 'pdf')"
   ]
  },
  {
   "cell_type": "markdown",
   "metadata": {},
   "source": [
    "## Use medians -- intra-party winner diversity"
   ]
  },
  {
   "cell_type": "code",
   "execution_count": null,
   "metadata": {
    "ExecuteTime": {
     "end_time": "2021-07-29T23:15:13.955939Z",
     "start_time": "2021-07-29T23:15:01.076Z"
    }
   },
   "outputs": [],
   "source": [
    "def deal_with_medians(df):\n",
    "    df.loc[:,'medians'] = df.medians.apply(eval)\n",
    "    return df\n",
    "\n",
    "def add_intraparty_variances(df):\n",
    "    def fun_rep (x):\n",
    "        part = [y for y in x if y <=50]\n",
    "        if len(part) == 0: return np.nan\n",
    "        return np.std(part)\n",
    "    def fun_dem (x):\n",
    "        part = [y for y in x if y >50]\n",
    "        if len(part) == 0: return np.nan\n",
    "        return np.std(part)\n",
    "    \n",
    "    df['Republican_variance'] = df.medians.apply(fun_rep)\n",
    "    df['Democrat_variance'] = df.medians.apply(fun_dem)    \n",
    "    return df"
   ]
  },
  {
   "cell_type": "code",
   "execution_count": null,
   "metadata": {
    "ExecuteTime": {
     "end_time": "2021-07-29T23:15:13.965907Z",
     "start_time": "2021-07-29T23:15:01.510Z"
    }
   },
   "outputs": [],
   "source": [
    "dfstvpartisan = deal_with_medians(dfstvpartisan)"
   ]
  },
  {
   "cell_type": "code",
   "execution_count": null,
   "metadata": {
    "ExecuteTime": {
     "end_time": "2021-07-29T23:15:13.979905Z",
     "start_time": "2021-07-29T23:15:02.740Z"
    }
   },
   "outputs": [],
   "source": [
    "dfstvpartisan = add_intraparty_variances(dfstvpartisan)"
   ]
  },
  {
   "cell_type": "code",
   "execution_count": null,
   "metadata": {
    "ExecuteTime": {
     "end_time": "2021-07-29T23:15:13.991904Z",
     "start_time": "2021-07-29T23:15:03.222Z"
    }
   },
   "outputs": [],
   "source": [
    "plot_cohesion(dfstv = dfstvpartisan, coltemplate = \"{}_variance\", bbox_to_anchor=(.6,1)\n",
    "              , cohesionlabel = 'Intra-Party diversity: Partisan')\n",
    "saveimage('winnerdiversity_partisan_whenrankpartisan', extension = 'pdf')"
   ]
  },
  {
   "cell_type": "code",
   "execution_count": null,
   "metadata": {
    "ExecuteTime": {
     "end_time": "2021-07-29T23:15:14.000906Z",
     "start_time": "2021-07-29T23:15:03.553Z"
    }
   },
   "outputs": [],
   "source": [
    "dfs['stv'] = deal_with_medians(dfs['stv'])\n",
    "dfs['stv'] = add_intraparty_variances(dfs['stv'])"
   ]
  },
  {
   "cell_type": "code",
   "execution_count": null,
   "metadata": {
    "ExecuteTime": {
     "end_time": "2021-07-29T23:15:14.011904Z",
     "start_time": "2021-07-29T23:15:04.796Z"
    }
   },
   "outputs": [],
   "source": [
    "plot_cohesion(dfstv = dfs['stv'], coltemplate = \"{}_variance\", bbox_to_anchor=(.4,.8)\n",
    "             , cohesionlabel = 'Intra-Party diversity: Partisan')\n",
    "saveimage('winnerdiversity_partisan_whenrankgeo', extension = 'pdf')"
   ]
  },
  {
   "cell_type": "code",
   "execution_count": null,
   "metadata": {},
   "outputs": [],
   "source": []
  },
  {
   "cell_type": "code",
   "execution_count": null,
   "metadata": {},
   "outputs": [],
   "source": []
  }
 ],
 "metadata": {
  "kernelspec": {
   "display_name": "Python 3",
   "language": "python",
   "name": "python3"
  },
  "language_info": {
   "codemirror_mode": {
    "name": "ipython",
    "version": 3
   },
   "file_extension": ".py",
   "mimetype": "text/x-python",
   "name": "python",
   "nbconvert_exporter": "python",
   "pygments_lexer": "ipython3",
   "version": "3.6.7"
  },
  "varInspector": {
   "cols": {
    "lenName": 16,
    "lenType": 16,
    "lenVar": 40
   },
   "kernels_config": {
    "python": {
     "delete_cmd_postfix": "",
     "delete_cmd_prefix": "del ",
     "library": "var_list.py",
     "varRefreshCmd": "print(var_dic_list())"
    },
    "r": {
     "delete_cmd_postfix": ") ",
     "delete_cmd_prefix": "rm(",
     "library": "var_list.r",
     "varRefreshCmd": "cat(var_dic_list()) "
    }
   },
   "types_to_exclude": [
    "module",
    "function",
    "builtin_function_or_method",
    "instance",
    "_Feature"
   ],
   "window_display": false
  }
 },
 "nbformat": 4,
 "nbformat_minor": 4
}
