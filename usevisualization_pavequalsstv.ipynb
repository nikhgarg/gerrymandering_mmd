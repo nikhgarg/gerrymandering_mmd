{
 "cells": [
  {
   "cell_type": "code",
   "execution_count": null,
   "metadata": {},
   "outputs": [],
   "source": [
    "import pandas as pd\n",
    "import seaborn as sns\n",
    "import matplotlib.pyplot as plt\n",
    "import numpy as np\n",
    "%load_ext autoreload\n",
    "%autoreload 2\n",
    "from generic.latexify import *"
   ]
  },
  {
   "cell_type": "code",
   "execution_count": null,
   "metadata": {},
   "outputs": [],
   "source": [
    "from visualization.settings import *\n",
    "from visualization.helpers import *\n",
    "from visualization.paperplots import *"
   ]
  },
  {
   "cell_type": "code",
   "execution_count": null,
   "metadata": {},
   "outputs": [],
   "source": [
    "from optimize.analyze_results import *"
   ]
  },
  {
   "cell_type": "markdown",
   "metadata": {},
   "source": [
    "# Load the data"
   ]
  },
  {
   "cell_type": "code",
   "execution_count": null,
   "metadata": {},
   "outputs": [],
   "source": [
    "template = 'combined'\n",
    "path = 'cached_values/outputs/organized'"
   ]
  },
  {
   "cell_type": "code",
   "execution_count": null,
   "metadata": {},
   "outputs": [],
   "source": [
    "methods = ['thiele_pav','stv', 'thiele_approvalindependent', 'thiele_squared']"
   ]
  },
  {
   "cell_type": "code",
   "execution_count": null,
   "metadata": {
    "scrolled": true
   },
   "outputs": [],
   "source": [
    "dfs = {method:load_organized_df(path, template, method) for method in methods}"
   ]
  },
  {
   "cell_type": "code",
   "execution_count": null,
   "metadata": {},
   "outputs": [],
   "source": [
    "states = dfs[methods[0]].state.unique()"
   ]
  },
  {
   "cell_type": "code",
   "execution_count": null,
   "metadata": {},
   "outputs": [],
   "source": [
    "parties = ['Republican', 'Democrat']"
   ]
  },
  {
   "cell_type": "code",
   "execution_count": null,
   "metadata": {},
   "outputs": [],
   "source": [
    "print(dfs[methods[0]].columns)"
   ]
  },
  {
   "cell_type": "code",
   "execution_count": null,
   "metadata": {},
   "outputs": [],
   "source": [
    "dfstvpartisan = load_organized_df(path, 'combined_partisan', 'stv')"
   ]
  },
  {
   "cell_type": "markdown",
   "metadata": {},
   "source": [
    "# Proportionality stuff"
   ]
  },
  {
   "cell_type": "code",
   "execution_count": null,
   "metadata": {},
   "outputs": [],
   "source": [
    "distributions = {method: state_seat_share_distributions_nikhil(dfs[method]) for method in methods}"
   ]
  },
  {
   "cell_type": "code",
   "execution_count": null,
   "metadata": {
    "scrolled": true
   },
   "outputs": [],
   "source": [
    "distributions"
   ]
  },
  {
   "cell_type": "markdown",
   "metadata": {},
   "source": [
    "## Overall proportionality for each method"
   ]
  },
  {
   "cell_type": "code",
   "execution_count": null,
   "metadata": {},
   "outputs": [],
   "source": [
    "methods_to_plot = ['thiele_pav', 'thiele_approvalindependent', 'thiele_squared']"
   ]
  },
  {
   "cell_type": "code",
   "execution_count": null,
   "metadata": {},
   "outputs": [],
   "source": [
    "method_names"
   ]
  },
  {
   "cell_type": "code",
   "execution_count": null,
   "metadata": {
    "scrolled": false
   },
   "outputs": [],
   "source": [
    "ax1 = None\n",
    "fig = plt.figure(figsize = (20, 5))\n",
    "for enn, method in enumerate(methods_to_plot):\n",
    "    if enn == 0:\n",
    "        ax = plt.subplot(int('1{}{}'.format(len(methods_to_plot), enn+1)))\n",
    "        ax1 = ax\n",
    "    else:\n",
    "        ax = plt.subplot(int('1{}{}'.format(len(methods_to_plot), enn+1)), sharey = ax1)\n",
    "    print(method)\n",
    "    _ = plot_all_state_distribution_generic(distributions[method]\n",
    "                                                         , prop_val = get_prop(dfs[method])\n",
    "                                                         , do_vertical_integers = True, legend = enn==len(methods_to_plot)-1\n",
    "                                            , ax = ax, party_colors = True, bbox_to_anchor=(-2.25, 1.055)\n",
    "                                            , legendncol = 4, legendfontsize = 20)\n",
    "    ax.set_title(method_names[method], fontsize = 20)\n",
    "#     plt.show()\n",
    "#     axes.append(ax)\n",
    "saveimage('prop_differentmethods', extension = 'pdf')"
   ]
  },
  {
   "cell_type": "markdown",
   "metadata": {},
   "source": [
    "## Proportionality gap for a few relevant states"
   ]
  },
  {
   "cell_type": "code",
   "execution_count": null,
   "metadata": {},
   "outputs": [],
   "source": [
    "# 4 states for main text\n",
    "from visualization.fancy_plots import *\n",
    "method = 'thiele_pav'#'stv'\n",
    "ax1 = None\n",
    "fig = plt.figure(figsize = (12, 5))\n",
    "state_names = {}\n",
    "states_to_do= ['CA', 'MA', 'FL', 'TX'] #['NY', 'MA', 'OK', 'FL', 'TX'] #dfs[method].state.unique()#\n",
    "for enn, state in enumerate(states_to_do):\n",
    "    if enn == 0:\n",
    "        ax = plt.subplot(int('1{}{}'.format(len(states_to_do), enn+1)))\n",
    "        ax1 = ax\n",
    "    else:\n",
    "        ax = plt.subplot(int('1{}{}'.format(len(states_to_do), enn+1)), sharey = ax1)\n",
    "        \n",
    "    seats = state_constants[state][\"seats\"]\n",
    "    xbins = [x/seats for x in range(1, int(seats)+1)]\n",
    "    print(state, seats)\n",
    "    dfstate = dfs[method].query('state==@state')\n",
    "    \n",
    "    boxplot_per_district_for_single_state_per_method(\n",
    "        dfstate,\n",
    "        state,\n",
    "        do_extremes_and_prop_line=True,\n",
    "        additional_filters={},ax = ax\n",
    "    )    \n",
    "    ax.set_title(state_names.get(state, state), fontsize = 20)\n",
    "ax1.set_ylabel('Republican seat share', fontsize = 20)\n",
    "ax1.set_ylim((0, 1))\n",
    "#    plt.show()\n",
    "saveimage('prop_states_boxNY', extension = 'pdf')"
   ]
  },
  {
   "cell_type": "code",
   "execution_count": null,
   "metadata": {
    "scrolled": true
   },
   "outputs": [],
   "source": [
    "# all states for appendix\n",
    "from visualization.fancy_plots import *\n",
    "method = 'thiele_pav'#'stv'\n",
    "ax1 = None\n",
    "fig = plt.figure(figsize = (24, 42))\n",
    "state_names = {}\n",
    "states_to_do= dfs[method].state.unique() #['NY', 'MA', 'FL', 'TX'] #['NY', 'MA', 'OK', 'FL', 'TX'] #dfs[method].state.unique()#\n",
    "width = 6\n",
    "height = int(np.ceil(len(states_to_do)/width))\n",
    "for enn, state in enumerate(states_to_do):\n",
    "    print(state, int(enn/width) + 1, width, (enn%width)+1)\n",
    "#     ax = plt.subplot(int('{}{}{}'.format(int(enn/width) + 1, width, (enn%width)+1)))\n",
    "    ax = plt.subplot(height,width, enn+1)\n",
    "\n",
    "    seats = state_constants[state][\"seats\"]\n",
    "    xbins = [x/seats for x in range(1, int(seats)+1)]\n",
    "    print(state, seats)\n",
    "    dfstate = dfs[method].query('state==@state')\n",
    "    \n",
    "    boxplot_per_district_for_single_state_per_method(\n",
    "        dfstate,\n",
    "        state,\n",
    "        do_extremes_and_prop_line=True,\n",
    "        additional_filters={},ax = ax\n",
    "    )\n",
    "    ax.set_xlabel('')\n",
    "    ax.set_title(state_names.get(state, state), fontsize = 20)\n",
    "# ax1.set_ylabel('Republican seat share', fontsize = 20)\n",
    "#    plt.show()\n",
    "saveimage('prop_states_all', extension = 'pdf')"
   ]
  },
  {
   "cell_type": "markdown",
   "metadata": {},
   "source": [
    "## Cumulative proportionality gap"
   ]
  },
  {
   "cell_type": "code",
   "execution_count": null,
   "metadata": {},
   "outputs": [],
   "source": [
    "import copy\n",
    "#Appendix plot -- difference between parties\n",
    "def get_prop_gap_by_state_demrepdifference(dfsmet):\n",
    "    ret = copy.deepcopy(dfsmet)\n",
    "    prop = get_prop(dfs[method].query('state==@state'))\n",
    "    for state in states:\n",
    "        ret[state] = (ret[state] - .485)\n",
    "#         ret[state].loc['Party difference',:] = ret[state].loc['Most Democratic',:] + ret[state].loc['Most Republican',:]\n",
    "        ret[state] = ret[state].loc[['Most Republican', 'Most Democratic']] # 'Party difference',\n",
    "    return ret\n",
    "\n",
    "fig = plt.figure(figsize = (18, 5))\n",
    "ax = plt.subplot(1,3, 1)\n",
    "ret = get_prop_gap_by_state_demrepdifference(distributions['thiele_pav'])\n",
    "_ = plot_all_state_distribution_generic(\n",
    "    ret, prop_val=None, do_vertical_integers=False\n",
    "    , ymin=-.05, ymax=.25, xbins=None, legend=False, xlabel=\"Avg proportionality gap\", do_zoom = False,\n",
    "    bbox_to_anchor=(0.01, .8),do_broken_axes = False, legendncol = 2, legendfontsize = 15,\n",
    "    loc=\"lower left\", do_abs_after_combining = True, ax = ax, party_colors=  True\n",
    ")\n",
    "ax.set_title('STV and PAV', fontsize = 20)\n",
    "\n",
    "ax = plt.subplot(1,3, 2)\n",
    "ret = get_prop_gap_by_state_demrepdifference(distributions['thiele_approvalindependent'])\n",
    "_ = plot_all_state_distribution_generic(\n",
    "    ret, prop_val=None, do_vertical_integers=False\n",
    "    , ymin=-.05, ymax=.25, xbins=None, legend=False, xlabel=\"Avg proportionality gap\", do_zoom = False,\n",
    "    bbox_to_anchor=(0.01, .7),do_broken_axes = False, legendncol = 1, legendfontsize = 15,\n",
    "    loc=\"lower left\", do_abs_after_combining = True, ax= ax, party_colors=  True\n",
    ")\n",
    "ax.set_title('Winner takes all', fontsize = 20)\n",
    "\n",
    "\n",
    "ax = plt.subplot(1,3, 3)\n",
    "ret = get_prop_gap_by_state_demrepdifference(distributions['thiele_squared'])\n",
    "_ = plot_all_state_distribution_generic(\n",
    "    ret, prop_val=None, do_vertical_integers=False\n",
    "    , ymin=-.05, ymax=.25, xbins=None, legend=True, xlabel=\"Avg proportionality gap\", do_zoom = False,\n",
    "    bbox_to_anchor=(0.01, .7),do_broken_axes = False, legendncol = 1, legendfontsize = 15,\n",
    "    loc=\"lower left\", do_abs_after_combining = True, ax = ax, party_colors=  True\n",
    ")\n",
    "ax.set_title('Thiele Squared', fontsize = 20)\n",
    "\n",
    "saveimage('gerrymandering_advantage_by_rule_fixed', extension = 'pdf')"
   ]
  },
  {
   "cell_type": "code",
   "execution_count": null,
   "metadata": {},
   "outputs": [],
   "source": []
  },
  {
   "cell_type": "code",
   "execution_count": null,
   "metadata": {},
   "outputs": [],
   "source": [
    "# # re-orienting it so each line is a method, not min/max/median/most fair\n",
    "# def get_proportionality_gaps_by_method_demrep(method = 'stv', get_max_instead = False):\n",
    "#     distributions_gaps = {}#{state:{} for method in methods}\n",
    "#     for state in states:\n",
    "#         d = {'method': [method_names[met] for met in methods_to_plot]}\n",
    "#         for method in methods_to_plot:\n",
    "#             prop = get_prop(dfs[method].query('state==@state'))\n",
    "#             if not get_max_instead:\n",
    "#                 vals= (distributions[method][state] - prop).abs().loc[optimization]\n",
    "#             else:\n",
    "#                 vals= (distributions[method][state] - prop).abs().max(axis = 0)\n",
    "#             for i in vals.index:\n",
    "#                 d[i] = d.get(i,[]) + [vals[i]]\n",
    "#         distributions_gaps[state] = pd.DataFrame(d).set_index('method')\n",
    "#     return distributions_gaps\n"
   ]
  },
  {
   "cell_type": "code",
   "execution_count": null,
   "metadata": {},
   "outputs": [],
   "source": [
    "# re-orienting it so each line is a method, not min/max/median/most fair\n",
    "def get_proportionality_gaps(optimization = 'Most Fair in each state', get_max_instead = False):\n",
    "    distributions_gaps = {}#{state:{} for method in methods}\n",
    "    for state in states:\n",
    "        d = {'method': [method_names[met] for met in methods_to_plot]}\n",
    "        for method in methods_to_plot:\n",
    "            prop = get_prop(dfs[method].query('state==@state'))\n",
    "            if not get_max_instead:\n",
    "                vals= (distributions[method][state] - prop).abs().loc[optimization]\n",
    "            else:\n",
    "                vals= (distributions[method][state] - prop).abs().max(axis = 0)\n",
    "            for i in vals.index:\n",
    "                d[i] = d.get(i,[]) + [vals[i]]\n",
    "        distributions_gaps[state] = pd.DataFrame(d).set_index('method')\n",
    "    return distributions_gaps\n"
   ]
  },
  {
   "cell_type": "code",
   "execution_count": null,
   "metadata": {},
   "outputs": [],
   "source": [
    "distributions_gaps = get_proportionality_gaps(optimization = 'Most Fair in each state')\n",
    "_ = plot_all_state_distribution_generic(\n",
    "    distributions_gaps, prop_val=None, do_vertical_integers=False\n",
    "    , ymin=0, ymax=.10, xbins=None, legend=True, xlabel=\"Avg proportionality gap\", do_zoom = False,\n",
    "    bbox_to_anchor=(0.5, .6),do_broken_axes = False,\n",
    "    loc=\"lower left\",\n",
    ")\n",
    "saveimage('prop_gap', extension = 'pdf')"
   ]
  },
  {
   "cell_type": "code",
   "execution_count": null,
   "metadata": {},
   "outputs": [],
   "source": [
    "distributions_gaps_median = get_proportionality_gaps(optimization = 'Median')"
   ]
  },
  {
   "cell_type": "code",
   "execution_count": null,
   "metadata": {},
   "outputs": [],
   "source": [
    "distributions_gaps_max = get_proportionality_gaps(optimization = '', get_max_instead = True)"
   ]
  },
  {
   "cell_type": "code",
   "execution_count": null,
   "metadata": {},
   "outputs": [],
   "source": [
    "distributions_gaps_rep = get_proportionality_gaps(optimization = 'Most Republican')\n",
    "distributions_gaps_dem = get_proportionality_gaps(optimization = 'Most Democratic')"
   ]
  },
  {
   "cell_type": "code",
   "execution_count": null,
   "metadata": {},
   "outputs": [],
   "source": [
    "distributions_gaps_dem"
   ]
  },
  {
   "cell_type": "code",
   "execution_count": null,
   "metadata": {},
   "outputs": [],
   "source": [
    "fig = plt.figure(figsize = (18, 5))\n",
    "ax = plt.subplot(1,3, 1)\n",
    "_ = plot_all_state_distribution_generic(\n",
    "    distributions_gaps_median, prop_val=None, do_vertical_integers=False\n",
    "    , ymin=0, ymax=.3, xbins=None, legend=False, xlabel=\"Avg proportionality gap\", do_zoom = False,\n",
    "    bbox_to_anchor=(0.5, .6),do_broken_axes = False, ax = ax,\n",
    "    loc=\"lower left\",\n",
    ")\n",
    "ax.set_title('Median maps', fontsize = 20)\n",
    "ax = plt.subplot(1,3, 2)\n",
    "_ = plot_all_state_distribution_generic(\n",
    "    distributions_gaps_rep, prop_val=None, do_vertical_integers=False\n",
    "    , ymin=0, ymax=.3, xbins=None, legend=False, xlabel=\"Avg proportionality gap\", do_zoom = False,\n",
    "    bbox_to_anchor=(0.5, .6),do_broken_axes = False,ax = ax,\n",
    "    loc=\"lower left\",\n",
    ")\n",
    "ax.set_title('Most Republican maps', fontsize = 20)\n",
    "ax = plt.subplot(1,3, 3)\n",
    "_ = plot_all_state_distribution_generic(\n",
    "    distributions_gaps_dem, prop_val=None, do_vertical_integers=False\n",
    "    , ymin=0, ymax=.3, xbins=None, legend=True, xlabel=\"Avg proportionality gap\", do_zoom = False,\n",
    "    bbox_to_anchor=(0.5, .6),do_broken_axes = False,ax = ax,\n",
    "    loc=\"lower left\",\n",
    ")\n",
    "ax.set_title('Most Democratic maps', fontsize = 20)\n",
    "saveimage('prop_gap_medianrepdem', extension = 'pdf')"
   ]
  },
  {
   "cell_type": "code",
   "execution_count": null,
   "metadata": {},
   "outputs": [],
   "source": [
    "_ = plot_all_state_distribution_generic(\n",
    "    distributions_gaps_median, prop_val=None, do_vertical_integers=False\n",
    "    , ymin=0, ymax=.3, xbins=None, legend=True, xlabel=\"Avg proportionality gap\", do_zoom = False,\n",
    "    bbox_to_anchor=(0.5, .6),do_broken_axes = False,\n",
    "    loc=\"lower left\",\n",
    ")\n",
    "saveimage('prop_gap_median', extension = 'pdf')"
   ]
  },
  {
   "cell_type": "code",
   "execution_count": null,
   "metadata": {},
   "outputs": [],
   "source": [
    "#Proportionality gap by the maximum gerrymanderes\n",
    "_ = plot_all_state_distribution_generic(\n",
    "    distributions_gaps_max, prop_val=None, do_vertical_integers=False\n",
    "    , ymin=0, ymax=.6, xbins=None, legend=True, xlabel=\"Avg proportionality gap\", do_zoom = False,\n",
    "    bbox_to_anchor=(0.5, .6),do_broken_axes = False,\n",
    "    loc=\"lower left\",\n",
    ")\n",
    "saveimage('prop_gap_maxgerrymandered', extension = 'pdf')\n",
    "_ = plot_all_state_distribution_generic(\n",
    "    distributions_gaps_max, prop_val=None, do_vertical_integers=False\n",
    "    , ymin=0, ymax=.6, xbins=None, legend=True, xlabel=\"Avg proportionality gap\", do_zoom = False,\n",
    "    bbox_to_anchor=(0.5, .6),do_broken_axes = False,#ncols = 2,\n",
    "    loc=\"lower left\",\n",
    ")"
   ]
  },
  {
   "cell_type": "markdown",
   "metadata": {},
   "source": [
    "# diffusion stuff -- scatterplots"
   ]
  },
  {
   "cell_type": "code",
   "execution_count": null,
   "metadata": {},
   "outputs": [],
   "source": [
    "def get_gap_per_state_at_SMD(distributions_gaps, method = 'STV', which = -1): #which=-1 means SMD, which = 0 = MMD\n",
    "    vals = {}\n",
    "    for state in distributions_gaps:\n",
    "        vals[state] = distributions_gaps[state].loc[method].tolist()[which]\n",
    "    return vals\n",
    "\n",
    "def get_gap_per_state_at_middle(distributions_gaps, method = 'STV'):\n",
    "    vals = {}\n",
    "    for state in distributions_gaps:\n",
    "        ar = distributions_gaps[state].loc[method].tolist()\n",
    "        print(state, ar)\n",
    "        vals[state] = ar[int(len(ar)/2.0)]# TODO not accurate...\n",
    "    return vals\n",
    "\n",
    "# def get_MMD_level_at_which_fair(distributions_gaps, method = 'STV', threshold = .04):\n",
    "#     vals = {}\n",
    "#     for state in distributions_gaps:\n",
    "#         ar = distributions_gaps[state].loc[method].tolist()\n",
    "#         lessthanthres = [x < threshold for x in ar]\n",
    "#         #grab first value at which all values before are less than threshold\n",
    "#         for en in range(len(lessthanthres)):\n",
    "#             if lessthanthres[en] == False:\n",
    "#                 vals[state] = ((en + 1) - 1)/float(len(lessthanthres)) #TODO this line is wrong\n",
    "#                 break\n",
    "#             vals[state] = 1 #even SMD works here\n",
    "#     return vals\n",
    "\n",
    "def get_MMD_level_at_which_fair(distributions_gaps, method = 'STV', extratol = 0):\n",
    "    vals = {}\n",
    "    for state in distributions_gaps:\n",
    "        result = distributions_gaps[state].loc[method]\n",
    "        gaps = result.values\n",
    "        seats = result.index.values\n",
    "        threshold = (1 / max(seats) / 2) + extratol\n",
    "        min_ix = np.argmax((gaps <= threshold) * seats)\n",
    "        vals[state] = (seats[min_ix] / max(seats)) if min_ix > 0 else -.25\n",
    "    return vals\n",
    "\n",
    "def scatterstate(xs, vals, size = None, labelsizethresh = None):\n",
    "    y = [vals[state] for state in vals if state in xs]\n",
    "    x = [xs[state] for state in vals if state in xs]\n",
    "    if size is not None:\n",
    "        sizeslist = [np.sqrt(size[state])*7 for state in vals if state in xs]\n",
    "        sns.scatterplot(x, y, s = sizeslist)\n",
    "    else:\n",
    "        sns.scatterplot(x, y)\n",
    "\n",
    "    if labelsizethresh is not None:\n",
    "        for state in set(vals).intersection(set(xs)):\n",
    "            if size[state] < labelsizethresh:\n",
    "                continue\n",
    "            plt.text(xs[state]+.0015, vals[state]+.03, state)\n",
    "#             print(state)"
   ]
  },
  {
   "cell_type": "code",
   "execution_count": null,
   "metadata": {},
   "outputs": [],
   "source": [
    "stateseats = {state: state_constants[state]['seats'] for state in state_constants}"
   ]
  },
  {
   "cell_type": "code",
   "execution_count": null,
   "metadata": {},
   "outputs": [],
   "source": [
    "voteshares = {state: state_constants[state]['vote_share'] for state in state_constants}\n",
    "distributions_gaps_median = get_proportionality_gaps(optimization = 'Median')"
   ]
  },
  {
   "cell_type": "code",
   "execution_count": null,
   "metadata": {},
   "outputs": [],
   "source": [
    "vals_SMD_mostfair = get_gap_per_state_at_SMD(distributions_gaps, method = 'STV')\n",
    "vals_SMD_median = get_gap_per_state_at_SMD(distributions_gaps_median, method = 'STV')\n",
    "vals_SMD_max = get_gap_per_state_at_SMD(distributions_gaps_max, method = 'STV')\n",
    "\n",
    "\n",
    "distributions_gaps_max\n",
    "\n",
    "scatterstate(voteshares, vals_SMD_mostfair, size = stateseats, labelsizethresh = 10)\n",
    "plt.show()\n",
    "scatterstate(voteshares, vals_SMD_median, size = stateseats, labelsizethresh = 10)\n",
    "plt.show()\n",
    "scatterstate(voteshares, vals_SMD_max, size = stateseats, labelsizethresh = 10)"
   ]
  },
  {
   "cell_type": "code",
   "execution_count": null,
   "metadata": {},
   "outputs": [],
   "source": [
    "vals_SMD_mostfair = get_gap_per_state_at_SMD(distributions_gaps, method = 'STV', which = 0) #actually 1 large MMD\n",
    "vals_SMD_median = get_gap_per_state_at_SMD(distributions_gaps_median, method = 'STV', which = 0)\n",
    "vals_SMD_max = get_gap_per_state_at_SMD(distributions_gaps_max, method = 'STV', which = 0)\n",
    "\n",
    "\n",
    "scatterstate(voteshares, vals_SMD_mostfair, size = stateseats, labelsizethresh = 10)\n",
    "plt.show()\n",
    "scatterstate(voteshares, vals_SMD_median, size = stateseats, labelsizethresh = 10)\n",
    "plt.show()\n",
    "scatterstate(voteshares, vals_SMD_max, size = stateseats, labelsizethresh = 10)"
   ]
  },
  {
   "cell_type": "code",
   "execution_count": null,
   "metadata": {},
   "outputs": [],
   "source": [
    "vals_SMD_mostfair = get_gap_per_state_at_middle(distributions_gaps, method = 'STV') \n",
    "vals_SMD_median = get_gap_per_state_at_middle(distributions_gaps_median, method = 'STV')\n",
    "vals_SMD_max = get_gap_per_state_at_middle(distributions_gaps_max, method = 'STV')\n",
    "\n",
    "\n",
    "scatterstate(voteshares, vals_SMD_mostfair, size = stateseats, labelsizethresh = 10)\n",
    "plt.show()\n",
    "scatterstate(voteshares, vals_SMD_median, size = stateseats, labelsizethresh = 10)\n",
    "plt.show()\n",
    "scatterstate(voteshares, vals_SMD_max, size = stateseats, labelsizethresh = 10)"
   ]
  },
  {
   "cell_type": "code",
   "execution_count": null,
   "metadata": {},
   "outputs": [],
   "source": [
    "vals_MMD_mostfair = get_MMD_level_at_which_fair(distributions_gaps, method = 'STV', extratol = .05)#, threshold = .015)\n",
    "vals_MMD_median = get_MMD_level_at_which_fair(distributions_gaps_median, method = 'STV', extratol = 0)#, threshold = .06)\n",
    "vals_MMD_mostgap = get_MMD_level_at_which_fair(distributions_gaps_max, method = 'STV', extratol = .025)#, threshold = .06)\n",
    "\n",
    "\n",
    "scatterstate(voteshares, vals_MMD_mostfair, size = stateseats, labelsizethresh = 10)\n",
    "plt.show()\n",
    "scatterstate(voteshares, vals_MMD_median, size = stateseats, labelsizethresh = 10)\n",
    "plt.show()\n",
    "scatterstate(voteshares, vals_MMD_mostgap, size = stateseats, labelsizethresh = 10)\n",
    "plt.show()"
   ]
  },
  {
   "cell_type": "code",
   "execution_count": null,
   "metadata": {},
   "outputs": [],
   "source": [
    "# vals_MMD_mostgerry = get_MMD_level_at_which_fair(distributions_gaps_max, method = 'STV', threshold = .3)\n",
    "# scatterstate(voteshares, vals_MMD_mostgerry, size = stateseats, labelsizethresh = 10)\n",
    "# plt.ylabel('Districts / Seats needed', fontsize = 20)\n",
    "# plt.xlabel('Republican vote share', fontsize = 20)\n",
    "# sns.despine()\n",
    "# # saveimage('Design_MMDneeded_partisanlean', extension = 'pdf')"
   ]
  },
  {
   "cell_type": "code",
   "execution_count": null,
   "metadata": {},
   "outputs": [],
   "source": [
    "scatterstate(voteshares, vals_MMD_median, size = stateseats, labelsizethresh = 10)\n",
    "plt.ylabel('Districts / Seats needed', fontsize = 20)\n",
    "plt.xlabel('Republican vote share', fontsize = 20)\n",
    "sns.despine()\n",
    "saveimage('Design_MMDneeded_partisanlean_Median', extension = 'pdf')"
   ]
  },
  {
   "cell_type": "code",
   "execution_count": null,
   "metadata": {},
   "outputs": [],
   "source": [
    "absvoteshares = {state: abs(.5 - voteshares[state]) for state in voteshares}"
   ]
  },
  {
   "cell_type": "code",
   "execution_count": null,
   "metadata": {},
   "outputs": [],
   "source": [
    "avg_dist_needed = {state: min(1/(vals_MMD_median[state]+.001), stateseats[state]) for state in vals_MMD_median}"
   ]
  },
  {
   "cell_type": "code",
   "execution_count": null,
   "metadata": {},
   "outputs": [],
   "source": [
    "# avg_dist_needed"
   ]
  },
  {
   "cell_type": "code",
   "execution_count": null,
   "metadata": {},
   "outputs": [],
   "source": [
    "# scatterstate(voteshares, avg_dist_needed, size = stateseats, labelsizethresh = 10)\n",
    "# plt.ylabel('Districts / Seats needed', fontsize = 20)\n",
    "# plt.xlabel('Partisan lean', fontsize = 20)\n",
    "# sns.despine()\n",
    "# # saveimage('Design_MMDneeded_partisanlean', extension = 'pdf')"
   ]
  },
  {
   "cell_type": "code",
   "execution_count": null,
   "metadata": {},
   "outputs": [],
   "source": [
    "scatterstate(voteshares, avg_dist_needed, size = stateseats, labelsizethresh = 15)\n",
    "plt.ylabel('Districts / Seats needed', fontsize = 20)\n",
    "plt.xlabel('Partisan lean', fontsize = 20)\n",
    "sns.despine()\n",
    "# saveimage('Design_MMDneeded_partisanlean', extension = 'pdf')"
   ]
  },
  {
   "cell_type": "code",
   "execution_count": null,
   "metadata": {},
   "outputs": [],
   "source": [
    "scatterstate(absvoteshares, vals_MMD_median, size = stateseats, labelsizethresh = 10)\n",
    "plt.ylabel('Districts / Seats needed', fontsize = 20)\n",
    "plt.xlabel('Partisan lean', fontsize = 20)\n",
    "sns.despine()\n",
    "# saveimage('Design_MMDneeded_partisanlean', extension = 'pdf')"
   ]
  },
  {
   "cell_type": "markdown",
   "metadata": {},
   "source": [
    "# Intra party stuff"
   ]
  },
  {
   "cell_type": "markdown",
   "metadata": {},
   "source": [
    "## Cohesion"
   ]
  },
  {
   "cell_type": "code",
   "execution_count": null,
   "metadata": {},
   "outputs": [],
   "source": [
    "def get_cohesion_df(dfstv = dfs['stv'], coltemplate = \"cohesion_partisan_score_{}\"):\n",
    "    parties = ['Republican','Democrat']\n",
    "    party_names = {'Republican':'Republican', 'Democrat':'Democratic'}\n",
    "    \n",
    "    distributions_cohesion_party = {}\n",
    "    for party in parties:\n",
    "        distributions_cohesion_party[party] = state_seat_share_distributions_nikhil(\n",
    "            dfstv, col=coltemplate.format(party), do_most_fair=False, divide=False\n",
    "            , min_name=\"Least cohesive\", max_name=\"Most cohesive\"\n",
    "        )\n",
    "        \n",
    "    # same plot as the methods one, except now cohesion for each party on partisan score\n",
    "    distributions_partisan_cohesion = {}#{state:{} for method in methods}\n",
    "\n",
    "    for state in states:\n",
    "        d = {'party': [party_names[party] for party in parties]}\n",
    "        for party in parties:\n",
    "            vals =distributions_cohesion_party[party][state].loc['Median']\n",
    "            for i in vals.index:\n",
    "                d[i] = d.get(i,[]) + [vals[i]]\n",
    "        distributions_partisan_cohesion[state] = pd.DataFrame(d).set_index('party')\n",
    "    return distributions_partisan_cohesion\n",
    "\n",
    "def plot_cohesion(dfstv = dfs['stv'], coltemplate = \"cohesion_partisan_score_{}\"\n",
    "                  , cohesionlabel = 'Coalition diversity: Partisan'\n",
    "                  , bbox_to_anchor=(.6,1), ax = None, do_legend = True):\n",
    "    distributions_partisan_cohesion= get_cohesion_df(dfstv = dfstv, coltemplate = coltemplate)\n",
    "    _ = plot_all_state_distribution_generic(\n",
    "        distributions_partisan_cohesion, prop_val=None, do_vertical_integers=False\n",
    "        , ymin=None, ymax=None, xbins=None, legend=do_legend, xlabel=cohesionlabel, do_zoom = False,\n",
    "        bbox_to_anchor=bbox_to_anchor,do_broken_axes = False, set_ylim = False, \n",
    "        loc=\"upper left\", party_colors = True, ax = ax\n",
    "    )\n",
    "    # saveimage('prop_gap', extension = 'pdf')"
   ]
  },
  {
   "cell_type": "code",
   "execution_count": null,
   "metadata": {},
   "outputs": [],
   "source": [
    "for party in parties:\n",
    "    for ddd in [dfs['stv'], dfstvpartisan]:\n",
    "        for cohesion in [\"partisan_score\", \"education\", \"income\"]:\n",
    "            print(cohesion, party)\n",
    "            col = \"cohesion_{}_{}\".format(cohesion, party)\n",
    "            ddd.loc[:,col] = (-ddd.loc[:,col]).apply(np.sqrt)\n",
    "        \n",
    "        for cohesion in [\"geographic\"]:\n",
    "            print(cohesion, party)\n",
    "            col = \"cohesion_{}_{}\".format(cohesion, party)\n",
    "            ddd.loc[:,col] = -ddd.loc[:,col]/1000\n",
    "# dfs['stv']"
   ]
  },
  {
   "cell_type": "code",
   "execution_count": null,
   "metadata": {},
   "outputs": [],
   "source": [
    "plot_cohesion(dfstv = dfs['stv'], coltemplate = \"cohesion_partisan_score_{}\")"
   ]
  },
  {
   "cell_type": "code",
   "execution_count": null,
   "metadata": {},
   "outputs": [],
   "source": [
    "plot_cohesion(dfstv = dfs['stv'], coltemplate = \"cohesion_geographic_{}\", cohesionlabel = 'Coalition diversity: Geographic')"
   ]
  },
  {
   "cell_type": "markdown",
   "metadata": {},
   "source": [
    "Save plot when ranking second by partisan"
   ]
  },
  {
   "cell_type": "code",
   "execution_count": null,
   "metadata": {},
   "outputs": [],
   "source": [
    "fig = plt.figure(figsize = (12, 5))\n",
    "ax = plt.subplot(1,2, 1)\n",
    "plot_cohesion(dfstv = dfstvpartisan, coltemplate = \"cohesion_partisan_score_{}\"\n",
    "              , ax = ax, cohesionlabel = 'Coalition diversity', do_legend = False)\n",
    "ax.set_title('Partisan diversity', fontsize = 20)\n",
    "ax = plt.subplot(1,2, 2)\n",
    "plot_cohesion(dfstv = dfstvpartisan, coltemplate = \"cohesion_geographic_{}\"\n",
    "              , cohesionlabel = 'Coalition diversity (km)', ax = ax)\n",
    "ax.set_title('Geographic diversity', fontsize = 20)\n",
    "saveimage('cohesion_whenrankpartisan_both', extension = 'pdf')"
   ]
  },
  {
   "cell_type": "markdown",
   "metadata": {},
   "source": [
    "Save plot when ranking by goegraphy"
   ]
  },
  {
   "cell_type": "code",
   "execution_count": null,
   "metadata": {},
   "outputs": [],
   "source": [
    "fig = plt.figure(figsize = (12, 5))\n",
    "ax = plt.subplot(1,2, 1)\n",
    "plot_cohesion(dfstv = dfs['stv'], coltemplate = \"cohesion_partisan_score_{}\"\n",
    "              , ax = ax, cohesionlabel = 'Coalition diversity', do_legend = False)\n",
    "ax.set_title('Partisan diversity', fontsize = 20)\n",
    "ax = plt.subplot(1,2, 2)\n",
    "plot_cohesion(dfstv = dfs['stv'], coltemplate = \"cohesion_geographic_{}\"\n",
    "              , cohesionlabel = 'Coalition diversity (km)', ax = ax)\n",
    "ax.set_title('Geographic diversity', fontsize = 20)\n",
    "saveimage('cohesion_whenrankgeog_both', extension = 'pdf')"
   ]
  },
  {
   "cell_type": "code",
   "execution_count": null,
   "metadata": {},
   "outputs": [],
   "source": [
    "# plot_cohesion(dfstv = dfstvpartisan, coltemplate = \"cohesion_partisan_score_{}\")\n",
    "# saveimage('cohesion_partisan_whenrankpartisan', extension = 'pdf')"
   ]
  },
  {
   "cell_type": "code",
   "execution_count": null,
   "metadata": {},
   "outputs": [],
   "source": [
    "# plot_cohesion(dfstv = dfstvpartisan, coltemplate = \"cohesion_geographic_{}\", cohesionlabel = 'Coalition diversity: Geographic')\n",
    "# saveimage('cohesion_geographic_whenrankpartisan', extension = 'pdf')"
   ]
  },
  {
   "cell_type": "markdown",
   "metadata": {},
   "source": [
    "## Use medians -- intra-party winner diversity"
   ]
  },
  {
   "cell_type": "code",
   "execution_count": null,
   "metadata": {},
   "outputs": [],
   "source": [
    "def deal_with_medians(df):\n",
    "    df.loc[:,'medians'] = df.medians.apply(eval)\n",
    "    return df\n",
    "\n",
    "def add_intraparty_variances(df):\n",
    "    def fun_rep (x):\n",
    "        part = [y for y in x if y <=50]\n",
    "        if len(part) == 0: return np.nan\n",
    "        return np.std(part)\n",
    "    def fun_dem (x):\n",
    "        part = [y for y in x if y >50]\n",
    "        if len(part) == 0: return np.nan\n",
    "        return np.std(part)\n",
    "    \n",
    "    df['Republican_variance'] = df.medians.apply(fun_rep)\n",
    "    df['Democrat_variance'] = df.medians.apply(fun_dem)    \n",
    "    return df"
   ]
  },
  {
   "cell_type": "code",
   "execution_count": null,
   "metadata": {},
   "outputs": [],
   "source": [
    "dfstvpartisan = deal_with_medians(dfstvpartisan)"
   ]
  },
  {
   "cell_type": "code",
   "execution_count": null,
   "metadata": {},
   "outputs": [],
   "source": [
    "dfstvpartisan = add_intraparty_variances(dfstvpartisan)"
   ]
  },
  {
   "cell_type": "code",
   "execution_count": null,
   "metadata": {},
   "outputs": [],
   "source": [
    "plot_cohesion(dfstv = dfstvpartisan, coltemplate = \"{}_variance\", bbox_to_anchor=(.6,1)\n",
    "              , cohesionlabel = 'Intra-Party diversity: Partisan')\n",
    "saveimage('winnerdiversity_partisan_whenrankpartisan', extension = 'pdf')"
   ]
  },
  {
   "cell_type": "code",
   "execution_count": null,
   "metadata": {},
   "outputs": [],
   "source": [
    "dfs['stv'] = deal_with_medians(dfs['stv'])\n",
    "dfs['stv'] = add_intraparty_variances(dfs['stv'])"
   ]
  },
  {
   "cell_type": "code",
   "execution_count": null,
   "metadata": {},
   "outputs": [],
   "source": [
    "plot_cohesion(dfstv = dfs['stv'], coltemplate = \"{}_variance\", bbox_to_anchor=(.4,.8)\n",
    "             , cohesionlabel = 'Intra-Party diversity: Partisan')\n",
    "saveimage('winnerdiversity_partisan_whenrankgeo', extension = 'pdf')"
   ]
  },
  {
   "cell_type": "code",
   "execution_count": null,
   "metadata": {},
   "outputs": [],
   "source": []
  }
 ],
 "metadata": {
  "kernelspec": {
   "display_name": "Python 3",
   "language": "python",
   "name": "python3"
  },
  "language_info": {
   "codemirror_mode": {
    "name": "ipython",
    "version": 3
   },
   "file_extension": ".py",
   "mimetype": "text/x-python",
   "name": "python",
   "nbconvert_exporter": "python",
   "pygments_lexer": "ipython3",
   "version": "3.6.7"
  },
  "varInspector": {
   "cols": {
    "lenName": 16,
    "lenType": 16,
    "lenVar": 40
   },
   "kernels_config": {
    "python": {
     "delete_cmd_postfix": "",
     "delete_cmd_prefix": "del ",
     "library": "var_list.py",
     "varRefreshCmd": "print(var_dic_list())"
    },
    "r": {
     "delete_cmd_postfix": ") ",
     "delete_cmd_prefix": "rm(",
     "library": "var_list.r",
     "varRefreshCmd": "cat(var_dic_list()) "
    }
   },
   "types_to_exclude": [
    "module",
    "function",
    "builtin_function_or_method",
    "instance",
    "_Feature"
   ],
   "window_display": false
  }
 },
 "nbformat": 4,
 "nbformat_minor": 4
}
