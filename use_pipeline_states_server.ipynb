{
 "cells": [
  {
   "cell_type": "code",
   "execution_count": 3,
   "metadata": {},
   "outputs": [
    {
     "name": "stdout",
     "output_type": "stream",
     "text": [
      "The autoreload extension is already loaded. To reload it, use:\n",
      "  %reload_ext autoreload\n"
     ]
    }
   ],
   "source": [
    "import pickle\n",
    "import pandas as pd\n",
    "import numpy as np\n",
    "%load_ext autoreload\n",
    "%autoreload 2"
   ]
  },
  {
   "cell_type": "code",
   "execution_count": 4,
   "metadata": {},
   "outputs": [],
   "source": [
    "import pipeline_multiple_states"
   ]
  },
  {
   "cell_type": "code",
   "execution_count": 6,
   "metadata": {},
   "outputs": [],
   "source": [
    "custom_params = {\"VOTING_METHODS\": [\"thiele_pav\", \"thiele_approvalindependent\", \"thiele_squared\"] #\"stv\", \n",
    "                 , \"MAP_GENERATOR\" : \"from_optimization_and_sampling_runs_per_state\"}\n",
    "\n",
    "generator_params = {'maps_per_setting_num' : 100, 'maps_per_setting_num_order': [20]\n",
    "                    , 'states_todo': ['NC','CA', 'MA','TX']\n",
    "                   , \"district_directory\": \"../gerrymandering_and_social_choice/\"}\n",
    "\n",
    "data_params = {\"LOADING_FROM_DATA\" : True, \"VOTER_RAW_FILENAME\" : 'data/fullUS_individuals_with_FIP_6M_balanced.csv'\n",
    "               , \"FEATURE_COLS\":['dem_partisan_score']\n",
    "               , \"GROUP_COL\":'party',\n",
    "              'N_VOTERS' : 20000, 'N_VOTERS_STV' : 5000, 'N_CANDIDATES_PER_DISTRICT_GROUP' : 1,\n",
    "               'N_STV_CANDIDATES_MAX' : 1000,\n",
    "               \"DISTANCE_FUNCTION\" : 'party_first_then_geographicdistance' #'party_first_then_partisanscore'#\n",
    "            ,'CENSUS_TRACT_INFO_FILENAME':'data/state_df_tractinfo_combined.csv'\n",
    "              }\n",
    "data_params.update(generator_params)\n",
    "data_params.update(custom_params)\n",
    "data_params.update({'label':'moreindivdata_balanced'})"
   ]
  },
  {
   "cell_type": "code",
   "execution_count": null,
   "metadata": {
    "scrolled": true
   },
   "outputs": [
    {
     "name": "stdout",
     "output_type": "stream",
     "text": [
      "Loading existing clean voter file data/fullUS_individuals_with_FIP_6M_balanced_dem_partisan_score-party.csv\n",
      "(802202, 11)\n",
      "[20, 100]\n",
      "state:  NC setting_num:  20\n",
      "num_voters in state:  20000\n",
      "starting imap with pipeline\n",
      "20\n",
      "['NC_13_district_df.csv', 'NC_5_district_df.csv', 'NC_4_district_df.csv', 'NC_3_district_df.csv', 'NC_2_district_df.csv', 'NC_6_district_df.csv']\n",
      "NC_13_district_df.csv\n",
      "subsampled 30 optimized 73 119 "
     ]
    }
   ],
   "source": [
    "output = pipeline_multiple_states.meta_pipeline_states(data_params, save_file=\"cached_values/run_outputs_balanced.csv\")"
   ]
  },
  {
   "cell_type": "code",
   "execution_count": null,
   "metadata": {},
   "outputs": [],
   "source": []
  },
  {
   "cell_type": "code",
   "execution_count": null,
   "metadata": {},
   "outputs": [],
   "source": []
  },
  {
   "cell_type": "code",
   "execution_count": null,
   "metadata": {},
   "outputs": [],
   "source": []
  },
  {
   "cell_type": "code",
   "execution_count": 5,
   "metadata": {},
   "outputs": [],
   "source": [
    "custom_params = {\"VOTING_METHODS\": [\"stv\"] #, \n",
    "                 , \"MAP_GENERATOR\" : \"from_optimization_and_sampling_runs_per_state\"}\n",
    "\n",
    "generator_params = {'maps_per_setting_num' : 50, 'maps_per_setting_num_order': [25], 'states_todo': ['CA', 'MA','TX',  'NC']}\n",
    "\n",
    "data_params = {\"LOADING_FROM_DATA\" : True, \"VOTER_RAW_FILENAME\" : 'data/fullUS_individuals_with_FIP_2M.csv'\n",
    "               , \"FEATURE_COLS\":['dem_partisan_score']\n",
    "               , \"GROUP_COL\":'party',\n",
    "              'N_VOTERS' : 20000, 'N_VOTERS_STV' : 5000, 'N_CANDIDATES_PER_DISTRICT_GROUP' : 1,\n",
    "               'N_STV_CANDIDATES_MAX' : 1000,\n",
    "               \"DISTANCE_FUNCTION\" : 'party_first_then_geographicdistance' #'party_first_then_partisanscore'#\n",
    "            ,'CENSUS_TRACT_INFO_FILENAME':'data/state_df_tractinfo_combined.csv'\n",
    "              }\n",
    "data_params.update(generator_params)\n",
    "data_params.update(custom_params)\n",
    "data_params.update({'label':'moreindivdatasmallestv'})"
   ]
  },
  {
   "cell_type": "code",
   "execution_count": null,
   "metadata": {},
   "outputs": [
    {
     "name": "stdout",
     "output_type": "stream",
     "text": [
      "Loading existing clean voter file data/fullUS_individuals_with_FIP_2M_dem_partisan_score-party.csv\n",
      "(832065, 8)\n",
      "[25, 50]\n",
      "state:  CA setting_num:  25\n",
      "num_voters in state:  20000\n",
      "creating candidates and calculating voter rankings\n",
      "{'N_DISTRICTS': 2, 'N_GROUPS': 2, 'N_FEATURES': 1, 'FEATURE_DIST': ('UNIF', 0, 100), 'FEATURE_DIST_A0': ('UNIF', 50, 100), 'FEATURE_DIST_B0': ('UNIF', 0, 50), 'N_CENSUSBLOCKS': 4, 'CENSUSBLOCK_FRACTIONS_GROUPS': [[0.6, 0.4], [0.4, 0.6], [0.8, 0.2], [0.2, 0.8]], 'N_VOTERS': 20000, 'DISTANCE_FUNCTION': 'party_first_then_geographicdistance', 'DISTRICT_MAP': {0: [0, 1], 1: [2, 3]}, 'N_WINNERS_PER_DISTRICT': 1, 'VOTING_METHOD': 'approval', 'VALIDATION_DATA_FILENAME': 'data/house_winners_scores_2012.csv', 'VALIDATION_SCORE_COLS': ['recipient.cfscore', 'contributor.cfscore', 'recipient.cfscore.dyn', 'dwnom1', 'dwnom2', 'ps.dwnom1', 'ps.dwnom2', 'dwdime', 'irt.cfscore'], 'VALIDATION_DISTRICT_COL': 'district_clean', 'LOADING_FROM_DATA': True, 'VOTER_RAW_FILENAME': 'data/fullUS_individuals_with_FIP_2M.csv', 'FEATURE_COLS': ['dem_partisan_score'], 'GROUP_COL': 'party', 'N_VOTERS_STV': 5000, 'N_CANDIDATES_PER_DISTRICT_GROUP': 1, 'N_STV_CANDIDATES_MAX': 1000, 'CENSUS_TRACT_INFO_FILENAME': 'data/state_df_tractinfo_combined.csv', 'maps_per_setting_num': 50, 'maps_per_setting_num_order': [25], 'states_todo': ['CA', 'MA', 'TX', 'NC'], 'VOTING_METHODS': ['stv'], 'MAP_GENERATOR': 'from_optimization_and_sampling_runs_per_state', 'label': 'moreindivdatasmallestv', 'NUM_FEATURES': 1, 'GROUPS': array(['Democrat', 'Republican'], dtype=object)}\n",
      "loading STV candidates and voters from cache\n",
      "starting imap with pipeline\n",
      "25\n",
      "['CA_10_district_df.csv', 'CA_12_district_df.csv', 'CA_14_district_df.csv', 'CA_16_district_df.csv', 'CA_18_district_df.csv', 'CA_20_district_df.csv', 'CA_23_district_df.csv', 'CA_26_district_df.csv', 'CA_2_district_df.csv', 'CA_3_district_df.csv', 'CA_4_district_df.csv', 'CA_53_district_df.csv', 'CA_5_district_df.csv', 'CA_6_district_df.csv', 'CA_7_district_df.csv', 'CA_8_district_df.csv', 'CA_9_district_df.csv']\n",
      "CA_10_district_df.csv\n",
      "subsampled optimized (skipped: 100) CA_12_district_df.csv\n",
      "subsampled optimized (skipped: 200) CA_14_district_df.csv\n",
      "subsampled optimized (skipped: 300) CA_16_district_df.csv\n",
      "subsampled optimized (skipped: 400) CA_18_district_df.csv\n",
      "subsampled optimized (skipped: 500) CA_20_district_df.csv\n",
      "subsampled optimized (skipped: 600) CA_23_district_df.csv\n",
      "subsampled optimized (skipped: 700) CA_26_district_df.csv\n",
      "subsampled optimized (skipped: 800) CA_2_district_df.csv\n",
      "subsampled optimized (skipped: 900) CA_3_district_df.csv\n",
      "subsampled optimized (skipped: 1000) CA_4_district_df.csv\n",
      "subsampled optimized (skipped: 1100) CA_53_district_df.csv\n",
      "subsampled optimized (skipped: 1200) CA_5_district_df.csv\n",
      "subsampled optimized (skipped: 1300) CA_6_district_df.csv\n",
      "subsampled optimized (skipped: 1400) CA_7_district_df.csv\n",
      "subsampled optimized (skipped: 1500) CA_8_district_df.csv\n",
      "subsampled optimized (skipped: 1600) CA_9_district_df.csv\n",
      "subsampled optimized (skipped: 1700) state:  MA setting_num:  25\n",
      "num_voters in state:  20000\n",
      "creating candidates and calculating voter rankings\n",
      "{'N_DISTRICTS': 2, 'N_GROUPS': 2, 'N_FEATURES': 1, 'FEATURE_DIST': ('UNIF', 0, 100), 'FEATURE_DIST_A0': ('UNIF', 50, 100), 'FEATURE_DIST_B0': ('UNIF', 0, 50), 'N_CENSUSBLOCKS': 4, 'CENSUSBLOCK_FRACTIONS_GROUPS': [[0.6, 0.4], [0.4, 0.6], [0.8, 0.2], [0.2, 0.8]], 'N_VOTERS': 20000, 'DISTANCE_FUNCTION': 'party_first_then_geographicdistance', 'DISTRICT_MAP': {0: [0, 1], 1: [2, 3]}, 'N_WINNERS_PER_DISTRICT': 1, 'VOTING_METHOD': 'approval', 'VALIDATION_DATA_FILENAME': 'data/house_winners_scores_2012.csv', 'VALIDATION_SCORE_COLS': ['recipient.cfscore', 'contributor.cfscore', 'recipient.cfscore.dyn', 'dwnom1', 'dwnom2', 'ps.dwnom1', 'ps.dwnom2', 'dwdime', 'irt.cfscore'], 'VALIDATION_DISTRICT_COL': 'district_clean', 'LOADING_FROM_DATA': True, 'VOTER_RAW_FILENAME': 'data/fullUS_individuals_with_FIP_2M.csv', 'FEATURE_COLS': ['dem_partisan_score'], 'GROUP_COL': 'party', 'N_VOTERS_STV': 5000, 'N_CANDIDATES_PER_DISTRICT_GROUP': 1, 'N_STV_CANDIDATES_MAX': 1000, 'CENSUS_TRACT_INFO_FILENAME': 'data/state_df_tractinfo_combined.csv', 'maps_per_setting_num': 50, 'states_todo': ['CA', 'MA', 'TX', 'NC'], 'VOTING_METHODS': ['stv'], 'MAP_GENERATOR': 'from_optimization_and_sampling_runs_per_state', 'label': 'moreindivdatasmallestv', 'NUM_FEATURES': 1, 'GROUPS': array(['Republican', 'Democrat'], dtype=object), 'maps_per_setting_num_order': [25]}\n",
      "loading STV candidates and voters from cache\n",
      "starting imap with pipeline\n",
      "25\n",
      "['MA_2_district_df.csv', 'MA_3_district_df.csv', 'MA_4_district_df.csv', 'MA_9_district_df.csv']\n",
      "MA_2_district_df.csv\n",
      "subsampled optimized (skipped: 100) MA_3_district_df.csv\n",
      "subsampled optimized (skipped: 200) MA_4_district_df.csv\n",
      "subsampled optimized (skipped: 300) MA_9_district_df.csv\n",
      "subsampled optimized (skipped: 400) state:  TX setting_num:  25\n",
      "num_voters in state:  20000\n",
      "creating candidates and calculating voter rankings\n",
      "{'N_DISTRICTS': 2, 'N_GROUPS': 2, 'N_FEATURES': 1, 'FEATURE_DIST': ('UNIF', 0, 100), 'FEATURE_DIST_A0': ('UNIF', 50, 100), 'FEATURE_DIST_B0': ('UNIF', 0, 50), 'N_CENSUSBLOCKS': 4, 'CENSUSBLOCK_FRACTIONS_GROUPS': [[0.6, 0.4], [0.4, 0.6], [0.8, 0.2], [0.2, 0.8]], 'N_VOTERS': 20000, 'DISTANCE_FUNCTION': 'party_first_then_geographicdistance', 'DISTRICT_MAP': {0: [0, 1], 1: [2, 3]}, 'N_WINNERS_PER_DISTRICT': 1, 'VOTING_METHOD': 'approval', 'VALIDATION_DATA_FILENAME': 'data/house_winners_scores_2012.csv', 'VALIDATION_SCORE_COLS': ['recipient.cfscore', 'contributor.cfscore', 'recipient.cfscore.dyn', 'dwnom1', 'dwnom2', 'ps.dwnom1', 'ps.dwnom2', 'dwdime', 'irt.cfscore'], 'VALIDATION_DISTRICT_COL': 'district_clean', 'LOADING_FROM_DATA': True, 'VOTER_RAW_FILENAME': 'data/fullUS_individuals_with_FIP_2M.csv', 'FEATURE_COLS': ['dem_partisan_score'], 'GROUP_COL': 'party', 'N_VOTERS_STV': 5000, 'N_CANDIDATES_PER_DISTRICT_GROUP': 1, 'N_STV_CANDIDATES_MAX': 1000, 'CENSUS_TRACT_INFO_FILENAME': 'data/state_df_tractinfo_combined.csv', 'maps_per_setting_num': 50, 'states_todo': ['CA', 'MA', 'TX', 'NC'], 'VOTING_METHODS': ['stv'], 'MAP_GENERATOR': 'from_optimization_and_sampling_runs_per_state', 'label': 'moreindivdatasmallestv', 'NUM_FEATURES': 1, 'GROUPS': array(['Republican', 'Democrat'], dtype=object), 'maps_per_setting_num_order': [25]}\n",
      "loading STV candidates and voters from cache\n",
      "starting imap with pipeline\n",
      "25\n",
      "['TX_10_district_df.csv', 'TX_12_district_df.csv', 'TX_14_district_df.csv', 'TX_16_district_df.csv', 'TX_18_district_df.csv', 'TX_2_district_df.csv', 'TX_36_district_df.csv', 'TX_3_district_df.csv', 'TX_4_district_df.csv', 'TX_5_district_df.csv', 'TX_6_district_df.csv', 'TX_7_district_df.csv', 'TX_8_district_df.csv', 'TX_9_district_df.csv']\n",
      "TX_10_district_df.csv\n",
      "subsampled optimized (skipped: 100) TX_12_district_df.csv\n",
      "subsampled optimized (skipped: 200) TX_14_district_df.csv\n",
      "subsampled optimized (skipped: 300) TX_16_district_df.csv\n",
      "subsampled optimized (skipped: 400) TX_18_district_df.csv\n",
      "subsampled optimized (skipped: 500) TX_2_district_df.csv\n",
      "subsampled optimized (skipped: 600) TX_36_district_df.csv\n",
      "subsampled optimized (skipped: 700) TX_3_district_df.csv\n",
      "subsampled optimized (skipped: 800) TX_4_district_df.csv\n",
      "subsampled optimized (skipped: 900) TX_5_district_df.csv\n",
      "subsampled optimized (skipped: 1000) TX_6_district_df.csv\n",
      "subsampled optimized (skipped: 1100) TX_7_district_df.csv\n",
      "subsampled optimized (skipped: 1200) TX_8_district_df.csv\n",
      "subsampled optimized (skipped: 1300) TX_9_district_df.csv\n",
      "subsampled optimized (skipped: 1400) state:  NC setting_num:  25\n",
      "num_voters in state:  20000\n",
      "creating candidates and calculating voter rankings\n",
      "{'N_DISTRICTS': 2, 'N_GROUPS': 2, 'N_FEATURES': 1, 'FEATURE_DIST': ('UNIF', 0, 100), 'FEATURE_DIST_A0': ('UNIF', 50, 100), 'FEATURE_DIST_B0': ('UNIF', 0, 50), 'N_CENSUSBLOCKS': 4, 'CENSUSBLOCK_FRACTIONS_GROUPS': [[0.6, 0.4], [0.4, 0.6], [0.8, 0.2], [0.2, 0.8]], 'N_VOTERS': 20000, 'DISTANCE_FUNCTION': 'party_first_then_geographicdistance', 'DISTRICT_MAP': {0: [0, 1], 1: [2, 3]}, 'N_WINNERS_PER_DISTRICT': 1, 'VOTING_METHOD': 'approval', 'VALIDATION_DATA_FILENAME': 'data/house_winners_scores_2012.csv', 'VALIDATION_SCORE_COLS': ['recipient.cfscore', 'contributor.cfscore', 'recipient.cfscore.dyn', 'dwnom1', 'dwnom2', 'ps.dwnom1', 'ps.dwnom2', 'dwdime', 'irt.cfscore'], 'VALIDATION_DISTRICT_COL': 'district_clean', 'LOADING_FROM_DATA': True, 'VOTER_RAW_FILENAME': 'data/fullUS_individuals_with_FIP_2M.csv', 'FEATURE_COLS': ['dem_partisan_score'], 'GROUP_COL': 'party', 'N_VOTERS_STV': 5000, 'N_CANDIDATES_PER_DISTRICT_GROUP': 1, 'N_STV_CANDIDATES_MAX': 1000, 'CENSUS_TRACT_INFO_FILENAME': 'data/state_df_tractinfo_combined.csv', 'maps_per_setting_num': 50, 'states_todo': ['CA', 'MA', 'TX', 'NC'], 'VOTING_METHODS': ['stv'], 'MAP_GENERATOR': 'from_optimization_and_sampling_runs_per_state', 'label': 'moreindivdatasmallestv', 'NUM_FEATURES': 1, 'GROUPS': array(['Republican', 'Democrat'], dtype=object), 'maps_per_setting_num_order': [25]}\n",
      "loading STV candidates and voters from cache\n",
      "starting imap with pipeline\n",
      "25\n",
      "['NC_13_district_df.csv', 'NC_2_district_df.csv', 'NC_3_district_df.csv', 'NC_4_district_df.csv', 'NC_5_district_df.csv', 'NC_6_district_df.csv']\n",
      "NC_13_district_df.csv\n"
     ]
    },
    {
     "name": "stdout",
     "output_type": "stream",
     "text": [
      "subsampled optimized (skipped: 100) NC_2_district_df.csv\n",
      "subsampled optimized (skipped: 200) NC_3_district_df.csv\n",
      "subsampled optimized (skipped: 300) NC_4_district_df.csv\n",
      "subsampled optimized (skipped: 400) NC_5_district_df.csv\n",
      "subsampled optimized (skipped: 500) NC_6_district_df.csv\n",
      "subsampled optimized (skipped: 600) state:  CA setting_num:  50\n",
      "num_voters in state:  20000\n",
      "creating candidates and calculating voter rankings\n",
      "{'N_DISTRICTS': 2, 'N_GROUPS': 2, 'N_FEATURES': 1, 'FEATURE_DIST': ('UNIF', 0, 100), 'FEATURE_DIST_A0': ('UNIF', 50, 100), 'FEATURE_DIST_B0': ('UNIF', 0, 50), 'N_CENSUSBLOCKS': 4, 'CENSUSBLOCK_FRACTIONS_GROUPS': [[0.6, 0.4], [0.4, 0.6], [0.8, 0.2], [0.2, 0.8]], 'N_VOTERS': 20000, 'DISTANCE_FUNCTION': 'party_first_then_geographicdistance', 'DISTRICT_MAP': {0: [0, 1], 1: [2, 3]}, 'N_WINNERS_PER_DISTRICT': 1, 'VOTING_METHOD': 'approval', 'VALIDATION_DATA_FILENAME': 'data/house_winners_scores_2012.csv', 'VALIDATION_SCORE_COLS': ['recipient.cfscore', 'contributor.cfscore', 'recipient.cfscore.dyn', 'dwnom1', 'dwnom2', 'ps.dwnom1', 'ps.dwnom2', 'dwdime', 'irt.cfscore'], 'VALIDATION_DISTRICT_COL': 'district_clean', 'LOADING_FROM_DATA': True, 'VOTER_RAW_FILENAME': 'data/fullUS_individuals_with_FIP_2M.csv', 'FEATURE_COLS': ['dem_partisan_score'], 'GROUP_COL': 'party', 'N_VOTERS_STV': 5000, 'N_CANDIDATES_PER_DISTRICT_GROUP': 1, 'N_STV_CANDIDATES_MAX': 1000, 'CENSUS_TRACT_INFO_FILENAME': 'data/state_df_tractinfo_combined.csv', 'maps_per_setting_num': 50, 'states_todo': ['CA', 'MA', 'TX', 'NC'], 'VOTING_METHODS': ['stv'], 'MAP_GENERATOR': 'from_optimization_and_sampling_runs_per_state', 'label': 'moreindivdatasmallestv', 'NUM_FEATURES': 1, 'GROUPS': array(['Republican', 'Democrat'], dtype=object), 'maps_per_setting_num_order': [25]}\n",
      "loading STV candidates and voters from cache\n",
      "starting imap with pipeline\n",
      "50\n",
      "['CA_10_district_df.csv', 'CA_12_district_df.csv', 'CA_14_district_df.csv', 'CA_16_district_df.csv', 'CA_18_district_df.csv', 'CA_20_district_df.csv', 'CA_23_district_df.csv', 'CA_26_district_df.csv', 'CA_2_district_df.csv', 'CA_3_district_df.csv', 'CA_4_district_df.csv', 'CA_53_district_df.csv', 'CA_5_district_df.csv', 'CA_6_district_df.csv', 'CA_7_district_df.csv', 'CA_8_district_df.csv', 'CA_9_district_df.csv']\n",
      "CA_10_district_df.csv\n",
      "subsampled optimized (skipped: 100) (skipped: 200) CA_12_district_df.csv\n",
      "subsampled optimized (skipped: 300) (skipped: 400) CA_14_district_df.csv\n",
      "subsampled optimized (skipped: 500) (skipped: 600) CA_16_district_df.csv\n",
      "subsampled optimized (skipped: 700) (skipped: 800) CA_18_district_df.csv\n",
      "subsampled optimized (skipped: 900) (skipped: 1000) CA_20_district_df.csv\n",
      "subsampled optimized (skipped: 1100) (skipped: 1200) CA_23_district_df.csv\n",
      "subsampled optimized (skipped: 1300) (skipped: 1400) CA_26_district_df.csv\n",
      "subsampled optimized (skipped: 1500) (skipped: 1600) CA_2_district_df.csv\n",
      "subsampled optimized (skipped: 1700) (skipped: 1800) CA_3_district_df.csv\n",
      "subsampled optimized (skipped: 1900) 0 21 36 55 CA_4_district_df.csv\n",
      "subsampled (skipped: 2000) 70 optimized 86 107 124 142 CA_53_district_df.csv\n",
      "subsampled (skipped: 2100) optimized 185 CA_5_district_df.csv\n",
      "subsampled (skipped: 2200) 221 optimized 242 265 286 CA_6_district_df.csv\n",
      "subsampled (skipped: 2300) 309 optimized 337 364 (skipped: 2400) 390 CA_7_district_df.csv\n",
      "subsampled 412 optimized 442 (skipped: 2500) 470 CA_8_district_df.csv\n",
      "subsampled 504 optimized 541 (skipped: 2600) 577 CA_9_district_df.csv\n",
      "subsampled 614 optimized 648 (skipped: 2700) 688 state:  MA setting_num:  50\n",
      "num_voters in state:  20000\n",
      "creating candidates and calculating voter rankings\n",
      "{'N_DISTRICTS': 2, 'N_GROUPS': 2, 'N_FEATURES': 1, 'FEATURE_DIST': ('UNIF', 0, 100), 'FEATURE_DIST_A0': ('UNIF', 50, 100), 'FEATURE_DIST_B0': ('UNIF', 0, 50), 'N_CENSUSBLOCKS': 4, 'CENSUSBLOCK_FRACTIONS_GROUPS': [[0.6, 0.4], [0.4, 0.6], [0.8, 0.2], [0.2, 0.8]], 'N_VOTERS': 20000, 'DISTANCE_FUNCTION': 'party_first_then_geographicdistance', 'DISTRICT_MAP': {0: [0, 1], 1: [2, 3]}, 'N_WINNERS_PER_DISTRICT': 1, 'VOTING_METHOD': 'approval', 'VALIDATION_DATA_FILENAME': 'data/house_winners_scores_2012.csv', 'VALIDATION_SCORE_COLS': ['recipient.cfscore', 'contributor.cfscore', 'recipient.cfscore.dyn', 'dwnom1', 'dwnom2', 'ps.dwnom1', 'ps.dwnom2', 'dwdime', 'irt.cfscore'], 'VALIDATION_DISTRICT_COL': 'district_clean', 'LOADING_FROM_DATA': True, 'VOTER_RAW_FILENAME': 'data/fullUS_individuals_with_FIP_2M.csv', 'FEATURE_COLS': ['dem_partisan_score'], 'GROUP_COL': 'party', 'N_VOTERS_STV': 5000, 'N_CANDIDATES_PER_DISTRICT_GROUP': 1, 'N_STV_CANDIDATES_MAX': 1000, 'CENSUS_TRACT_INFO_FILENAME': 'data/state_df_tractinfo_combined.csv', 'maps_per_setting_num': 50, 'states_todo': ['CA', 'MA', 'TX', 'NC'], 'VOTING_METHODS': ['stv'], 'MAP_GENERATOR': 'from_optimization_and_sampling_runs_per_state', 'label': 'moreindivdatasmallestv', 'NUM_FEATURES': 1, 'GROUPS': array(['Republican', 'Democrat'], dtype=object), 'maps_per_setting_num_order': [25]}\n",
      "loading STV candidates and voters from cache\n",
      "starting imap with pipeline\n",
      "50\n",
      "['MA_2_district_df.csv', 'MA_3_district_df.csv', 'MA_4_district_df.csv', 'MA_9_district_df.csv']\n",
      "MA_2_district_df.csv\n",
      "subsampled 2 optimized 15 28 38 50 (skipped: 100) 62 73 MA_3_district_df.csv\n",
      "subsampled 85 optimized 106 "
     ]
    }
   ],
   "source": [
    "output = pipeline_multiple_states.meta_pipeline_states(data_params, save_file=\"cached_values/run_outputs_moreindiv.csv\")"
   ]
  },
  {
   "cell_type": "code",
   "execution_count": null,
   "metadata": {},
   "outputs": [],
   "source": []
  }
 ],
 "metadata": {
  "kernelspec": {
   "display_name": "Python 3",
   "language": "python",
   "name": "python3"
  },
  "language_info": {
   "codemirror_mode": {
    "name": "ipython",
    "version": 3
   },
   "file_extension": ".py",
   "mimetype": "text/x-python",
   "name": "python",
   "nbconvert_exporter": "python",
   "pygments_lexer": "ipython3",
   "version": "3.8.5"
  }
 },
 "nbformat": 4,
 "nbformat_minor": 4
}
