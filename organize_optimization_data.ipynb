{
 "cells": [
  {
   "cell_type": "code",
   "execution_count": 1,
   "metadata": {
    "ExecuteTime": {
     "end_time": "2021-08-10T20:32:32.680770Z",
     "start_time": "2021-08-10T20:32:29.764330Z"
    }
   },
   "outputs": [],
   "source": [
    "import pandas as pd\n",
    "import seaborn as sns\n",
    "import matplotlib.pyplot as plt\n",
    "import numpy as np\n",
    "%load_ext autoreload\n",
    "%autoreload 2\n",
    "from generic.latexify import *\n",
    "import copy"
   ]
  },
  {
   "cell_type": "code",
   "execution_count": 2,
   "metadata": {
    "ExecuteTime": {
     "end_time": "2021-08-10T20:32:32.879810Z",
     "start_time": "2021-08-10T20:32:32.776773Z"
    }
   },
   "outputs": [],
   "source": [
    "from visualization.settings import *\n",
    "from visualization.helpers import *\n",
    "from visualization.paperplots_20210706 import *"
   ]
  },
  {
   "cell_type": "code",
   "execution_count": 3,
   "metadata": {
    "ExecuteTime": {
     "end_time": "2021-08-10T20:32:33.111771Z",
     "start_time": "2021-08-10T20:32:33.006774Z"
    }
   },
   "outputs": [],
   "source": [
    "from optimize.analyze_results import *"
   ]
  },
  {
   "cell_type": "code",
   "execution_count": 4,
   "metadata": {
    "ExecuteTime": {
     "end_time": "2021-08-10T17:15:05.746658Z",
     "start_time": "2021-08-10T17:15:05.652660Z"
    }
   },
   "outputs": [],
   "source": [
    "template = 'combined'\n",
    "path = 'cached_values/outputs/organized'"
   ]
  },
  {
   "cell_type": "code",
   "execution_count": 10,
   "metadata": {
    "ExecuteTime": {
     "end_time": "2021-07-29T18:55:18.142235Z",
     "start_time": "2021-07-29T18:55:18.065545Z"
    }
   },
   "outputs": [],
   "source": [
    "methods = ['thiele_pav']#,'thiele_squared']"
   ]
  },
  {
   "cell_type": "code",
   "execution_count": 11,
   "metadata": {
    "ExecuteTime": {
     "end_time": "2021-07-29T18:56:07.042049Z",
     "start_time": "2021-07-29T18:55:22.820506Z"
    }
   },
   "outputs": [
    {
     "name": "stderr",
     "output_type": "stream",
     "text": [
      "C:\\Users\\Nikhil\\Miniconda3\\lib\\site-packages\\IPython\\core\\interactiveshell.py:3326: DtypeWarning: Columns (1,2,3,4,6,7,9,10,11,12,13,14,15,16,17,18,19,20,21,22,23) have mixed types. Specify dtype option on import or set low_memory=False.\n",
      "  exec(code_obj, self.user_global_ns, self.user_ns)\n",
      "C:\\Users\\Nikhil\\Miniconda3\\lib\\site-packages\\pandas\\core\\indexing.py:576: SettingWithCopyWarning: \n",
      "A value is trying to be set on a copy of a slice from a DataFrame.\n",
      "Try using .loc[row_indexer,col_indexer] = value instead\n",
      "\n",
      "See the caveats in the documentation: http://pandas.pydata.org/pandas-docs/stable/user_guide/indexing.html#returning-a-view-versus-a-copy\n",
      "  self.obj[item_labels[indexer[info_axis]]] = value\n",
      "C:\\Users\\Nikhil\\Miniconda3\\lib\\site-packages\\pandas\\core\\indexing.py:494: SettingWithCopyWarning: \n",
      "A value is trying to be set on a copy of a slice from a DataFrame.\n",
      "Try using .loc[row_indexer,col_indexer] = value instead\n",
      "\n",
      "See the caveats in the documentation: http://pandas.pydata.org/pandas-docs/stable/user_guide/indexing.html#returning-a-view-versus-a-copy\n",
      "  self.obj[item] = s\n"
     ]
    }
   ],
   "source": [
    "dfs = {method:load_organized_df(path, template, method) for method in methods}"
   ]
  },
  {
   "cell_type": "code",
   "execution_count": 13,
   "metadata": {
    "ExecuteTime": {
     "end_time": "2021-07-29T18:56:10.269330Z",
     "start_time": "2021-07-29T18:56:10.169343Z"
    }
   },
   "outputs": [
    {
     "data": {
      "text/html": [
       "<div>\n",
       "<style scoped>\n",
       "    .dataframe tbody tr th:only-of-type {\n",
       "        vertical-align: middle;\n",
       "    }\n",
       "\n",
       "    .dataframe tbody tr th {\n",
       "        vertical-align: top;\n",
       "    }\n",
       "\n",
       "    .dataframe thead th {\n",
       "        text-align: right;\n",
       "    }\n",
       "</style>\n",
       "<table border=\"1\" class=\"dataframe\">\n",
       "  <thead>\n",
       "    <tr style=\"text-align: right;\">\n",
       "      <th></th>\n",
       "      <th>state</th>\n",
       "      <th>state_num</th>\n",
       "      <th>N_districts</th>\n",
       "      <th>total_voters</th>\n",
       "      <th>total_winners</th>\n",
       "      <th>optimization</th>\n",
       "      <th>fraction_voters_Republican</th>\n",
       "      <th>fraction_winners_Republican</th>\n",
       "      <th>medians</th>\n",
       "      <th>cohesion_income_Republican</th>\n",
       "      <th>...</th>\n",
       "      <th>cohesion_education_Republican</th>\n",
       "      <th>cohesion_education_Democrat</th>\n",
       "      <th>cohesion_education</th>\n",
       "      <th>cohesion_racial_Republican</th>\n",
       "      <th>cohesion_racial_Democrat</th>\n",
       "      <th>cohesion_racial</th>\n",
       "      <th>cohesion_geographic_Republican</th>\n",
       "      <th>cohesion_geographic_Democrat</th>\n",
       "      <th>cohesion_geographic</th>\n",
       "      <th>N_winners_Republican</th>\n",
       "    </tr>\n",
       "  </thead>\n",
       "  <tbody>\n",
       "    <tr>\n",
       "      <td>0</td>\n",
       "      <td>AL</td>\n",
       "      <td>1</td>\n",
       "      <td>1</td>\n",
       "      <td>20000</td>\n",
       "      <td>7</td>\n",
       "      <td>single_district_for_state</td>\n",
       "      <td>0.62605</td>\n",
       "      <td>0.714286</td>\n",
       "      <td>[25.2, 60.1, 25.2, 41.3, 60.1, 34.7, 49.5]</td>\n",
       "      <td>-148.569861</td>\n",
       "      <td>...</td>\n",
       "      <td>-23.069944</td>\n",
       "      <td>-19.928822</td>\n",
       "      <td>-22.172481</td>\n",
       "      <td>-0.129282</td>\n",
       "      <td>-0.810184</td>\n",
       "      <td>-0.323825</td>\n",
       "      <td>-143687.669801</td>\n",
       "      <td>-139020.585379</td>\n",
       "      <td>-142354.217109</td>\n",
       "      <td>5.0</td>\n",
       "    </tr>\n",
       "    <tr>\n",
       "      <td>1</td>\n",
       "      <td>AL</td>\n",
       "      <td>1</td>\n",
       "      <td>2</td>\n",
       "      <td>20000</td>\n",
       "      <td>7</td>\n",
       "      <td>subsampled</td>\n",
       "      <td>0.62605</td>\n",
       "      <td>0.714286</td>\n",
       "      <td>[24.7, 61.4, 24.7, 25.5, 58.2, 25.5, 39.6]</td>\n",
       "      <td>-148.531990</td>\n",
       "      <td>...</td>\n",
       "      <td>-23.021523</td>\n",
       "      <td>-19.943621</td>\n",
       "      <td>-22.142122</td>\n",
       "      <td>-0.129017</td>\n",
       "      <td>-0.814337</td>\n",
       "      <td>-0.324822</td>\n",
       "      <td>-115311.266736</td>\n",
       "      <td>-106836.579708</td>\n",
       "      <td>-112889.927585</td>\n",
       "      <td>5.0</td>\n",
       "    </tr>\n",
       "    <tr>\n",
       "      <td>2</td>\n",
       "      <td>AL</td>\n",
       "      <td>1</td>\n",
       "      <td>2</td>\n",
       "      <td>20000</td>\n",
       "      <td>7</td>\n",
       "      <td>subsampled</td>\n",
       "      <td>0.62605</td>\n",
       "      <td>0.714286</td>\n",
       "      <td>[34.5, 77.2, 34.5, 20.3, 50.2, 20.3, 30.5]</td>\n",
       "      <td>-148.464195</td>\n",
       "      <td>...</td>\n",
       "      <td>-23.029066</td>\n",
       "      <td>-19.826545</td>\n",
       "      <td>-22.114060</td>\n",
       "      <td>-0.128275</td>\n",
       "      <td>-0.796164</td>\n",
       "      <td>-0.319101</td>\n",
       "      <td>-100779.108482</td>\n",
       "      <td>-101926.077413</td>\n",
       "      <td>-101106.813891</td>\n",
       "      <td>5.0</td>\n",
       "    </tr>\n",
       "    <tr>\n",
       "      <td>3</td>\n",
       "      <td>AL</td>\n",
       "      <td>1</td>\n",
       "      <td>2</td>\n",
       "      <td>20000</td>\n",
       "      <td>7</td>\n",
       "      <td>subsampled</td>\n",
       "      <td>0.62605</td>\n",
       "      <td>0.714286</td>\n",
       "      <td>[31.3, 70.4, 31.3, 21.4, 54.0, 21.4, 33.8]</td>\n",
       "      <td>-148.467890</td>\n",
       "      <td>...</td>\n",
       "      <td>-23.015391</td>\n",
       "      <td>-19.734669</td>\n",
       "      <td>-22.078042</td>\n",
       "      <td>-0.129073</td>\n",
       "      <td>-0.796341</td>\n",
       "      <td>-0.319721</td>\n",
       "      <td>-103936.310270</td>\n",
       "      <td>-104489.233080</td>\n",
       "      <td>-104094.288216</td>\n",
       "      <td>5.0</td>\n",
       "    </tr>\n",
       "    <tr>\n",
       "      <td>4</td>\n",
       "      <td>AL</td>\n",
       "      <td>1</td>\n",
       "      <td>2</td>\n",
       "      <td>20000</td>\n",
       "      <td>7</td>\n",
       "      <td>subsampled</td>\n",
       "      <td>0.62605</td>\n",
       "      <td>0.714286</td>\n",
       "      <td>[34.4, 76.5, 34.4, 20.3, 50.3, 20.3, 30.3]</td>\n",
       "      <td>-148.253679</td>\n",
       "      <td>...</td>\n",
       "      <td>-23.017350</td>\n",
       "      <td>-19.787178</td>\n",
       "      <td>-22.094444</td>\n",
       "      <td>-0.128841</td>\n",
       "      <td>-0.796355</td>\n",
       "      <td>-0.319560</td>\n",
       "      <td>-99407.726996</td>\n",
       "      <td>-100625.995792</td>\n",
       "      <td>-99755.803795</td>\n",
       "      <td>5.0</td>\n",
       "    </tr>\n",
       "  </tbody>\n",
       "</table>\n",
       "<p>5 rows × 25 columns</p>\n",
       "</div>"
      ],
      "text/plain": [
       "  state  state_num  N_districts  total_voters  total_winners  \\\n",
       "0    AL          1            1         20000              7   \n",
       "1    AL          1            2         20000              7   \n",
       "2    AL          1            2         20000              7   \n",
       "3    AL          1            2         20000              7   \n",
       "4    AL          1            2         20000              7   \n",
       "\n",
       "                optimization  fraction_voters_Republican  \\\n",
       "0  single_district_for_state                     0.62605   \n",
       "1                 subsampled                     0.62605   \n",
       "2                 subsampled                     0.62605   \n",
       "3                 subsampled                     0.62605   \n",
       "4                 subsampled                     0.62605   \n",
       "\n",
       "   fraction_winners_Republican                                     medians  \\\n",
       "0                     0.714286  [25.2, 60.1, 25.2, 41.3, 60.1, 34.7, 49.5]   \n",
       "1                     0.714286  [24.7, 61.4, 24.7, 25.5, 58.2, 25.5, 39.6]   \n",
       "2                     0.714286  [34.5, 77.2, 34.5, 20.3, 50.2, 20.3, 30.5]   \n",
       "3                     0.714286  [31.3, 70.4, 31.3, 21.4, 54.0, 21.4, 33.8]   \n",
       "4                     0.714286  [34.4, 76.5, 34.4, 20.3, 50.3, 20.3, 30.3]   \n",
       "\n",
       "   cohesion_income_Republican  ...  cohesion_education_Republican  \\\n",
       "0                 -148.569861  ...                     -23.069944   \n",
       "1                 -148.531990  ...                     -23.021523   \n",
       "2                 -148.464195  ...                     -23.029066   \n",
       "3                 -148.467890  ...                     -23.015391   \n",
       "4                 -148.253679  ...                     -23.017350   \n",
       "\n",
       "   cohesion_education_Democrat  cohesion_education  \\\n",
       "0                   -19.928822          -22.172481   \n",
       "1                   -19.943621          -22.142122   \n",
       "2                   -19.826545          -22.114060   \n",
       "3                   -19.734669          -22.078042   \n",
       "4                   -19.787178          -22.094444   \n",
       "\n",
       "   cohesion_racial_Republican  cohesion_racial_Democrat  cohesion_racial  \\\n",
       "0                   -0.129282                 -0.810184        -0.323825   \n",
       "1                   -0.129017                 -0.814337        -0.324822   \n",
       "2                   -0.128275                 -0.796164        -0.319101   \n",
       "3                   -0.129073                 -0.796341        -0.319721   \n",
       "4                   -0.128841                 -0.796355        -0.319560   \n",
       "\n",
       "   cohesion_geographic_Republican  cohesion_geographic_Democrat  \\\n",
       "0                  -143687.669801                -139020.585379   \n",
       "1                  -115311.266736                -106836.579708   \n",
       "2                  -100779.108482                -101926.077413   \n",
       "3                  -103936.310270                -104489.233080   \n",
       "4                   -99407.726996                -100625.995792   \n",
       "\n",
       "   cohesion_geographic  N_winners_Republican  \n",
       "0       -142354.217109                   5.0  \n",
       "1       -112889.927585                   5.0  \n",
       "2       -101106.813891                   5.0  \n",
       "3       -104094.288216                   5.0  \n",
       "4        -99755.803795                   5.0  \n",
       "\n",
       "[5 rows x 25 columns]"
      ]
     },
     "execution_count": 13,
     "metadata": {},
     "output_type": "execute_result"
    }
   ],
   "source": [
    "dfs['thiele_pav'].head()"
   ]
  },
  {
   "cell_type": "code",
   "execution_count": 49,
   "metadata": {
    "ExecuteTime": {
     "end_time": "2021-07-29T19:43:59.869421Z",
     "start_time": "2021-07-29T19:43:59.680175Z"
    }
   },
   "outputs": [
    {
     "data": {
      "text/plain": [
       "array(['single_district_for_state', 'subsampled', 'fair', 'unfair'],\n",
       "      dtype=object)"
      ]
     },
     "execution_count": 49,
     "metadata": {},
     "output_type": "execute_result"
    }
   ],
   "source": [
    "dfs['thiele_pav'].optimization.unique()"
   ]
  },
  {
   "cell_type": "code",
   "execution_count": 16,
   "metadata": {
    "ExecuteTime": {
     "end_time": "2021-07-29T18:58:03.298230Z",
     "start_time": "2021-07-29T18:58:03.182236Z"
    }
   },
   "outputs": [
    {
     "data": {
      "text/plain": [
       "Index(['state', 'state_num', 'N_districts', 'total_voters', 'total_winners',\n",
       "       'optimization', 'fraction_voters_Republican',\n",
       "       'fraction_winners_Republican', 'medians', 'cohesion_income_Republican',\n",
       "       'cohesion_income_Democrat', 'cohesion_income',\n",
       "       'cohesion_partisan_score_Republican',\n",
       "       'cohesion_partisan_score_Democrat', 'cohesion_partisan_score',\n",
       "       'cohesion_education_Republican', 'cohesion_education_Democrat',\n",
       "       'cohesion_education', 'cohesion_racial_Republican',\n",
       "       'cohesion_racial_Democrat', 'cohesion_racial',\n",
       "       'cohesion_geographic_Republican', 'cohesion_geographic_Democrat',\n",
       "       'cohesion_geographic', 'N_winners_Republican'],\n",
       "      dtype='object')"
      ]
     },
     "execution_count": 16,
     "metadata": {},
     "output_type": "execute_result"
    }
   ],
   "source": [
    "dfs['thiele_pav'].columns"
   ]
  },
  {
   "cell_type": "code",
   "execution_count": 14,
   "metadata": {
    "ExecuteTime": {
     "end_time": "2021-07-29T18:56:12.455436Z",
     "start_time": "2021-07-29T18:56:11.769586Z"
    }
   },
   "outputs": [
    {
     "data": {
      "text/plain": [
       "state                                 1720460\n",
       "state_num                             1720460\n",
       "N_districts                           1720460\n",
       "total_voters                          1720460\n",
       "total_winners                         1720460\n",
       "optimization                          1720460\n",
       "fraction_voters_Republican            1720460\n",
       "fraction_winners_Republican           1720460\n",
       "medians                               1720460\n",
       "cohesion_income_Republican            1693209\n",
       "cohesion_income_Democrat              1689231\n",
       "cohesion_income                       1720460\n",
       "cohesion_partisan_score_Republican    1693209\n",
       "cohesion_partisan_score_Democrat      1689231\n",
       "cohesion_partisan_score               1720460\n",
       "cohesion_education_Republican         1693209\n",
       "cohesion_education_Democrat           1689231\n",
       "cohesion_education                    1720460\n",
       "cohesion_racial_Republican            1693209\n",
       "cohesion_racial_Democrat              1689231\n",
       "cohesion_racial                       1720460\n",
       "cohesion_geographic_Republican        1693209\n",
       "cohesion_geographic_Democrat          1689231\n",
       "cohesion_geographic                   1720460\n",
       "N_winners_Republican                  1720460\n",
       "dtype: int64"
      ]
     },
     "execution_count": 14,
     "metadata": {},
     "output_type": "execute_result"
    }
   ],
   "source": [
    "dfs['thiele_pav'].count()"
   ]
  },
  {
   "cell_type": "markdown",
   "metadata": {},
   "source": [
    "Ok, so I want a dataframe per method with the following columns, from his code:\n",
    "\n",
    "'state', 'N_districts', 'total_winners',\n",
    "       'optimization',\n",
    "       'fraction_winners_Republican', N_winners_Republican\n",
    "       and add district_seat_shares\n",
    "       \n",
    "and do this for subsampled, dem_optimized, rep_optimized, and most-fair maps "
   ]
  },
  {
   "cell_type": "markdown",
   "metadata": {},
   "source": [
    "# Load code for loading from optimization outputs"
   ]
  },
  {
   "cell_type": "code",
   "execution_count": 5,
   "metadata": {
    "ExecuteTime": {
     "end_time": "2021-08-10T17:15:12.460637Z",
     "start_time": "2021-08-10T17:15:12.360618Z"
    }
   },
   "outputs": [],
   "source": [
    "experiment_dir = 'C:/Users/Nikhil/Box/Gerrymandering_and_Social_Choice/multimember_generation'"
   ]
  },
  {
   "cell_type": "code",
   "execution_count": 6,
   "metadata": {
    "ExecuteTime": {
     "end_time": "2021-08-10T17:15:16.046642Z",
     "start_time": "2021-08-10T17:15:12.984605Z"
    }
   },
   "outputs": [],
   "source": [
    "state_results = load_state('AL', experiment_dir=experiment_dir, load_block_assignments=False)"
   ]
  },
  {
   "cell_type": "code",
   "execution_count": 7,
   "metadata": {
    "ExecuteTime": {
     "end_time": "2021-08-10T17:15:18.694838Z",
     "start_time": "2021-08-10T17:15:18.601838Z"
    }
   },
   "outputs": [
    {
     "data": {
      "text/plain": [
       "<function dict.keys>"
      ]
     },
     "execution_count": 7,
     "metadata": {},
     "output_type": "execute_result"
    }
   ],
   "source": [
    "state_results.keys"
   ]
  },
  {
   "cell_type": "code",
   "execution_count": 8,
   "metadata": {
    "ExecuteTime": {
     "end_time": "2021-08-10T17:15:21.451839Z",
     "start_time": "2021-08-10T17:15:21.264845Z"
    }
   },
   "outputs": [
    {
     "ename": "NameError",
     "evalue": "name 'trial_results' is not defined",
     "output_type": "error",
     "traceback": [
      "\u001b[1;31m---------------------------------------------------------------------------\u001b[0m",
      "\u001b[1;31mNameError\u001b[0m                                 Traceback (most recent call last)",
      "\u001b[1;32m<ipython-input-8-ca318e087bf6>\u001b[0m in \u001b[0;36m<module>\u001b[1;34m\u001b[0m\n\u001b[1;32m----> 1\u001b[1;33m \u001b[0mprint\u001b[0m\u001b[1;33m(\u001b[0m\u001b[0mtrial_results\u001b[0m\u001b[1;33m[\u001b[0m\u001b[1;34m'optimization_results'\u001b[0m\u001b[1;33m]\u001b[0m\u001b[1;33m[\u001b[0m\u001b[1;34m'unfair'\u001b[0m\u001b[1;33m]\u001b[0m\u001b[1;33m.\u001b[0m\u001b[0mkeys\u001b[0m\u001b[1;33m(\u001b[0m\u001b[1;33m)\u001b[0m\u001b[1;33m)\u001b[0m\u001b[1;33m\u001b[0m\u001b[1;33m\u001b[0m\u001b[0m\n\u001b[0m",
      "\u001b[1;31mNameError\u001b[0m: name 'trial_results' is not defined"
     ]
    }
   ],
   "source": [
    "print(trial_results['optimization_results']['unfair'].keys())"
   ]
  },
  {
   "cell_type": "code",
   "execution_count": null,
   "metadata": {
    "ExecuteTime": {
     "end_time": "2021-08-10T17:15:21.457843Z",
     "start_time": "2021-08-10T17:15:17.518Z"
    }
   },
   "outputs": [],
   "source": [
    "rule = 'thiele_pav'\n",
    "rules = ['thiele_pav']"
   ]
  },
  {
   "cell_type": "markdown",
   "metadata": {},
   "source": [
    "'state', 'N_districts', 'total_winners',\n",
    "       'optimization',\n",
    "       'fraction_winners_Republican', N_winners_Republican\n",
    "       and add district_seat_shares\n",
    "       \n",
    "and do this for subsampled, dem_optimized, rep_optimized, and most-fair maps "
   ]
  },
  {
   "cell_type": "markdown",
   "metadata": {},
   "source": [
    "# organized file saving"
   ]
  },
  {
   "cell_type": "code",
   "execution_count": 4,
   "metadata": {
    "ExecuteTime": {
     "end_time": "2021-08-10T20:32:39.161945Z",
     "start_time": "2021-08-10T20:32:39.069936Z"
    }
   },
   "outputs": [],
   "source": [
    "experiment_dir = 'C:/Users/Nikhil/Box/Gerrymandering_and_Social_Choice/multimember_generation'\n",
    "rules = ['thiele_pav', 'thiele_squared', 'thiele_independent']\n",
    "outputfolder = 'cached_values/outputs/organized/'\n",
    "output_template = 'combined_directfromoptimization3_{}.csv'"
   ]
  },
  {
   "cell_type": "code",
   "execution_count": 5,
   "metadata": {
    "ExecuteTime": {
     "end_time": "2021-08-10T20:32:39.785714Z",
     "start_time": "2021-08-10T20:32:39.681714Z"
    }
   },
   "outputs": [],
   "source": [
    "import os"
   ]
  },
  {
   "cell_type": "code",
   "execution_count": 6,
   "metadata": {
    "ExecuteTime": {
     "end_time": "2021-08-10T20:32:40.465707Z",
     "start_time": "2021-08-10T20:32:40.351712Z"
    },
    "scrolled": false
   },
   "outputs": [],
   "source": [
    "def do_state(state):\n",
    "    state_results = load_state(state, experiment_dir=experiment_dir, load_block_assignments=False)\n",
    "    for trial_key, trial_results in state_results.items():\n",
    "        for rule in rules:\n",
    "            print(trial_key, rule, end = \" \")\n",
    "            d = []\n",
    "            state, n_districts = trial_key.split('_')\n",
    "            district_df = trial_results['district_df']\n",
    "            n_seats = district_df['n_seats'].values\n",
    "\n",
    "            #scores by district, which will be aggregated into plans\n",
    "            n_seats = district_df['n_seats']\n",
    "            n_seats_series = n_seats.reindex(range(0, max(n_seats.index)+1)).fillna(0).values\n",
    "            score_series = copy.deepcopy(trial_results['district_scores'][rule])\n",
    "            score_series = score_series.reindex(range(0, max(score_series.index)+1)).fillna(0).values\n",
    "            mean_vote_share = district_df['mean'].values\n",
    "            mean_vote_share_series = pd.Series(mean_vote_share, index=district_df.index)\n",
    "            mean_vote_share_series = mean_vote_share_series.reindex(range(0, max(mean_vote_share_series.index)+1)).values\n",
    "\n",
    "            fairdistrictlist = [\n",
    "                district_df.reset_index().node_id.iloc[x].values for x in np.array([trial_results['optimization_results']['fair'][rule][x]['solution_ixs'] for x in trial_results['optimization_results']['fair'][rule]]).tolist()\n",
    "            ]\n",
    "\n",
    "            optimization_plans = {\n",
    "                'subsampled': np.array(trial_results['subsampled_plans']),\n",
    "                'unfair_republicans': np.array(trial_results['optimization_results']['unfair'][rule]['r_opt_solutions']),\n",
    "                'unfair_democrats': np.array(trial_results['optimization_results']['unfair'][rule]['d_opt_solutions']),\n",
    "                'fair' : np.array(fairdistrictlist),\n",
    "            }\n",
    "\n",
    "            for optimization in optimization_plans:\n",
    "                l = len(optimization_plans[optimization])\n",
    "                ds = {'state': [state for _ in range(l)]\n",
    "                      , 'N_districts':[n_districts for _ in range(l)]\n",
    "                     , 'total_winners':n_seats_series[optimization_plans[optimization]].sum(axis=1)\n",
    "                      , 'optimization':[optimization for _ in range(l)]\n",
    "                      , 'N_winners_Republican':list(score_series[optimization_plans[optimization]].sum(axis=1))\n",
    "                      , 'district_vote_shares':mean_vote_share_series[optimization_plans[optimization]].tolist()\n",
    "                      , 'district_n_winners': n_seats_series[optimization_plans[optimization]].tolist()\n",
    "                      , 'district_n_winners_Republican' : score_series[optimization_plans[optimization]].tolist()\n",
    "                     }\n",
    "                assert len(pd.DataFrame(ds).total_winners.unique()) == 1\n",
    "                d.append(pd.DataFrame(ds))\n",
    "            d = pd.concat(d)\n",
    "            filename = '{}{}'.format(outputfolder, output_template.format(rule))\n",
    "            do_header = not os.path.exists(filename)\n",
    "            d.to_csv(filename, mode = 'a', index = False, header = do_header)\n",
    "        "
   ]
  },
  {
   "cell_type": "code",
   "execution_count": 7,
   "metadata": {
    "ExecuteTime": {
     "end_time": "2021-08-10T21:45:34.083289Z",
     "start_time": "2021-08-10T20:32:41.392712Z"
    },
    "scrolled": true
   },
   "outputs": [
    {
     "name": "stdout",
     "output_type": "stream",
     "text": [
      "AL_2 thiele_pav\n",
      "AL_2 thiele_squared\n",
      "AL_2 thiele_independent\n",
      "AL_3 thiele_pav\n",
      "AL_3 thiele_squared\n",
      "AL_3 thiele_independent\n",
      "AL_4 thiele_pav\n",
      "AL_4 thiele_squared\n",
      "AL_4 thiele_independent\n",
      "AL_5 thiele_pav\n",
      "AL_5 thiele_squared\n",
      "AL_5 thiele_independent\n",
      "AL_6 thiele_pav\n",
      "AL_6 thiele_squared\n",
      "AL_6 thiele_independent\n",
      "AL_7 thiele_pav\n",
      "AL_7 thiele_squared\n",
      "AL_7 thiele_independent\n",
      "AZ_2 thiele_pav\n",
      "AZ_2 thiele_squared\n",
      "AZ_2 thiele_independent\n",
      "AZ_3 thiele_pav\n",
      "AZ_3 thiele_squared\n",
      "AZ_3 thiele_independent\n",
      "AZ_4 thiele_pav\n",
      "AZ_4 thiele_squared\n",
      "AZ_4 thiele_independent\n",
      "AZ_5 thiele_pav\n",
      "AZ_5 thiele_squared\n",
      "AZ_5 thiele_independent\n",
      "AZ_6 thiele_pav\n",
      "AZ_6 thiele_squared\n",
      "AZ_6 thiele_independent\n",
      "AZ_7 thiele_pav\n",
      "AZ_7 thiele_squared\n",
      "AZ_7 thiele_independent\n",
      "AZ_8 thiele_pav\n",
      "AZ_8 thiele_squared\n",
      "AZ_8 thiele_independent\n",
      "AZ_9 thiele_pav\n",
      "AZ_9 thiele_squared\n",
      "AZ_9 thiele_independent\n",
      "AR_2 thiele_pav\n",
      "AR_2 thiele_squared\n",
      "AR_2 thiele_independent\n",
      "AR_3 thiele_pav\n",
      "AR_3 thiele_squared\n",
      "AR_3 thiele_independent\n",
      "AR_4 thiele_pav\n",
      "AR_4 thiele_squared\n",
      "AR_4 thiele_independent\n",
      "CA_10 thiele_pav\n",
      "CA_10 thiele_squared\n",
      "CA_10 thiele_independent\n",
      "CA_12 thiele_pav\n",
      "CA_12 thiele_squared\n",
      "CA_12 thiele_independent\n",
      "CA_14 thiele_pav\n",
      "CA_14 thiele_squared\n",
      "CA_14 thiele_independent\n",
      "CA_16 thiele_pav\n",
      "CA_16 thiele_squared\n",
      "CA_16 thiele_independent\n",
      "CA_18 thiele_pav\n",
      "CA_18 thiele_squared\n",
      "CA_18 thiele_independent\n",
      "CA_20 thiele_pav\n",
      "CA_20 thiele_squared\n",
      "CA_20 thiele_independent\n",
      "CA_23 thiele_pav\n",
      "CA_23 thiele_squared\n",
      "CA_23 thiele_independent\n",
      "CA_26 thiele_pav\n",
      "CA_26 thiele_squared\n",
      "CA_26 thiele_independent\n",
      "CA_29 thiele_pav\n",
      "CA_29 thiele_squared\n",
      "CA_29 thiele_independent\n",
      "CA_2 thiele_pav\n",
      "CA_2 thiele_squared\n",
      "CA_2 thiele_independent\n",
      "CA_32 thiele_pav\n",
      "CA_32 thiele_squared\n",
      "CA_32 thiele_independent\n",
      "CA_35 thiele_pav\n",
      "CA_35 thiele_squared\n",
      "CA_35 thiele_independent\n",
      "CA_38 thiele_pav\n",
      "CA_38 thiele_squared\n",
      "CA_38 thiele_independent\n",
      "CA_3 thiele_pav\n",
      "CA_3 thiele_squared\n",
      "CA_3 thiele_independent\n",
      "CA_41 thiele_pav\n",
      "CA_41 thiele_squared\n",
      "CA_41 thiele_independent\n",
      "CA_44 thiele_pav\n",
      "CA_44 thiele_squared\n",
      "CA_44 thiele_independent\n",
      "CA_47 thiele_pav\n",
      "CA_47 thiele_squared\n",
      "CA_47 thiele_independent\n",
      "CA_4 thiele_pav\n",
      "CA_4 thiele_squared\n",
      "CA_4 thiele_independent\n",
      "CA_50 thiele_pav\n",
      "CA_50 thiele_squared\n",
      "CA_50 thiele_independent\n",
      "CA_53 thiele_pav\n",
      "CA_53 thiele_squared\n",
      "CA_53 thiele_independent\n",
      "CA_5 thiele_pav\n",
      "CA_5 thiele_squared\n",
      "CA_5 thiele_independent\n",
      "CA_6 thiele_pav\n",
      "CA_6 thiele_squared\n",
      "CA_6 thiele_independent\n",
      "CA_7 thiele_pav\n",
      "CA_7 thiele_squared\n",
      "CA_7 thiele_independent\n",
      "CA_8 thiele_pav\n",
      "CA_8 thiele_squared\n",
      "CA_8 thiele_independent\n",
      "CA_9 thiele_pav\n",
      "CA_9 thiele_squared\n",
      "CA_9 thiele_independent\n",
      "CO_2 thiele_pav\n",
      "CO_2 thiele_squared\n",
      "CO_2 thiele_independent\n",
      "CO_3 thiele_pav\n",
      "CO_3 thiele_squared\n",
      "CO_3 thiele_independent\n",
      "CO_4 thiele_pav\n",
      "CO_4 thiele_squared\n",
      "CO_4 thiele_independent\n",
      "CO_5 thiele_pav\n",
      "CO_5 thiele_squared\n",
      "CO_5 thiele_independent\n",
      "CO_6 thiele_pav\n",
      "CO_6 thiele_squared\n",
      "CO_6 thiele_independent\n",
      "CO_7 thiele_pav\n",
      "CO_7 thiele_squared\n",
      "CO_7 thiele_independent\n",
      "CT_2 thiele_pav\n",
      "CT_2 thiele_squared\n",
      "CT_2 thiele_independent\n",
      "CT_3 thiele_pav\n",
      "CT_3 thiele_squared\n",
      "CT_3 thiele_independent\n",
      "CT_4 thiele_pav\n",
      "CT_4 thiele_squared\n",
      "CT_4 thiele_independent\n",
      "CT_5 thiele_pav\n",
      "CT_5 thiele_squared\n",
      "CT_5 thiele_independent\n",
      "FL_10 thiele_pav\n",
      "FL_10 thiele_squared\n",
      "FL_10 thiele_independent\n",
      "FL_12 thiele_pav\n",
      "FL_12 thiele_squared\n",
      "FL_12 thiele_independent\n",
      "FL_14 thiele_pav\n",
      "FL_14 thiele_squared\n",
      "FL_14 thiele_independent\n",
      "FL_16 thiele_pav\n",
      "FL_16 thiele_squared\n",
      "FL_16 thiele_independent\n",
      "FL_18 thiele_pav\n",
      "FL_18 thiele_squared\n",
      "FL_18 thiele_independent\n",
      "FL_20 thiele_pav\n",
      "FL_20 thiele_squared\n",
      "FL_20 thiele_independent\n",
      "FL_23 thiele_pav\n",
      "FL_23 thiele_squared\n",
      "FL_23 thiele_independent\n",
      "FL_26 thiele_pav\n",
      "FL_26 thiele_squared\n",
      "FL_26 thiele_independent\n",
      "FL_27 thiele_pav\n",
      "FL_27 thiele_squared\n",
      "FL_27 thiele_independent\n",
      "FL_2 thiele_pav\n",
      "FL_2 thiele_squared\n",
      "FL_2 thiele_independent\n",
      "FL_3 thiele_pav\n",
      "FL_3 thiele_squared\n",
      "FL_3 thiele_independent\n",
      "FL_4 thiele_pav\n",
      "FL_4 thiele_squared\n",
      "FL_4 thiele_independent\n",
      "FL_5 thiele_pav\n",
      "FL_5 thiele_squared\n",
      "FL_5 thiele_independent\n",
      "FL_6 thiele_pav\n",
      "FL_6 thiele_squared\n",
      "FL_6 thiele_independent\n",
      "FL_7 thiele_pav\n",
      "FL_7 thiele_squared\n",
      "FL_7 thiele_independent\n",
      "FL_8 thiele_pav\n",
      "FL_8 thiele_squared\n",
      "FL_8 thiele_independent\n",
      "FL_9 thiele_pav\n",
      "FL_9 thiele_squared\n",
      "FL_9 thiele_independent\n",
      "GA_10 thiele_pav\n",
      "GA_10 thiele_squared\n",
      "GA_10 thiele_independent\n",
      "GA_12 thiele_pav\n",
      "GA_12 thiele_squared\n",
      "GA_12 thiele_independent\n",
      "GA_14 thiele_pav\n",
      "GA_14 thiele_squared\n",
      "GA_14 thiele_independent\n",
      "GA_2 thiele_pav\n",
      "GA_2 thiele_squared\n",
      "GA_2 thiele_independent\n",
      "GA_3 thiele_pav\n",
      "GA_3 thiele_squared\n",
      "GA_3 thiele_independent\n",
      "GA_4 thiele_pav\n",
      "GA_4 thiele_squared\n",
      "GA_4 thiele_independent\n",
      "GA_5 thiele_pav\n",
      "GA_5 thiele_squared\n",
      "GA_5 thiele_independent\n",
      "GA_6 thiele_pav\n",
      "GA_6 thiele_squared\n",
      "GA_6 thiele_independent\n",
      "GA_7 thiele_pav\n",
      "GA_7 thiele_squared\n",
      "GA_7 thiele_independent\n",
      "GA_8 thiele_pav\n",
      "GA_8 thiele_squared\n",
      "GA_8 thiele_independent\n",
      "GA_9 thiele_pav\n",
      "GA_9 thiele_squared\n",
      "GA_9 thiele_independent\n",
      "HI_2 thiele_pav\n",
      "HI_2 thiele_squared\n",
      "HI_2 thiele_independent\n",
      "ID_2 thiele_pav\n",
      "ID_2 thiele_squared\n",
      "ID_2 thiele_independent\n",
      "IL_10 thiele_pav\n",
      "IL_10 thiele_squared\n",
      "IL_10 thiele_independent\n",
      "IL_12 thiele_pav\n",
      "IL_12 thiele_squared\n",
      "IL_12 thiele_independent\n",
      "IL_14 thiele_pav\n",
      "IL_14 thiele_squared\n",
      "IL_14 thiele_independent\n",
      "IL_16 thiele_pav\n",
      "IL_16 thiele_squared\n",
      "IL_16 thiele_independent\n",
      "IL_18 thiele_pav\n",
      "IL_18 thiele_squared\n",
      "IL_18 thiele_independent\n",
      "IL_2 thiele_pav\n",
      "IL_2 thiele_squared\n",
      "IL_2 thiele_independent\n",
      "IL_3 thiele_pav\n",
      "IL_3 thiele_squared\n",
      "IL_3 thiele_independent\n",
      "IL_4 thiele_pav\n",
      "IL_4 thiele_squared\n",
      "IL_4 thiele_independent\n",
      "IL_5 thiele_pav\n",
      "IL_5 thiele_squared\n",
      "IL_5 thiele_independent\n",
      "IL_6 thiele_pav\n",
      "IL_6 thiele_squared\n",
      "IL_6 thiele_independent\n",
      "IL_7 thiele_pav\n",
      "IL_7 thiele_squared\n",
      "IL_7 thiele_independent\n",
      "IL_8 thiele_pav\n",
      "IL_8 thiele_squared\n",
      "IL_8 thiele_independent\n",
      "IL_9 thiele_pav\n",
      "IL_9 thiele_squared\n",
      "IL_9 thiele_independent\n",
      "IN_2 thiele_pav\n",
      "IN_2 thiele_squared\n",
      "IN_2 thiele_independent\n",
      "IN_3 thiele_pav\n",
      "IN_3 thiele_squared\n",
      "IN_3 thiele_independent\n",
      "IN_4 thiele_pav\n",
      "IN_4 thiele_squared\n",
      "IN_4 thiele_independent\n",
      "IN_5 thiele_pav\n",
      "IN_5 thiele_squared\n",
      "IN_5 thiele_independent\n",
      "IN_6 thiele_pav\n",
      "IN_6 thiele_squared\n",
      "IN_6 thiele_independent\n",
      "IN_7 thiele_pav\n",
      "IN_7 thiele_squared\n",
      "IN_7 thiele_independent\n",
      "IN_8 thiele_pav\n",
      "IN_8 thiele_squared\n",
      "IN_8 thiele_independent\n",
      "IN_9 thiele_pav\n",
      "IN_9 thiele_squared\n",
      "IN_9 thiele_independent\n",
      "IA_2 thiele_pav\n",
      "IA_2 thiele_squared\n",
      "IA_2 thiele_independent\n",
      "IA_3 thiele_pav\n",
      "IA_3 thiele_squared\n",
      "IA_3 thiele_independent\n",
      "IA_4 thiele_pav\n",
      "IA_4 thiele_squared\n",
      "IA_4 thiele_independent\n",
      "KS_2 thiele_pav\n",
      "KS_2 thiele_squared\n",
      "KS_2 thiele_independent\n",
      "KS_3 thiele_pav\n",
      "KS_3 thiele_squared\n",
      "KS_3 thiele_independent\n",
      "KS_4 thiele_pav\n",
      "KS_4 thiele_squared\n",
      "KS_4 thiele_independent\n",
      "KY_2 thiele_pav\n",
      "KY_2 thiele_squared\n",
      "KY_2 thiele_independent\n",
      "KY_3 thiele_pav\n",
      "KY_3 thiele_squared\n",
      "KY_3 thiele_independent\n",
      "KY_4 thiele_pav\n",
      "KY_4 thiele_squared\n",
      "KY_4 thiele_independent\n",
      "KY_5 thiele_pav\n",
      "KY_5 thiele_squared\n",
      "KY_5 thiele_independent\n",
      "KY_6 thiele_pav\n",
      "KY_6 thiele_squared\n",
      "KY_6 thiele_independent\n",
      "LA_2 thiele_pav\n",
      "LA_2 thiele_squared\n",
      "LA_2 thiele_independent\n",
      "LA_3 thiele_pav\n",
      "LA_3 thiele_squared\n",
      "LA_3 thiele_independent\n",
      "LA_4 thiele_pav\n",
      "LA_4 thiele_squared\n",
      "LA_4 thiele_independent\n",
      "LA_5 thiele_pav\n",
      "LA_5 thiele_squared\n",
      "LA_5 thiele_independent\n",
      "LA_6 thiele_pav\n",
      "LA_6 thiele_squared\n",
      "LA_6 thiele_independent\n",
      "ME_2 thiele_pav\n",
      "ME_2 thiele_squared\n",
      "ME_2 thiele_independent\n",
      "MD_2 thiele_pav\n",
      "MD_2 thiele_squared\n",
      "MD_2 thiele_independent\n",
      "MD_3 thiele_pav\n",
      "MD_3 thiele_squared\n",
      "MD_3 thiele_independent\n",
      "MD_4 thiele_pav\n",
      "MD_4 thiele_squared\n",
      "MD_4 thiele_independent\n",
      "MD_5 thiele_pav\n",
      "MD_5 thiele_squared\n",
      "MD_5 thiele_independent\n",
      "MD_6 thiele_pav\n",
      "MD_6 thiele_squared\n",
      "MD_6 thiele_independent\n",
      "MD_7 thiele_pav\n",
      "MD_7 thiele_squared\n",
      "MD_7 thiele_independent\n",
      "MD_8 thiele_pav\n",
      "MD_8 thiele_squared\n",
      "MD_8 thiele_independent\n",
      "MA_2 thiele_pav\n",
      "MA_2 thiele_squared\n",
      "MA_2 thiele_independent\n",
      "MA_3 thiele_pav\n",
      "MA_3 thiele_squared\n",
      "MA_3 thiele_independent\n",
      "MA_4 thiele_pav\n",
      "MA_4 thiele_squared\n",
      "MA_4 thiele_independent\n",
      "MA_5 thiele_pav\n",
      "MA_5 thiele_squared\n",
      "MA_5 thiele_independent\n",
      "MA_6 thiele_pav\n",
      "MA_6 thiele_squared\n",
      "MA_6 thiele_independent\n",
      "MA_7 thiele_pav\n",
      "MA_7 thiele_squared\n",
      "MA_7 thiele_independent\n",
      "MA_8 thiele_pav\n",
      "MA_8 thiele_squared\n",
      "MA_8 thiele_independent\n",
      "MA_9 thiele_pav\n",
      "MA_9 thiele_squared\n",
      "MA_9 thiele_independent\n"
     ]
    },
    {
     "name": "stdout",
     "output_type": "stream",
     "text": [
      "MI_10 thiele_pav\n",
      "MI_10 thiele_squared\n",
      "MI_10 thiele_independent\n",
      "MI_12 thiele_pav\n",
      "MI_12 thiele_squared\n",
      "MI_12 thiele_independent\n",
      "MI_14 thiele_pav\n",
      "MI_14 thiele_squared\n",
      "MI_14 thiele_independent\n",
      "MI_2 thiele_pav\n",
      "MI_2 thiele_squared\n",
      "MI_2 thiele_independent\n",
      "MI_3 thiele_pav\n",
      "MI_3 thiele_squared\n",
      "MI_3 thiele_independent\n",
      "MI_4 thiele_pav\n",
      "MI_4 thiele_squared\n",
      "MI_4 thiele_independent\n",
      "MI_5 thiele_pav\n",
      "MI_5 thiele_squared\n",
      "MI_5 thiele_independent\n",
      "MI_6 thiele_pav\n",
      "MI_6 thiele_squared\n",
      "MI_6 thiele_independent\n",
      "MI_7 thiele_pav\n",
      "MI_7 thiele_squared\n",
      "MI_7 thiele_independent\n",
      "MI_8 thiele_pav\n",
      "MI_8 thiele_squared\n",
      "MI_8 thiele_independent\n",
      "MI_9 thiele_pav\n",
      "MI_9 thiele_squared\n",
      "MI_9 thiele_independent\n",
      "MN_2 thiele_pav\n",
      "MN_2 thiele_squared\n",
      "MN_2 thiele_independent\n",
      "MN_3 thiele_pav\n",
      "MN_3 thiele_squared\n",
      "MN_3 thiele_independent\n",
      "MN_4 thiele_pav\n",
      "MN_4 thiele_squared\n",
      "MN_4 thiele_independent\n",
      "MN_5 thiele_pav\n",
      "MN_5 thiele_squared\n",
      "MN_5 thiele_independent\n",
      "MN_6 thiele_pav\n",
      "MN_6 thiele_squared\n",
      "MN_6 thiele_independent\n",
      "MN_7 thiele_pav\n",
      "MN_7 thiele_squared\n",
      "MN_7 thiele_independent\n",
      "MN_8 thiele_pav\n",
      "MN_8 thiele_squared\n",
      "MN_8 thiele_independent\n",
      "MS_2 thiele_pav\n",
      "MS_2 thiele_squared\n",
      "MS_2 thiele_independent\n",
      "MS_3 thiele_pav\n",
      "MS_3 thiele_squared\n",
      "MS_3 thiele_independent\n",
      "MS_4 thiele_pav\n",
      "MS_4 thiele_squared\n",
      "MS_4 thiele_independent\n",
      "MO_2 thiele_pav\n",
      "MO_2 thiele_squared\n",
      "MO_2 thiele_independent\n",
      "MO_3 thiele_pav\n",
      "MO_3 thiele_squared\n",
      "MO_3 thiele_independent\n",
      "MO_4 thiele_pav\n",
      "MO_4 thiele_squared\n",
      "MO_4 thiele_independent\n",
      "MO_5 thiele_pav\n",
      "MO_5 thiele_squared\n",
      "MO_5 thiele_independent\n",
      "MO_6 thiele_pav\n",
      "MO_6 thiele_squared\n",
      "MO_6 thiele_independent\n",
      "MO_7 thiele_pav\n",
      "MO_7 thiele_squared\n",
      "MO_7 thiele_independent\n",
      "MO_8 thiele_pav\n",
      "MO_8 thiele_squared\n",
      "MO_8 thiele_independent\n",
      "NE_2 thiele_pav\n",
      "NE_2 thiele_squared\n",
      "NE_2 thiele_independent\n",
      "NE_3 thiele_pav\n",
      "NE_3 thiele_squared\n",
      "NE_3 thiele_i"
     ]
    },
    {
     "data": {
      "text/html": [
       "<b>limit_output extension: Maximum message size of 10000 exceeded with 10011 characters</b>"
      ]
     },
     "metadata": {},
     "output_type": "display_data"
    }
   ],
   "source": [
    "for state in state_constants:\n",
    "    do_state(state)"
   ]
  },
  {
   "cell_type": "code",
   "execution_count": null,
   "metadata": {},
   "outputs": [],
   "source": []
  }
 ],
 "metadata": {
  "kernelspec": {
   "display_name": "Python 3",
   "language": "python",
   "name": "python3"
  },
  "language_info": {
   "codemirror_mode": {
    "name": "ipython",
    "version": 3
   },
   "file_extension": ".py",
   "mimetype": "text/x-python",
   "name": "python",
   "nbconvert_exporter": "python",
   "pygments_lexer": "ipython3",
   "version": "3.6.7"
  },
  "varInspector": {
   "cols": {
    "lenName": 16,
    "lenType": 16,
    "lenVar": 40
   },
   "kernels_config": {
    "python": {
     "delete_cmd_postfix": "",
     "delete_cmd_prefix": "del ",
     "library": "var_list.py",
     "varRefreshCmd": "print(var_dic_list())"
    },
    "r": {
     "delete_cmd_postfix": ") ",
     "delete_cmd_prefix": "rm(",
     "library": "var_list.r",
     "varRefreshCmd": "cat(var_dic_list()) "
    }
   },
   "types_to_exclude": [
    "module",
    "function",
    "builtin_function_or_method",
    "instance",
    "_Feature"
   ],
   "window_display": false
  }
 },
 "nbformat": 4,
 "nbformat_minor": 2
}
